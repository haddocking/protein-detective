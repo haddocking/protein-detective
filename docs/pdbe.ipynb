{
 "cells": [
  {
   "cell_type": "markdown",
   "id": "8c6c14a2",
   "metadata": {},
   "source": [
    "# Download PDB files"
   ]
  },
  {
   "cell_type": "code",
   "execution_count": 3,
   "id": "76d592fd",
   "metadata": {},
   "outputs": [],
   "source": [
    "from pathlib import Path\n",
    "\n",
    "from protein_detective.pdbe.fetch import fetch"
   ]
  },
  {
   "cell_type": "code",
   "execution_count": null,
   "id": "bf4a2eee",
   "metadata": {},
   "outputs": [],
   "source": [
    "ids = [\n",
    "    \"4NDY\",  # structure of uniprot A8MT69\n",
    "    \"4DRA\",  # structure of uniprot A8MT69\n",
    "    \"1XWH\",  # structure of uniprot O43918\n",
    "]"
   ]
  },
  {
   "cell_type": "code",
   "execution_count": 13,
   "id": "32276155",
   "metadata": {},
   "outputs": [],
   "source": [
    "save_dir = Path(\"pdb_files\")"
   ]
  },
  {
   "cell_type": "code",
   "execution_count": 14,
   "id": "ebc18b30",
   "metadata": {},
   "outputs": [
    {
     "name": "stderr",
     "output_type": "stream",
     "text": [
      "Downloading PDBe files: 100%|██████████| 3/3 [00:00<00:00, 14.80it/s]\n"
     ]
    },
    {
     "data": {
      "text/plain": [
       "{'4NDY': PosixPath('pdb_files/pdb4ndy.ent.gz'),\n",
       " '4DRA': PosixPath('pdb_files/pdb4dra.ent.gz'),\n",
       " '1XWH': PosixPath('pdb_files/pdb1xwh.ent.gz')}"
      ]
     },
     "execution_count": 14,
     "metadata": {},
     "output_type": "execute_result"
    }
   ],
   "source": [
    "files = fetch(ids, save_dir)\n",
    "files"
   ]
  },
  {
   "cell_type": "code",
   "execution_count": 15,
   "id": "1a6b90d1",
   "metadata": {},
   "outputs": [
    {
     "name": "stdout",
     "output_type": "stream",
     "text": [
      "pdb1xwh.ent.gz\tpdb4dra.ent.gz\tpdb4ndy.ent.gz\n"
     ]
    }
   ],
   "source": [
    "!ls pdb_files"
   ]
  },
  {
   "cell_type": "markdown",
   "id": "634cbc22",
   "metadata": {},
   "source": [
    "## Prepare pdb file for powerfit"
   ]
  },
  {
   "cell_type": "code",
   "execution_count": 16,
   "id": "52a42ec2",
   "metadata": {},
   "outputs": [],
   "source": [
    "from protein_detective.pdbe.io import write_single_chain_pdb_file"
   ]
  },
  {
   "cell_type": "code",
   "execution_count": 29,
   "id": "be19565d",
   "metadata": {},
   "outputs": [],
   "source": [
    "# A8MT69\t4NDY\tB/D/H/L/M/N/U/V/W/X=8-81\tsession1/single_chain/A8MT69_pdb4ndy.ent_B2A.pdb\n",
    "write_single_chain_pdb_file(save_dir / \"pdb4ndy.ent.gz\", \"B\", save_dir / \"A8MT69_pdb4ndy.ent_B2A.pdb\")"
   ]
  },
  {
   "cell_type": "code",
   "execution_count": 32,
   "id": "cb56e8a1",
   "metadata": {},
   "outputs": [],
   "source": [
    "# A8MT69\t4DRA\tE/F/G/H=1-81\tsession1/single_chain/A8MT69_pdb4dra.ent_E2A.pdb\n",
    "write_single_chain_pdb_file(save_dir / \"pdb4dra.ent.gz\", \"E\", save_dir / \"8MT69_pdb4dra.ent_E2A.pdb\")"
   ]
  },
  {
   "cell_type": "code",
   "execution_count": 33,
   "id": "e226f0d0",
   "metadata": {},
   "outputs": [
    {
     "name": "stdout",
     "output_type": "stream",
     "text": [
      "ATOM   2963  N   SER A   8       6.408   5.257  13.887  1.00 43.28           N  \n",
      "ANISOU 2963  N   SER A   8     4833   6499   5112    441   -467    765       N  \n",
      "ATOM   2964  CA  SER A   8       7.476   5.663  14.795  1.00 43.47           C  \n",
      "ANISOU 2964  CA  SER A   8     4876   6407   5233    403   -382    789       C  \n",
      "ATOM   2965  C   SER A   8       8.137   4.466  15.470  1.00 46.74           C  \n",
      "ANISOU 2965  C   SER A   8     5313   6778   5670    322   -380    694       C  \n",
      "ATOM   2966  O   SER A   8       7.552   3.383  15.557  1.00 49.38           O  \n",
      "ANISOU 2966  O   SER A   8     5637   7147   5978    280   -440    606       O  \n",
      "ATOM   2967  CB  SER A   8       6.949   6.634  15.853  1.00 48.62           C  \n",
      "ANISOU 2967  CB  SER A   8     5482   6991   5999    394   -359    822       C  \n",
      "...\n",
      "ANISOU 3531  CD1 PHE A  81     3124   3804   3939   -214   -139    145       C  \n",
      "ATOM   3532  CD2 PHE A  81       7.294  -4.606  29.019  1.00 33.14           C  \n",
      "ANISOU 3532  CD2 PHE A  81     3761   4395   4435   -194   -183    126       C  \n",
      "ATOM   3533  CE1 PHE A  81       4.633  -3.869  29.064  1.00 38.40           C  \n",
      "ANISOU 3533  CE1 PHE A  81     4301   5103   5186   -236   -184    138       C  \n",
      "ATOM   3534  CE2 PHE A  81       6.620  -4.395  27.829  1.00 35.98           C  \n",
      "ANISOU 3534  CE2 PHE A  81     4067   4813   4793   -214   -224    121       C  \n",
      "ATOM   3535  CZ  PHE A  81       5.287  -4.028  27.851  1.00 41.87           C  \n",
      "ANISOU 3535  CZ  PHE A  81     4749   5582   5580   -234   -229    126       C  \n",
      "TER    3535      PHE A  81 "
     ]
    }
   ],
   "source": [
    "!head pdb_files/8MT69_pdb4dra.ent_E2A.pdb\n",
    "print(\"...\")\n",
    "!tail pdb_files/8MT69_pdb4dra.ent_E2A.pdb"
   ]
  },
  {
   "cell_type": "code",
   "execution_count": 36,
   "id": "673d1274",
   "metadata": {},
   "outputs": [],
   "source": [
    "write_single_chain_pdb_file(\n",
    "    \"pdb_files/pdb1xwh.ent.gz\",\n",
    "    \"A\",\n",
    "    \"pdb_files/O43918_pdb1xwh.ent_A2A.pdb\",\n",
    ")"
   ]
  },
  {
   "cell_type": "code",
   "execution_count": 37,
   "id": "3c609c3d",
   "metadata": {},
   "outputs": [
    {
     "name": "stdout",
     "output_type": "stream",
     "text": [
      "total 1504\n",
      "-rw-rw-r-- 1 verhoes verhoes  92853 Jun  4 11:25 8MT69_pdb4dra.ent_E2A.pdb\n",
      "-rw-rw-r-- 1 verhoes verhoes  95607 Jun  4 11:23 A8MT69_pdb4ndy.ent_B2A.pdb\n",
      "-rw-rw-r-- 1 verhoes verhoes  77220 Jun  4 11:28 O43918_pdb1xwh.ent_A2A.pdb\n",
      "-rw-rw-r-- 1 verhoes verhoes 322147 Jun  4 11:16 pdb1xwh.ent.gz\n",
      "-rw-rw-r-- 1 verhoes verhoes 227985 Jun  4 11:16 pdb4dra.ent.gz\n",
      "-rw-rw-r-- 1 verhoes verhoes 716296 Jun  4 11:16 pdb4ndy.ent.gz\n"
     ]
    }
   ],
   "source": [
    "!ls -l pdb_files/"
   ]
  },
  {
   "cell_type": "code",
   "execution_count": null,
   "id": "5f03eb2c",
   "metadata": {},
   "outputs": [],
   "source": []
  }
 ],
 "metadata": {
  "kernelspec": {
   "display_name": ".venv",
   "language": "python",
   "name": "python3"
  },
  "language_info": {
   "codemirror_mode": {
    "name": "ipython",
    "version": 3
   },
   "file_extension": ".py",
   "mimetype": "text/x-python",
   "name": "python",
   "nbconvert_exporter": "python",
   "pygments_lexer": "ipython3",
   "version": "3.13.2"
  }
 },
 "nbformat": 4,
 "nbformat_minor": 5
}
