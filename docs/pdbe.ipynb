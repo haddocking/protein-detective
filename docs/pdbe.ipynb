{
 "cells": [
  {
   "cell_type": "markdown",
   "id": "8c6c14a2",
   "metadata": {},
   "source": [
    "# Download PDB files"
   ]
  },
  {
   "cell_type": "code",
   "execution_count": 1,
   "id": "76d592fd",
   "metadata": {},
   "outputs": [],
   "source": [
    "from pathlib import Path\n",
    "\n",
    "from protein_detective.pdbe.fetch import fetch"
   ]
  },
  {
   "cell_type": "code",
   "execution_count": 2,
   "id": "bf4a2eee",
   "metadata": {},
   "outputs": [],
   "source": [
    "ids = [\n",
    "    \"4NDY\",\n",
    "    \"4DRA\",\n",
    "]"
   ]
  },
  {
   "cell_type": "code",
   "execution_count": 3,
   "id": "32276155",
   "metadata": {},
   "outputs": [],
   "source": [
    "save_dir = Path(\"pdb_files\")"
   ]
  },
  {
   "cell_type": "code",
   "execution_count": 8,
   "id": "ebc18b30",
   "metadata": {},
   "outputs": [
    {
     "name": "stderr",
     "output_type": "stream",
     "text": [
      "Downloading files: 100%|██████████| 2/2 [00:00<00:00, 10420.63it/s]\n"
     ]
    },
    {
     "data": {
      "text/plain": [
       "[PosixPath('pdb_files/pdb4ndy.ent.gz'), PosixPath('pdb_files/pdb4dra.ent.gz')]"
      ]
     },
     "execution_count": 8,
     "metadata": {},
     "output_type": "execute_result"
    }
   ],
   "source": [
    "files = fetch(ids, save_dir)\n",
    "files"
   ]
  },
  {
   "cell_type": "code",
   "execution_count": null,
   "id": "1a6b90d1",
   "metadata": {},
   "outputs": [],
   "source": []
  }
 ],
 "metadata": {
  "kernelspec": {
   "display_name": ".venv",
   "language": "python",
   "name": "python3"
  },
  "language_info": {
   "codemirror_mode": {
    "name": "ipython",
    "version": 3
   },
   "file_extension": ".py",
   "mimetype": "text/x-python",
   "name": "python",
   "nbconvert_exporter": "python",
   "pygments_lexer": "ipython3",
   "version": "3.13.2"
  }
 },
 "nbformat": 4,
 "nbformat_minor": 5
}
