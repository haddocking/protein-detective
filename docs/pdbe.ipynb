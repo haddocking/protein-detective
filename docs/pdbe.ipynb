{
 "cells": [
  {
   "cell_type": "markdown",
   "id": "8c6c14a2",
   "metadata": {},
   "source": [
    "# Download PDB files"
   ]
  },
  {
   "cell_type": "code",
   "execution_count": 13,
   "id": "76d592fd",
   "metadata": {},
   "outputs": [],
   "source": [
    "from pathlib import Path\n",
    "\n",
    "from protein_detective.pdbe.fetch import fetch"
   ]
  },
  {
   "cell_type": "code",
   "execution_count": 14,
   "id": "bf4a2eee",
   "metadata": {},
   "outputs": [],
   "source": [
    "ids = [\n",
    "    \"4NDY\",\n",
    "    \"4DRA\",\n",
    "    \"1XWH\",  # structure of uniprot O43918\n",
    "]"
   ]
  },
  {
   "cell_type": "code",
   "execution_count": 15,
   "id": "32276155",
   "metadata": {},
   "outputs": [],
   "source": [
    "save_dir = Path(\"pdb_files\")"
   ]
  },
  {
   "cell_type": "code",
   "execution_count": 16,
   "id": "ebc18b30",
   "metadata": {},
   "outputs": [
    {
     "name": "stderr",
     "output_type": "stream",
     "text": [
      "Downloading files: 100%|██████████| 3/3 [00:00<00:00, 12.58it/s]\n"
     ]
    },
    {
     "data": {
      "text/plain": [
       "[PosixPath('pdb_files/pdb1xwh.ent.gz'),\n",
       " PosixPath('pdb_files/pdb4ndy.ent.gz'),\n",
       " PosixPath('pdb_files/pdb4dra.ent.gz')]"
      ]
     },
     "execution_count": 16,
     "metadata": {},
     "output_type": "execute_result"
    }
   ],
   "source": [
    "files = fetch(ids, save_dir)\n",
    "files"
   ]
  },
  {
   "cell_type": "code",
   "execution_count": 5,
   "id": "1a6b90d1",
   "metadata": {},
   "outputs": [
    {
     "name": "stdout",
     "output_type": "stream",
     "text": [
      "pdb4dra.ent.gz\tpdb4ndy.ent.gz\n"
     ]
    }
   ],
   "source": [
    "!ls pdb_files"
   ]
  },
  {
   "cell_type": "markdown",
   "id": "634cbc22",
   "metadata": {},
   "source": [
    "## Prepare pdb file for powerfit"
   ]
  },
  {
   "cell_type": "code",
   "execution_count": null,
   "id": "52a42ec2",
   "metadata": {},
   "outputs": [],
   "source": [
    "from protein_detective.pdbe.io import write_single_chain_pdb_file"
   ]
  },
  {
   "cell_type": "code",
   "execution_count": null,
   "id": "c1f6ee51",
   "metadata": {},
   "outputs": [
    {
     "data": {
      "text/plain": [
       "PosixPath('pdb_files/pdb4ndy.ent.gz')"
      ]
     },
     "execution_count": 7,
     "metadata": {},
     "output_type": "execute_result"
    }
   ],
   "source": [
    "# for A8MT69 uniprot accession\n",
    "uniprot_chain = \"B/D/H/L/M/N/U/V/W/X=8-81\"\n",
    "output_file = save_dir / \"pdb4dra.A8MT69.pdb\""
   ]
  },
  {
   "cell_type": "code",
   "execution_count": null,
   "id": "cb56e8a1",
   "metadata": {},
   "outputs": [],
   "source": [
    "write_single_chain_pdb_file(\n",
    "    \"pdb_files/pdb4ndy.ent.gz\",\n",
    "    uniprot_chain,\n",
    "    output_file,\n",
    ")"
   ]
  },
  {
   "cell_type": "code",
   "execution_count": 12,
   "id": "e226f0d0",
   "metadata": {},
   "outputs": [
    {
     "name": "stdout",
     "output_type": "stream",
     "text": [
      "ATOM   5551  N   SER A   8      25.612 -96.563  -5.168  1.00327.15           N  \n",
      "ANISOU 5551  N   SER A   8    40524  31010  52765  -1016  -2341  -2179       N  \n",
      "ATOM   5552  CA  SER A   8      26.316 -95.860  -6.303  1.00330.38           C  \n",
      "ANISOU 5552  CA  SER A   8    41131  31364  53034   -868  -2740  -1816       C  \n",
      "ATOM   5553  C   SER A   8      27.852 -95.927  -6.148  1.00340.16           C  \n",
      "ANISOU 5553  C   SER A   8    42376  33408  53458   -496  -2306  -1244       C  \n",
      "ATOM   5554  O   SER A   8      28.369 -95.882  -5.023  1.00345.84           O  \n",
      "ANISOU 5554  O   SER A   8    42592  34844  53965   -456  -1915  -1256       O  \n",
      "ATOM   5555  CB  SER A   8      25.792 -94.419  -6.408  1.00303.77           C  \n",
      "ANISOU 5555  CB  SER A   8    37196  27756  50466  -1256  -3342  -2246       C  \n",
      "...\n",
      "ANISOU 6142  CD1 PHE A  81    32852  45880  45844   1321    874   -857       C  \n",
      "ATOM   6143  CD2 PHE A  81      42.754 -90.314   0.883  1.00330.51           C  \n",
      "ANISOU 6143  CD2 PHE A  81    32030  46596  46953   -194    745  -1684       C  \n",
      "ATOM   6144  CE1 PHE A  81      41.715 -92.806   0.228  1.00317.14           C  \n",
      "ANISOU 6144  CE1 PHE A  81    32098  43532  44866   1356    674   -761       C  \n",
      "ATOM   6145  CE2 PHE A  81      41.496 -90.693   1.346  1.00319.19           C  \n",
      "ANISOU 6145  CE2 PHE A  81    31163  44197  45917   -105    530  -1583       C  \n",
      "ATOM   6146  CZ  PHE A  81      40.974 -91.940   1.015  1.00313.33           C  \n",
      "ANISOU 6146  CZ  PHE A  81    31287  42782  44982    642    505  -1139       C  \n",
      "TER    6146      PHE A  81 "
     ]
    }
   ],
   "source": [
    "!head pdb_files/pdb4dra.A8MT69.pdb\n",
    "print(\"...\")\n",
    "!tail pdb_files/pdb4dra.A8MT69.pdb"
   ]
  },
  {
   "cell_type": "code",
   "execution_count": null,
   "id": "673d1274",
   "metadata": {},
   "outputs": [],
   "source": [
    "write_single_chain_pdb_file(\n",
    "    \"pdb_files/pdb1xwh.ent.gz\",\n",
    "    \"A=293-354\",\n",
    "    \"pdb_files/pdb1xwh.O43918.pdb\",\n",
    ")"
   ]
  },
  {
   "cell_type": "code",
   "execution_count": 18,
   "id": "3c609c3d",
   "metadata": {},
   "outputs": [
    {
     "name": "stdout",
     "output_type": "stream",
     "text": [
      "total 1416\n",
      "-rw-rw-r-- 1 verhoes verhoes 322147 May 23 12:23 pdb1xwh.ent.gz\n",
      "-rw-rw-r-- 1 verhoes verhoes  77220 May 23 12:25 pdb1xwh.O43918.pdb\n",
      "-rw-rw-r-- 1 verhoes verhoes  95607 May 23 12:18 pdb4dra.A8MT69.pdb\n",
      "-rw-rw-r-- 1 verhoes verhoes 232884 May 23 11:05 pdb4dra.ent.gz\n",
      "-rw-rw-r-- 1 verhoes verhoes 716296 May 23 11:05 pdb4ndy.ent.gz\n"
     ]
    }
   ],
   "source": [
    "!ls -l pdb_files/"
   ]
  },
  {
   "cell_type": "code",
   "execution_count": null,
   "id": "5f03eb2c",
   "metadata": {},
   "outputs": [],
   "source": []
  }
 ],
 "metadata": {
  "kernelspec": {
   "display_name": ".venv",
   "language": "python",
   "name": "python3"
  },
  "language_info": {
   "codemirror_mode": {
    "name": "ipython",
    "version": 3
   },
   "file_extension": ".py",
   "mimetype": "text/x-python",
   "name": "python",
   "nbconvert_exporter": "python",
   "pygments_lexer": "ipython3",
   "version": "3.13.2"
  }
 },
 "nbformat": 4,
 "nbformat_minor": 5
}
