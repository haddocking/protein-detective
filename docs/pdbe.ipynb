{
 "cells": [
  {
   "cell_type": "markdown",
   "id": "8c6c14a2",
   "metadata": {},
   "source": [
    "# Download PDB files"
   ]
  },
  {
   "cell_type": "code",
   "execution_count": 1,
   "id": "76d592fd",
   "metadata": {},
   "outputs": [],
   "source": [
    "from pathlib import Path\n",
    "\n",
    "from protein_detective.pdbe import fetch"
   ]
  },
  {
   "cell_type": "code",
   "execution_count": 2,
   "id": "bf4a2eee",
   "metadata": {},
   "outputs": [],
   "source": [
    "ids = [\n",
    "    \"4NDY\",\n",
    "    \"4DRA\",\n",
    "]\n"
   ]
  },
  {
   "cell_type": "code",
   "execution_count": 3,
   "id": "32276155",
   "metadata": {},
   "outputs": [],
   "source": [
    "save_dir = Path(\"pdb_files\")\n"
   ]
  },
  {
   "cell_type": "code",
   "execution_count": 4,
   "id": "ebc18b30",
   "metadata": {},
   "outputs": [
    {
     "name": "stderr",
     "output_type": "stream",
     "text": [
      "100%|██████████| 2/2 [00:00<00:00, 11081.38it/s]\n"
     ]
    }
   ],
   "source": [
    "await fetch(ids, save_dir)"
   ]
  },
  {
   "cell_type": "code",
   "execution_count": null,
   "id": "888d0d31",
   "metadata": {},
   "outputs": [],
   "source": []
  }
 ],
 "metadata": {
  "kernelspec": {
   "display_name": ".venv",
   "language": "python",
   "name": "python3"
  },
  "language_info": {
   "codemirror_mode": {
    "name": "ipython",
    "version": 3
   },
   "file_extension": ".py",
   "mimetype": "text/x-python",
   "name": "python",
   "nbconvert_exporter": "python",
   "pygments_lexer": "ipython3",
   "version": "3.13.2"
  }
 },
 "nbformat": 4,
 "nbformat_minor": 5
}
