{
 "cells": [
  {
   "cell_type": "markdown",
   "id": "8664b8a5",
   "metadata": {},
   "source": [
    "# Run workflow up to storing in database"
   ]
  },
  {
   "cell_type": "code",
   "execution_count": null,
   "id": "d7265a43",
   "metadata": {},
   "outputs": [],
   "source": [
    "from pathlib import Path\n",
    "from pprint import pprint\n",
    "\n",
    "from protein_detective.uniprot import Query\n",
    "from protein_detective.workflow import density_filter, retrieve_structures"
   ]
  },
  {
   "cell_type": "code",
   "execution_count": 2,
   "id": "b5a4649f",
   "metadata": {},
   "outputs": [],
   "source": [
    "import logging\n",
    "\n",
    "logging.basicConfig(level=logging.WARNING)\n",
    "# Set to WARNING to see only warnings\n",
    "# Set to INFO to see sparql queries\n",
    "# Set to DEBUG to see raw results"
   ]
  },
  {
   "cell_type": "code",
   "execution_count": 4,
   "id": "c049dc09",
   "metadata": {},
   "outputs": [
    {
     "data": {
      "text/plain": [
       "PosixPath('session1')"
      ]
     },
     "execution_count": 4,
     "metadata": {},
     "output_type": "execute_result"
    }
   ],
   "source": [
    "session_dir = Path(\"session1\")\n",
    "session_dir"
   ]
  },
  {
   "cell_type": "code",
   "execution_count": 3,
   "id": "d38ca4bd",
   "metadata": {},
   "outputs": [],
   "source": [
    "query = Query(\n",
    "    taxon_id=\"9606\",\n",
    "    reviewed=True,\n",
    "    subcellular_location_uniprot=\"nucleus\",\n",
    "    subcellular_location_go=\"GO:0005634\",  # Cellular component - Nucleus\n",
    "    molecular_function_go=\"GO:0003677\",  # Molecular function - DNA binding\n",
    ")"
   ]
  },
  {
   "cell_type": "code",
   "execution_count": 5,
   "id": "397cc198",
   "metadata": {},
   "outputs": [
    {
     "name": "stderr",
     "output_type": "stream",
     "text": [
      "WARNING:protein_detective.uniprot:Search for uniprot accessions returned 10 results. There may be more results available, but they are not returned due to the limit of 10. Consider increasing the limit to get more results.\n",
      "Downloading files: 0it [00:00, ?it/s]\n",
      "WARNING:protein_detective.uniprot:Search for alphafold entries on uniprot returned 10 results. There may be more results available, but they are not returned due to the limit of 10. Consider increasing the limit to get more results.\n",
      "Fetching summaries: 100%|██████████| 10/10 [00:00<00:00, 14.06it/s]\n",
      "Downloading files: 100%|██████████| 20/20 [00:00<00:00, 74.69it/s]\n"
     ]
    },
    {
     "data": {
      "text/plain": [
       "(PosixPath('session1/downloads'), 0, 10)"
      ]
     },
     "execution_count": 5,
     "metadata": {},
     "output_type": "execute_result"
    }
   ],
   "source": [
    "download_path, nr_pdbs, nr_alphafolds = retrieve_structures(query, session_dir, limit=10)\n",
    "download_path, nr_pdbs, nr_alphafolds"
   ]
  },
  {
   "cell_type": "code",
   "execution_count": 5,
   "id": "36e22f08",
   "metadata": {},
   "outputs": [],
   "source": [
    "from protein_detective.alphafold.density import DensityFilterQuery\n",
    "\n",
    "dquery = DensityFilterQuery(\n",
    "    confidence=70.0,\n",
    "    min_threshold=100,\n",
    "    max_threshold=500,\n",
    ")"
   ]
  },
  {
   "cell_type": "code",
   "execution_count": 7,
   "id": "f2784c5a",
   "metadata": {},
   "outputs": [
    {
     "name": "stdout",
     "output_type": "stream",
     "text": [
      "DensityFilterSessionResult(density_filtered_dir=PosixPath('session1/density_filtered'),\n",
      "                           nr_kept=5,\n",
      "                           nr_discarded=5)\n"
     ]
    }
   ],
   "source": [
    "result = density_filter(session_dir, dquery)\n",
    "pprint(result)"
   ]
  },
  {
   "cell_type": "markdown",
   "id": "8782a4ec",
   "metadata": {},
   "source": [
    "### Query session database"
   ]
  },
  {
   "cell_type": "code",
   "execution_count": 9,
   "id": "292ba542",
   "metadata": {},
   "outputs": [],
   "source": [
    "from protein_detective.db import db_path\n",
    "\n",
    "database = db_path(session_dir)"
   ]
  },
  {
   "cell_type": "code",
   "execution_count": 10,
   "id": "b3d79821",
   "metadata": {},
   "outputs": [
    {
     "data": {
      "text/html": [
       "<span style=\"None\">The &#x27;toml&#x27; package isn&#x27;t installed. To load settings from pyproject.toml or ~/.jupysql/config, install with: pip install toml</span>"
      ],
      "text/plain": [
       "The 'toml' package isn't installed. To load settings from pyproject.toml or ~/.jupysql/config, install with: pip install toml"
      ]
     },
     "metadata": {},
     "output_type": "display_data"
    }
   ],
   "source": [
    "import duckdb\n",
    "\n",
    "%load_ext sql\n",
    "conn = duckdb.connect(database)\n",
    "%sql conn --alias duckdb"
   ]
  },
  {
   "cell_type": "code",
   "execution_count": 10,
   "id": "834038b8",
   "metadata": {},
   "outputs": [
    {
     "data": {
      "text/html": [
       "<span style=\"None\">Running query in &#x27;duckdb&#x27;</span>"
      ],
      "text/plain": [
       "Running query in 'duckdb'"
      ]
     },
     "metadata": {},
     "output_type": "display_data"
    },
    {
     "data": {
      "text/html": [
       "<table>\n",
       "    <thead>\n",
       "        <tr>\n",
       "            <th>uniprot_acc</th>\n",
       "        </tr>\n",
       "    </thead>\n",
       "    <tbody>\n",
       "        <tr>\n",
       "            <td>A0A1W2PPM1</td>\n",
       "        </tr>\n",
       "        <tr>\n",
       "            <td>A0A0U1RQI7</td>\n",
       "        </tr>\n",
       "        <tr>\n",
       "            <td>A0A0C5B5G6</td>\n",
       "        </tr>\n",
       "        <tr>\n",
       "            <td>A0A1W2PPK0</td>\n",
       "        </tr>\n",
       "        <tr>\n",
       "            <td>A0A1B0GWH4</td>\n",
       "        </tr>\n",
       "        <tr>\n",
       "            <td>A0A1B0GVZ6</td>\n",
       "        </tr>\n",
       "        <tr>\n",
       "            <td>A0A1B0GTS1</td>\n",
       "        </tr>\n",
       "        <tr>\n",
       "            <td>A0A1W2PPF3</td>\n",
       "        </tr>\n",
       "        <tr>\n",
       "            <td>A0A1W2PQ73</td>\n",
       "        </tr>\n",
       "        <tr>\n",
       "            <td>A0A087WUV0</td>\n",
       "        </tr>\n",
       "    </tbody>\n",
       "</table>\n",
       "<span style=\"font-style:italic;text-align:center;\">Truncated to <a href=\"https://jupysql.ploomber.io/en/latest/api/configuration.html#displaylimit\">displaylimit</a> of 10.</span>"
      ],
      "text/plain": [
       "+-------------+\n",
       "| uniprot_acc |\n",
       "+-------------+\n",
       "|  A0A1W2PPM1 |\n",
       "|  A0A0U1RQI7 |\n",
       "|  A0A0C5B5G6 |\n",
       "|  A0A1W2PPK0 |\n",
       "|  A0A1B0GWH4 |\n",
       "|  A0A1B0GVZ6 |\n",
       "|  A0A1B0GTS1 |\n",
       "|  A0A1W2PPF3 |\n",
       "|  A0A1W2PQ73 |\n",
       "|  A0A087WUV0 |\n",
       "+-------------+\n",
       "Truncated to displaylimit of 10."
      ]
     },
     "execution_count": 10,
     "metadata": {},
     "output_type": "execute_result"
    }
   ],
   "source": [
    "%sql SELECT * FROM proteins"
   ]
  },
  {
   "cell_type": "code",
   "execution_count": 11,
   "id": "68e07caa",
   "metadata": {},
   "outputs": [
    {
     "data": {
      "text/html": [
       "<span style=\"None\">Running query in &#x27;duckdb&#x27;</span>"
      ],
      "text/plain": [
       "Running query in 'duckdb'"
      ]
     },
     "metadata": {},
     "output_type": "display_data"
    },
    {
     "data": {
      "text/html": [
       "<table>\n",
       "    <thead>\n",
       "        <tr>\n",
       "            <th>pdb_id</th>\n",
       "            <th>method</th>\n",
       "            <th>resolution</th>\n",
       "            <th>pdb_file</th>\n",
       "        </tr>\n",
       "    </thead>\n",
       "    <tbody>\n",
       "    </tbody>\n",
       "</table>"
      ],
      "text/plain": [
       "+--------+--------+------------+----------+\n",
       "| pdb_id | method | resolution | pdb_file |\n",
       "+--------+--------+------------+----------+\n",
       "+--------+--------+------------+----------+"
      ]
     },
     "execution_count": 11,
     "metadata": {},
     "output_type": "execute_result"
    }
   ],
   "source": [
    "%sql SELECT * FROM pdbs"
   ]
  },
  {
   "cell_type": "code",
   "execution_count": 12,
   "id": "558e3b8c",
   "metadata": {},
   "outputs": [
    {
     "data": {
      "text/html": [
       "<span style=\"None\">Running query in &#x27;duckdb&#x27;</span>"
      ],
      "text/plain": [
       "Running query in 'duckdb'"
      ]
     },
     "metadata": {},
     "output_type": "display_data"
    },
    {
     "data": {
      "text/html": [
       "<table>\n",
       "    <thead>\n",
       "        <tr>\n",
       "            <th>uniprot_acc</th>\n",
       "            <th>pdb_id</th>\n",
       "            <th>chain</th>\n",
       "            <th>single_chain_pdb_file</th>\n",
       "        </tr>\n",
       "    </thead>\n",
       "    <tbody>\n",
       "    </tbody>\n",
       "</table>"
      ],
      "text/plain": [
       "+-------------+--------+-------+-----------------------+\n",
       "| uniprot_acc | pdb_id | chain | single_chain_pdb_file |\n",
       "+-------------+--------+-------+-----------------------+\n",
       "+-------------+--------+-------+-----------------------+"
      ]
     },
     "execution_count": 12,
     "metadata": {},
     "output_type": "execute_result"
    }
   ],
   "source": [
    "%sql SELECT * FROM proteins_pdbs"
   ]
  },
  {
   "cell_type": "code",
   "execution_count": 13,
   "id": "7df63761",
   "metadata": {},
   "outputs": [
    {
     "data": {
      "text/html": [
       "<span style=\"None\">Running query in &#x27;duckdb&#x27;</span>"
      ],
      "text/plain": [
       "Running query in 'duckdb'"
      ]
     },
     "metadata": {},
     "output_type": "display_data"
    },
    {
     "data": {
      "text/html": [
       "<table>\n",
       "    <thead>\n",
       "        <tr>\n",
       "            <th>uniprot_acc</th>\n",
       "            <th>summary</th>\n",
       "            <th>pdb_file</th>\n",
       "            <th>pae_file</th>\n",
       "        </tr>\n",
       "    </thead>\n",
       "    <tbody>\n",
       "        <tr>\n",
       "            <td>A0A1W2PPM1</td>\n",
       "            <td>{\"entryId\":\"AF-A0A1W2PPM1-F1\",\"gene\":\"CPHXL\",\"sequenceChecksum\":\"D0786215762FBC17\",\"sequenceVersionDate\":\"2017-06-07\",\"uniprotAccession\":\"A0A1W2PPM1\",\"uniprotId\":\"CPHXL_HUMAN\",\"uniprotDescription\":\"Cytoplasmic polyadenylated homeobox-like\",\"taxId\":9606,\"organismScientificName\":\"Homo sapiens\",\"uniprotStart\":1,\"uniprotEnd\":405,\"uniprotSequence\":\"MNLDGTSGGFPAEEDHHNEERQTKNKRKTKHRHKFSEELLQELKEIFGENCYPDYTTRKTLAIKFDCPVNVIDNWFQNKRARLPPAERRRIFVLQKKHDFPVQAHSFLSCQETQAAAHNYATKQSLSGAQRALMRRAGCSHLEKQWIPSQEMGYNCFSLENQETPSQQVGPQCSYLEKPGIPSQQVGSQCSYLEKLGIPSQQVASQSSYLVTGTEKHPGCAMGYGGDTGSGHSGSGHSTAYHFLSYNSAECLHPPPSSVPYFHGERTETKESQHASPFLLDYAQGAYGVKKDHCLCSFCLSLLGQQQQNDWQYHLQQHQQPQNYLEGMMLQEQLPMDSGPWDLGKQWSSAQSQLQSQLPQNNGKPLCSQLQHMSLQIAADSPLLPLGQDMQERASEQPRTQMQQL\",\"modelCreatedDate\":\"2022-06-01\",\"latestVersion\":4,\"allVersions\":[1,2,3,4],\"bcifUrl\":\"https://alphafold.ebi.ac.uk/files/AF-A0A1W2PPM1-F1-model_v4.bcif\",\"cifUrl\":\"https://alphafold.ebi.ac.uk/files/AF-A0A1W2PPM1-F1-model_v4.cif\",\"pdbUrl\":\"https://alphafold.ebi.ac.uk/files/AF-A0A1W2PPM1-F1-model_v4.pdb\",\"paeImageUrl\":\"https://alphafold.ebi.ac.uk/files/AF-A0A1W2PPM1-F1-predicted_aligned_error_v4.png\",\"paeDocUrl\":\"https://alphafold.ebi.ac.uk/files/AF-A0A1W2PPM1-F1-predicted_aligned_error_v4.json\",\"amAnnotationsUrl\":\"https://alphafold.ebi.ac.uk/files/AF-A0A1W2PPM1-F1-aa-substitutions.csv\",\"amAnnotationsHg19Url\":null,\"amAnnotationsHg38Url\":\"https://alphafold.ebi.ac.uk/files/AF-A0A1W2PPM1-F1-hg38.csv\",\"isReviewed\":true,\"isReferenceProteome\":true}</td>\n",
       "            <td>session1/downloads/AF-A0A1W2PPM1-F1-model_v4.pdb</td>\n",
       "            <td>session1/downloads/AF-A0A1W2PPM1-F1-predicted_aligned_error_v4.json</td>\n",
       "        </tr>\n",
       "    </tbody>\n",
       "</table>"
      ],
      "text/plain": [
       "+-------------+--------------------------------------------------------------------------------------------------------------------------------------------------------------------------------------------------------------------------------------------------------------------------------------------------------------------------------------------------------------------------------------------------------------------------------------------------------------------------------------------------------------------------------------------------------------------------------------------------------------------------------------------------------------------------------------------------------------------------------------------------------------------------------------------------------------------------------------------------------------------------------------------------------------------------------------------------------------------------------------------------------------------------------------------------------------------------------------------------------------------------------------------------------------------------------------------------------------------------------------------------------------------------------------------------------------------------------------------------------------------------------------------------------------------------------------------------------------------------------------------------------------------------------------------------------------+--------------------------------------------------+---------------------------------------------------------------------+\n",
       "| uniprot_acc |                                                                                                                                                                                                                                                                                                                                                                                                                                                                                                                                                                                                                                                                                                                                                                           summary                                                                                                                                                                                                                                                                                                                                                                                                                                                                                                                                                                                                                                                                                                                                                                            |                     pdb_file                     |                               pae_file                              |\n",
       "+-------------+--------------------------------------------------------------------------------------------------------------------------------------------------------------------------------------------------------------------------------------------------------------------------------------------------------------------------------------------------------------------------------------------------------------------------------------------------------------------------------------------------------------------------------------------------------------------------------------------------------------------------------------------------------------------------------------------------------------------------------------------------------------------------------------------------------------------------------------------------------------------------------------------------------------------------------------------------------------------------------------------------------------------------------------------------------------------------------------------------------------------------------------------------------------------------------------------------------------------------------------------------------------------------------------------------------------------------------------------------------------------------------------------------------------------------------------------------------------------------------------------------------------------------------------------------------------+--------------------------------------------------+---------------------------------------------------------------------+\n",
       "|  A0A1W2PPM1 | {\"entryId\":\"AF-A0A1W2PPM1-F1\",\"gene\":\"CPHXL\",\"sequenceChecksum\":\"D0786215762FBC17\",\"sequenceVersionDate\":\"2017-06-07\",\"uniprotAccession\":\"A0A1W2PPM1\",\"uniprotId\":\"CPHXL_HUMAN\",\"uniprotDescription\":\"Cytoplasmic polyadenylated homeobox-like\",\"taxId\":9606,\"organismScientificName\":\"Homo sapiens\",\"uniprotStart\":1,\"uniprotEnd\":405,\"uniprotSequence\":\"MNLDGTSGGFPAEEDHHNEERQTKNKRKTKHRHKFSEELLQELKEIFGENCYPDYTTRKTLAIKFDCPVNVIDNWFQNKRARLPPAERRRIFVLQKKHDFPVQAHSFLSCQETQAAAHNYATKQSLSGAQRALMRRAGCSHLEKQWIPSQEMGYNCFSLENQETPSQQVGPQCSYLEKPGIPSQQVGSQCSYLEKLGIPSQQVASQSSYLVTGTEKHPGCAMGYGGDTGSGHSGSGHSTAYHFLSYNSAECLHPPPSSVPYFHGERTETKESQHASPFLLDYAQGAYGVKKDHCLCSFCLSLLGQQQQNDWQYHLQQHQQPQNYLEGMMLQEQLPMDSGPWDLGKQWSSAQSQLQSQLPQNNGKPLCSQLQHMSLQIAADSPLLPLGQDMQERASEQPRTQMQQL\",\"modelCreatedDate\":\"2022-06-01\",\"latestVersion\":4,\"allVersions\":[1,2,3,4],\"bcifUrl\":\"https://alphafold.ebi.ac.uk/files/AF-A0A1W2PPM1-F1-model_v4.bcif\",\"cifUrl\":\"https://alphafold.ebi.ac.uk/files/AF-A0A1W2PPM1-F1-model_v4.cif\",\"pdbUrl\":\"https://alphafold.ebi.ac.uk/files/AF-A0A1W2PPM1-F1-model_v4.pdb\",\"paeImageUrl\":\"https://alphafold.ebi.ac.uk/files/AF-A0A1W2PPM1-F1-predicted_aligned_error_v4.png\",\"paeDocUrl\":\"https://alphafold.ebi.ac.uk/files/AF-A0A1W2PPM1-F1-predicted_aligned_error_v4.json\",\"amAnnotationsUrl\":\"https://alphafold.ebi.ac.uk/files/AF-A0A1W2PPM1-F1-aa-substitutions.csv\",\"amAnnotationsHg19Url\":null,\"amAnnotationsHg38Url\":\"https://alphafold.ebi.ac.uk/files/AF-A0A1W2PPM1-F1-hg38.csv\",\"isReviewed\":true,\"isReferenceProteome\":true} | session1/downloads/AF-A0A1W2PPM1-F1-model_v4.pdb | session1/downloads/AF-A0A1W2PPM1-F1-predicted_aligned_error_v4.json |\n",
       "+-------------+--------------------------------------------------------------------------------------------------------------------------------------------------------------------------------------------------------------------------------------------------------------------------------------------------------------------------------------------------------------------------------------------------------------------------------------------------------------------------------------------------------------------------------------------------------------------------------------------------------------------------------------------------------------------------------------------------------------------------------------------------------------------------------------------------------------------------------------------------------------------------------------------------------------------------------------------------------------------------------------------------------------------------------------------------------------------------------------------------------------------------------------------------------------------------------------------------------------------------------------------------------------------------------------------------------------------------------------------------------------------------------------------------------------------------------------------------------------------------------------------------------------------------------------------------------------+--------------------------------------------------+---------------------------------------------------------------------+"
      ]
     },
     "execution_count": 13,
     "metadata": {},
     "output_type": "execute_result"
    }
   ],
   "source": [
    "%sql SELECT * FROM alphafolds LIMIT 1"
   ]
  },
  {
   "cell_type": "code",
   "execution_count": 14,
   "id": "5133e55c",
   "metadata": {},
   "outputs": [
    {
     "data": {
      "text/html": [
       "<span style=\"None\">Running query in &#x27;duckdb&#x27;</span>"
      ],
      "text/plain": [
       "Running query in 'duckdb'"
      ]
     },
     "metadata": {},
     "output_type": "display_data"
    },
    {
     "data": {
      "text/html": [
       "<table>\n",
       "    <thead>\n",
       "        <tr>\n",
       "            <th>count_star()</th>\n",
       "        </tr>\n",
       "    </thead>\n",
       "    <tbody>\n",
       "        <tr>\n",
       "            <td>10</td>\n",
       "        </tr>\n",
       "    </tbody>\n",
       "</table>"
      ],
      "text/plain": [
       "+--------------+\n",
       "| count_star() |\n",
       "+--------------+\n",
       "|      10      |\n",
       "+--------------+"
      ]
     },
     "execution_count": 14,
     "metadata": {},
     "output_type": "execute_result"
    }
   ],
   "source": [
    "%sql SELECT count(*) FROM alphafolds"
   ]
  },
  {
   "cell_type": "code",
   "execution_count": 15,
   "id": "cba6fda6",
   "metadata": {},
   "outputs": [
    {
     "data": {
      "text/html": [
       "<span style=\"None\">Running query in &#x27;duckdb&#x27;</span>"
      ],
      "text/plain": [
       "Running query in 'duckdb'"
      ]
     },
     "metadata": {},
     "output_type": "display_data"
    },
    {
     "data": {
      "text/html": [
       "<table>\n",
       "    <thead>\n",
       "        <tr>\n",
       "            <th>uniprot_acc</th>\n",
       "            <th>taxId</th>\n",
       "            <th>uniprotStart</th>\n",
       "            <th>uniprotEnd</th>\n",
       "            <th>gene</th>\n",
       "        </tr>\n",
       "    </thead>\n",
       "    <tbody>\n",
       "        <tr>\n",
       "            <td>A0A1W2PPM1</td>\n",
       "            <td>9606</td>\n",
       "            <td>1</td>\n",
       "            <td>405</td>\n",
       "            <td>\"CPHXL\"</td>\n",
       "        </tr>\n",
       "        <tr>\n",
       "            <td>A0A0U1RQI7</td>\n",
       "            <td>9606</td>\n",
       "            <td>1</td>\n",
       "            <td>1052</td>\n",
       "            <td>\"KLF18\"</td>\n",
       "        </tr>\n",
       "        <tr>\n",
       "            <td>A0A0C5B5G6</td>\n",
       "            <td>9606</td>\n",
       "            <td>1</td>\n",
       "            <td>16</td>\n",
       "            <td>\"MT-RNR1\"</td>\n",
       "        </tr>\n",
       "        <tr>\n",
       "            <td>A0A1W2PPK0</td>\n",
       "            <td>9606</td>\n",
       "            <td>1</td>\n",
       "            <td>400</td>\n",
       "            <td>\"Unknown\"</td>\n",
       "        </tr>\n",
       "        <tr>\n",
       "            <td>A0A1B0GWH4</td>\n",
       "            <td>9606</td>\n",
       "            <td>1</td>\n",
       "            <td>333</td>\n",
       "            <td>\"HSFX3\"</td>\n",
       "        </tr>\n",
       "        <tr>\n",
       "            <td>A0A1B0GVZ6</td>\n",
       "            <td>9606</td>\n",
       "            <td>1</td>\n",
       "            <td>204</td>\n",
       "            <td>\"MBD3L2B\"</td>\n",
       "        </tr>\n",
       "        <tr>\n",
       "            <td>A0A1B0GTS1</td>\n",
       "            <td>9606</td>\n",
       "            <td>1</td>\n",
       "            <td>333</td>\n",
       "            <td>\"HSFX4\"</td>\n",
       "        </tr>\n",
       "        <tr>\n",
       "            <td>A0A1W2PPF3</td>\n",
       "            <td>9606</td>\n",
       "            <td>1</td>\n",
       "            <td>345</td>\n",
       "            <td>\"DUXB\"</td>\n",
       "        </tr>\n",
       "        <tr>\n",
       "            <td>A0A1W2PQ73</td>\n",
       "            <td>9606</td>\n",
       "            <td>1</td>\n",
       "            <td>354</td>\n",
       "            <td>\"ERFL\"</td>\n",
       "        </tr>\n",
       "        <tr>\n",
       "            <td>A0A087WUV0</td>\n",
       "            <td>9606</td>\n",
       "            <td>1</td>\n",
       "            <td>522</td>\n",
       "            <td>\"Unknown\"</td>\n",
       "        </tr>\n",
       "    </tbody>\n",
       "</table>\n",
       "<span style=\"font-style:italic;text-align:center;\">Truncated to <a href=\"https://jupysql.ploomber.io/en/latest/api/configuration.html#displaylimit\">displaylimit</a> of 10.</span>"
      ],
      "text/plain": [
       "+-------------+-------+--------------+------------+-----------+\n",
       "| uniprot_acc | taxId | uniprotStart | uniprotEnd |    gene   |\n",
       "+-------------+-------+--------------+------------+-----------+\n",
       "|  A0A1W2PPM1 |  9606 |      1       |    405     |  \"CPHXL\"  |\n",
       "|  A0A0U1RQI7 |  9606 |      1       |    1052    |  \"KLF18\"  |\n",
       "|  A0A0C5B5G6 |  9606 |      1       |     16     | \"MT-RNR1\" |\n",
       "|  A0A1W2PPK0 |  9606 |      1       |    400     | \"Unknown\" |\n",
       "|  A0A1B0GWH4 |  9606 |      1       |    333     |  \"HSFX3\"  |\n",
       "|  A0A1B0GVZ6 |  9606 |      1       |    204     | \"MBD3L2B\" |\n",
       "|  A0A1B0GTS1 |  9606 |      1       |    333     |  \"HSFX4\"  |\n",
       "|  A0A1W2PPF3 |  9606 |      1       |    345     |   \"DUXB\"  |\n",
       "|  A0A1W2PQ73 |  9606 |      1       |    354     |   \"ERFL\"  |\n",
       "|  A0A087WUV0 |  9606 |      1       |    522     | \"Unknown\" |\n",
       "+-------------+-------+--------------+------------+-----------+\n",
       "Truncated to displaylimit of 10."
      ]
     },
     "execution_count": 15,
     "metadata": {},
     "output_type": "execute_result"
    }
   ],
   "source": [
    "# Fetch fields from inside summary\n",
    "%sql SELECT uniprot_acc, summary.taxId, summary.uniprotStart, summary.uniprotEnd, summary.gene FROM alphafolds"
   ]
  },
  {
   "cell_type": "code",
   "execution_count": 12,
   "id": "d038369f",
   "metadata": {},
   "outputs": [],
   "source": [
    "%config SqlMagic.displaylimit = 100"
   ]
  },
  {
   "cell_type": "code",
   "execution_count": 13,
   "id": "3185a46b",
   "metadata": {},
   "outputs": [
    {
     "data": {
      "text/html": [
       "<span style=\"None\">Running query in &#x27;duckdb&#x27;</span>"
      ],
      "text/plain": [
       "Running query in 'duckdb'"
      ]
     },
     "metadata": {},
     "output_type": "display_data"
    },
    {
     "data": {
      "text/html": [
       "<table>\n",
       "    <thead>\n",
       "        <tr>\n",
       "            <th>confidence</th>\n",
       "            <th>min_threshold</th>\n",
       "            <th>max_threshold</th>\n",
       "            <th>density_filter_id</th>\n",
       "            <th>uniprot_acc</th>\n",
       "            <th>nr_residues_above_confidence</th>\n",
       "            <th>keep</th>\n",
       "            <th>pdb_file</th>\n",
       "            <th>uniprotStart</th>\n",
       "            <th>uniprotEnd</th>\n",
       "            <th>uniprot_length</th>\n",
       "        </tr>\n",
       "    </thead>\n",
       "    <tbody>\n",
       "        <tr>\n",
       "            <td>70.0</td>\n",
       "            <td>100</td>\n",
       "            <td>500</td>\n",
       "            <td>1</td>\n",
       "            <td>A0A1W2PPM1</td>\n",
       "            <td>68</td>\n",
       "            <td>False</td>\n",
       "            <td>None</td>\n",
       "            <td>1</td>\n",
       "            <td>405</td>\n",
       "            <td>407</td>\n",
       "        </tr>\n",
       "        <tr>\n",
       "            <td>70.0</td>\n",
       "            <td>100</td>\n",
       "            <td>500</td>\n",
       "            <td>1</td>\n",
       "            <td>A0A0U1RQI7</td>\n",
       "            <td>192</td>\n",
       "            <td>True</td>\n",
       "            <td>session1/density_filtered/AF-A0A0U1RQI7-F1-model_v4.pdb</td>\n",
       "            <td>1</td>\n",
       "            <td>1052</td>\n",
       "            <td>1054</td>\n",
       "        </tr>\n",
       "        <tr>\n",
       "            <td>70.0</td>\n",
       "            <td>100</td>\n",
       "            <td>500</td>\n",
       "            <td>1</td>\n",
       "            <td>A0A0C5B5G6</td>\n",
       "            <td>10</td>\n",
       "            <td>False</td>\n",
       "            <td>None</td>\n",
       "            <td>1</td>\n",
       "            <td>16</td>\n",
       "            <td>18</td>\n",
       "        </tr>\n",
       "        <tr>\n",
       "            <td>70.0</td>\n",
       "            <td>100</td>\n",
       "            <td>500</td>\n",
       "            <td>1</td>\n",
       "            <td>A0A1W2PPK0</td>\n",
       "            <td>71</td>\n",
       "            <td>False</td>\n",
       "            <td>None</td>\n",
       "            <td>1</td>\n",
       "            <td>400</td>\n",
       "            <td>402</td>\n",
       "        </tr>\n",
       "        <tr>\n",
       "            <td>70.0</td>\n",
       "            <td>100</td>\n",
       "            <td>500</td>\n",
       "            <td>1</td>\n",
       "            <td>A0A1B0GWH4</td>\n",
       "            <td>117</td>\n",
       "            <td>True</td>\n",
       "            <td>session1/density_filtered/AF-A0A1B0GWH4-F1-model_v4.pdb</td>\n",
       "            <td>1</td>\n",
       "            <td>333</td>\n",
       "            <td>335</td>\n",
       "        </tr>\n",
       "        <tr>\n",
       "            <td>70.0</td>\n",
       "            <td>100</td>\n",
       "            <td>500</td>\n",
       "            <td>1</td>\n",
       "            <td>A0A1B0GVZ6</td>\n",
       "            <td>54</td>\n",
       "            <td>False</td>\n",
       "            <td>None</td>\n",
       "            <td>1</td>\n",
       "            <td>204</td>\n",
       "            <td>206</td>\n",
       "        </tr>\n",
       "        <tr>\n",
       "            <td>70.0</td>\n",
       "            <td>100</td>\n",
       "            <td>500</td>\n",
       "            <td>1</td>\n",
       "            <td>A0A1B0GTS1</td>\n",
       "            <td>116</td>\n",
       "            <td>True</td>\n",
       "            <td>session1/density_filtered/AF-A0A1B0GTS1-F1-model_v4.pdb</td>\n",
       "            <td>1</td>\n",
       "            <td>333</td>\n",
       "            <td>335</td>\n",
       "        </tr>\n",
       "        <tr>\n",
       "            <td>70.0</td>\n",
       "            <td>100</td>\n",
       "            <td>500</td>\n",
       "            <td>1</td>\n",
       "            <td>A0A1W2PPF3</td>\n",
       "            <td>124</td>\n",
       "            <td>True</td>\n",
       "            <td>session1/density_filtered/AF-A0A1W2PPF3-F1-model_v4.pdb</td>\n",
       "            <td>1</td>\n",
       "            <td>345</td>\n",
       "            <td>347</td>\n",
       "        </tr>\n",
       "        <tr>\n",
       "            <td>70.0</td>\n",
       "            <td>100</td>\n",
       "            <td>500</td>\n",
       "            <td>1</td>\n",
       "            <td>A0A1W2PQ73</td>\n",
       "            <td>86</td>\n",
       "            <td>False</td>\n",
       "            <td>None</td>\n",
       "            <td>1</td>\n",
       "            <td>354</td>\n",
       "            <td>356</td>\n",
       "        </tr>\n",
       "        <tr>\n",
       "            <td>70.0</td>\n",
       "            <td>100</td>\n",
       "            <td>500</td>\n",
       "            <td>1</td>\n",
       "            <td>A0A087WUV0</td>\n",
       "            <td>283</td>\n",
       "            <td>True</td>\n",
       "            <td>session1/density_filtered/AF-A0A087WUV0-F1-model_v4.pdb</td>\n",
       "            <td>1</td>\n",
       "            <td>522</td>\n",
       "            <td>524</td>\n",
       "        </tr>\n",
       "    </tbody>\n",
       "</table>"
      ],
      "text/plain": [
       "+------------+---------------+---------------+-------------------+-------------+------------------------------+-------+---------------------------------------------------------+--------------+------------+----------------+\n",
       "| confidence | min_threshold | max_threshold | density_filter_id | uniprot_acc | nr_residues_above_confidence |  keep |                         pdb_file                        | uniprotStart | uniprotEnd | uniprot_length |\n",
       "+------------+---------------+---------------+-------------------+-------------+------------------------------+-------+---------------------------------------------------------+--------------+------------+----------------+\n",
       "|    70.0    |      100      |      500      |         1         |  A0A1W2PPM1 |              68              | False |                           None                          |      1       |    405     |      407       |\n",
       "|    70.0    |      100      |      500      |         1         |  A0A0U1RQI7 |             192              |  True | session1/density_filtered/AF-A0A0U1RQI7-F1-model_v4.pdb |      1       |    1052    |      1054      |\n",
       "|    70.0    |      100      |      500      |         1         |  A0A0C5B5G6 |              10              | False |                           None                          |      1       |     16     |       18       |\n",
       "|    70.0    |      100      |      500      |         1         |  A0A1W2PPK0 |              71              | False |                           None                          |      1       |    400     |      402       |\n",
       "|    70.0    |      100      |      500      |         1         |  A0A1B0GWH4 |             117              |  True | session1/density_filtered/AF-A0A1B0GWH4-F1-model_v4.pdb |      1       |    333     |      335       |\n",
       "|    70.0    |      100      |      500      |         1         |  A0A1B0GVZ6 |              54              | False |                           None                          |      1       |    204     |      206       |\n",
       "|    70.0    |      100      |      500      |         1         |  A0A1B0GTS1 |             116              |  True | session1/density_filtered/AF-A0A1B0GTS1-F1-model_v4.pdb |      1       |    333     |      335       |\n",
       "|    70.0    |      100      |      500      |         1         |  A0A1W2PPF3 |             124              |  True | session1/density_filtered/AF-A0A1W2PPF3-F1-model_v4.pdb |      1       |    345     |      347       |\n",
       "|    70.0    |      100      |      500      |         1         |  A0A1W2PQ73 |              86              | False |                           None                          |      1       |    354     |      356       |\n",
       "|    70.0    |      100      |      500      |         1         |  A0A087WUV0 |             283              |  True | session1/density_filtered/AF-A0A087WUV0-F1-model_v4.pdb |      1       |    522     |      524       |\n",
       "+------------+---------------+---------------+-------------------+-------------+------------------------------+-------+---------------------------------------------------------+--------------+------------+----------------+"
      ]
     },
     "execution_count": 13,
     "metadata": {},
     "output_type": "execute_result"
    }
   ],
   "source": [
    "\n",
    "%%sql\n",
    "SELECT \n",
    "f.confidence, f.min_threshold, f.max_threshold,\n",
    "density_filtered_alphafolds.*, \n",
    "alphafolds.summary.uniprotStart, \n",
    "alphafolds.summary.uniprotEnd, \n",
    "length(alphafolds.summary.uniprotSequence) AS uniprot_length\n",
    "FROM density_filtered_alphafolds\n",
    "JOIN density_filters  AS f USING (density_filter_id) \n",
    "JOIN alphafolds USING (uniprot_acc)\n",
    "LIMIT 100;"
   ]
  },
  {
   "cell_type": "code",
   "execution_count": null,
   "id": "57f56724",
   "metadata": {},
   "outputs": [],
   "source": []
  }
 ],
 "metadata": {
  "kernelspec": {
   "display_name": ".venv",
   "language": "python",
   "name": "python3"
  },
  "language_info": {
   "codemirror_mode": {
    "name": "ipython",
    "version": 3
   },
   "file_extension": ".py",
   "mimetype": "text/x-python",
   "name": "python",
   "nbconvert_exporter": "python",
   "pygments_lexer": "ipython3",
   "version": "3.13.2"
  }
 },
 "nbformat": 4,
 "nbformat_minor": 5
}
