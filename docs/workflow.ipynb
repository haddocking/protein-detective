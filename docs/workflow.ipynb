{
 "cells": [
  {
   "cell_type": "markdown",
   "id": "8664b8a5",
   "metadata": {},
   "source": [
    "# Run workflow using API"
   ]
  },
  {
   "cell_type": "code",
   "execution_count": 1,
   "id": "d7265a43",
   "metadata": {},
   "outputs": [],
   "source": [
    "from pathlib import Path\n",
    "\n",
    "from rich import print as pprint"
   ]
  },
  {
   "cell_type": "code",
   "execution_count": 2,
   "id": "b5a4649f",
   "metadata": {},
   "outputs": [],
   "source": [
    "import logging\n",
    "\n",
    "logging.basicConfig(level=logging.WARNING)\n",
    "# Set to WARNING to see only warnings\n",
    "# Set to INFO to see sparql queries\n",
    "# Set to DEBUG to see raw results"
   ]
  },
  {
   "cell_type": "markdown",
   "id": "432800f1",
   "metadata": {},
   "source": [
    "## Setup session directory\n",
    "\n",
    "In this directory files like PDB files are stored and a DuckDB database for meta data."
   ]
  },
  {
   "cell_type": "code",
   "execution_count": 3,
   "id": "c049dc09",
   "metadata": {},
   "outputs": [
    {
     "data": {
      "text/plain": [
       "PosixPath('session1')"
      ]
     },
     "execution_count": 3,
     "metadata": {},
     "output_type": "execute_result"
    }
   ],
   "source": [
    "session_dir = Path(\"session1\")\n",
    "session_dir"
   ]
  },
  {
   "cell_type": "markdown",
   "id": "9cebded1",
   "metadata": {},
   "source": [
    "## Search Uniprot for structures"
   ]
  },
  {
   "cell_type": "code",
   "execution_count": 4,
   "id": "2bd9767b",
   "metadata": {},
   "outputs": [],
   "source": [
    "from protein_detective.uniprot import Query\n",
    "from protein_detective.workflow import search_structures_in_uniprot"
   ]
  },
  {
   "cell_type": "code",
   "execution_count": 5,
   "id": "d38ca4bd",
   "metadata": {},
   "outputs": [],
   "source": [
    "query = Query(\n",
    "    taxon_id=\"9606\",\n",
    "    reviewed=True,\n",
    "    subcellular_location_uniprot=\"nucleus\",\n",
    "    subcellular_location_go=\"GO:0005634\",  # Cellular component - Nucleus\n",
    "    molecular_function_go=\"GO:0003677\",  # Molecular function - DNA binding\n",
    ")"
   ]
  },
  {
   "cell_type": "code",
   "execution_count": 6,
   "id": "5a834a4c",
   "metadata": {},
   "outputs": [
    {
     "name": "stderr",
     "output_type": "stream",
     "text": [
      "WARNING:protein_detective.uniprot:Search for uniprot accessions returned 80 results. There may be more results available, but they are not returned due to the limit of 80. Consider increasing the limit to get more results.\n"
     ]
    },
    {
     "data": {
      "text/plain": [
       "(55, 13, 55)"
      ]
     },
     "execution_count": 6,
     "metadata": {},
     "output_type": "execute_result"
    }
   ],
   "source": [
    "nr_uniprot, nr_pdbe, nr_af = search_structures_in_uniprot(query, session_dir, limit=80)\n",
    "nr_uniprot, nr_pdbe, nr_af"
   ]
  },
  {
   "cell_type": "markdown",
   "id": "9898ed41",
   "metadata": {},
   "source": [
    "Use [database queries](#query-session-database) to see what was found."
   ]
  },
  {
   "cell_type": "markdown",
   "id": "befbfa91",
   "metadata": {},
   "source": [
    "## Fetch structures from PDBe and Alphafold found in Uniprot\n"
   ]
  },
  {
   "cell_type": "code",
   "execution_count": 4,
   "id": "83e0961c",
   "metadata": {},
   "outputs": [],
   "source": [
    "from protein_detective.workflow import retrieve_structures"
   ]
  },
  {
   "cell_type": "code",
   "execution_count": 5,
   "id": "397cc198",
   "metadata": {},
   "outputs": [
    {
     "name": "stderr",
     "output_type": "stream",
     "text": [
      "Downloading PDBe files: 100%|██████████| 13/13 [00:00<00:00, 54635.22it/s]\n",
      "Fetching Alphafold summaries: 100%|██████████| 55/55 [00:02<00:00, 25.34it/s]\n",
      "Downloading AlphaFold files: 100%|██████████| 110/110 [00:00<00:00, 66672.46it/s]\n"
     ]
    },
    {
     "data": {
      "text/plain": [
       "(PosixPath('session1/downloads'), 13, 55)"
      ]
     },
     "execution_count": 5,
     "metadata": {},
     "output_type": "execute_result"
    }
   ],
   "source": [
    "download_path, nr_pdbs, nr_alphafolds = retrieve_structures(session_dir)\n",
    "download_path, nr_pdbs, nr_alphafolds"
   ]
  },
  {
   "cell_type": "markdown",
   "id": "c4916691",
   "metadata": {},
   "source": [
    "## Filter out AlphafoldDB structures with low confidence\n",
    "\n",
    "And write PDB files without those low confidence residues to new directory."
   ]
  },
  {
   "cell_type": "code",
   "execution_count": 12,
   "id": "36e22f08",
   "metadata": {},
   "outputs": [],
   "source": [
    "from protein_detective.alphafold.density import DensityFilterQuery\n",
    "from protein_detective.workflow import density_filter"
   ]
  },
  {
   "cell_type": "code",
   "execution_count": 13,
   "id": "3d811564",
   "metadata": {},
   "outputs": [],
   "source": [
    "dquery = DensityFilterQuery(\n",
    "    confidence=70.0,\n",
    "    min_threshold=100,\n",
    "    max_threshold=500,\n",
    ")"
   ]
  },
  {
   "cell_type": "code",
   "execution_count": 14,
   "id": "f2784c5a",
   "metadata": {},
   "outputs": [
    {
     "name": "stdout",
     "output_type": "stream",
     "text": [
      "DensityFilterSessionResult(density_filtered_dir=PosixPath('session1/density_filtered'),\n",
      "                           nr_kept=24,\n",
      "                           nr_discarded=31)\n"
     ]
    }
   ],
   "source": [
    "result = density_filter(session_dir, dquery)\n",
    "pprint(result)"
   ]
  },
  {
   "cell_type": "markdown",
   "id": "a2157be8",
   "metadata": {},
   "source": [
    "## Prune PDBe files\n",
    "Prune the PDB files to only keep the first chain of the found Uniprot entries and rename that chain to A."
   ]
  },
  {
   "cell_type": "code",
   "execution_count": 1,
   "id": "a69b9afd",
   "metadata": {},
   "outputs": [],
   "source": [
    "from protein_detective.workflow import prune_pdbs"
   ]
  },
  {
   "cell_type": "code",
   "execution_count": 7,
   "id": "dee491aa",
   "metadata": {},
   "outputs": [
    {
     "name": "stderr",
     "output_type": "stream",
     "text": [
      "Saving single chain PDB files from PDBe: 100%|██████████| 13/13 [00:02<00:00,  5.76it/s]\n"
     ]
    },
    {
     "data": {
      "text/plain": [
       "(PosixPath('session1/single_chain'), 13)"
      ]
     },
     "execution_count": 7,
     "metadata": {},
     "output_type": "execute_result"
    }
   ],
   "source": [
    "(single_chain_dir, nr_passed) = prune_pdbs(session_dir)\n",
    "(single_chain_dir, nr_passed)"
   ]
  },
  {
   "cell_type": "markdown",
   "id": "1a409c95",
   "metadata": {},
   "source": [
    "## Run powerfit"
   ]
  },
  {
   "cell_type": "code",
   "execution_count": 4,
   "id": "5de52e86",
   "metadata": {},
   "outputs": [],
   "source": [
    "from protein_detective.powerfit.options import PowerfitOptions\n",
    "from protein_detective.workflow import powerfit_commands"
   ]
  },
  {
   "cell_type": "code",
   "execution_count": 5,
   "id": "899ec746",
   "metadata": {},
   "outputs": [],
   "source": [
    "options = PowerfitOptions(\n",
    "    target=Path(\"../../powerfit-tutorial/ribosome-KsgA.map\"),\n",
    "    resolution=13,\n",
    "    angle=20,\n",
    "    laplace=True,\n",
    ")"
   ]
  },
  {
   "cell_type": "code",
   "execution_count": 6,
   "id": "52655c1f",
   "metadata": {},
   "outputs": [],
   "source": [
    "commands, powerfit_run_id = powerfit_commands(session_dir, options)"
   ]
  },
  {
   "cell_type": "code",
   "execution_count": 7,
   "id": "c7b91642",
   "metadata": {},
   "outputs": [
    {
     "data": {
      "text/plain": [
       "10"
      ]
     },
     "execution_count": 7,
     "metadata": {},
     "output_type": "execute_result"
    }
   ],
   "source": [
    "powerfit_run_id"
   ]
  },
  {
   "cell_type": "code",
   "execution_count": 8,
   "id": "a7e7c368",
   "metadata": {},
   "outputs": [
    {
     "data": {
      "text/html": [
       "<pre style=\"white-space:pre;overflow-x:auto;line-height:normal;font-family:Menlo,'DejaVu Sans Mono',consolas,'Courier New',monospace\"><span style=\"font-weight: bold\">[</span>\n",
       "    <span style=\"color: #008000; text-decoration-color: #008000\">'powerfit ./session1/powerfit/10/ribosome-KsgA.map 13 ./session1/single_chain/A8MT69_pdb4ne5.ent_B2A.pdb </span>\n",
       "<span style=\"color: #008000; text-decoration-color: #008000\">--laplace --resampling-rate 2 --num 10 --nproc 1 --directory ./session1/powerfit/10/A8MT69_pdb4ne5.ent_B2A </span>\n",
       "<span style=\"color: #008000; text-decoration-color: #008000\">--delimiter , --angle 20'</span>,\n",
       "    <span style=\"color: #008000; text-decoration-color: #008000\">'powerfit ./session1/powerfit/10/ribosome-KsgA.map 13 ./session1/single_chain/A8MT69_pdb7xho.ent_X2A.pdb </span>\n",
       "<span style=\"color: #008000; text-decoration-color: #008000\">--laplace --resampling-rate 2 --num 10 --nproc 1 --directory ./session1/powerfit/10/A8MT69_pdb7xho.ent_X2A </span>\n",
       "<span style=\"color: #008000; text-decoration-color: #008000\">--delimiter , --angle 20'</span>,\n",
       "    <span style=\"color: #008000; text-decoration-color: #008000\">'powerfit ./session1/powerfit/10/ribosome-KsgA.map 13 ./session1/single_chain/A8MT69_pdb7r5s.ent_X2A.pdb </span>\n",
       "<span style=\"color: #008000; text-decoration-color: #008000\">--laplace --resampling-rate 2 --num 10 --nproc 1 --directory ./session1/powerfit/10/A8MT69_pdb7r5s.ent_X2A </span>\n",
       "<span style=\"color: #008000; text-decoration-color: #008000\">--delimiter , --angle 20'</span>,\n",
       "    <span style=\"color: #008000; text-decoration-color: #008000\">'powerfit ./session1/powerfit/10/ribosome-KsgA.map 13 ./session1/single_chain/A8MT69_pdb4ndy.ent_B2A.pdb </span>\n",
       "<span style=\"color: #008000; text-decoration-color: #008000\">--laplace --resampling-rate 2 --num 10 --nproc 1 --directory ./session1/powerfit/10/A8MT69_pdb4ndy.ent_B2A </span>\n",
       "<span style=\"color: #008000; text-decoration-color: #008000\">--delimiter , --angle 20'</span>,\n",
       "    <span style=\"color: #008000; text-decoration-color: #008000\">'powerfit ./session1/powerfit/10/ribosome-KsgA.map 13 ./session1/single_chain/A8MT69_pdb4ne3.ent_B2A.pdb </span>\n",
       "<span style=\"color: #008000; text-decoration-color: #008000\">--laplace --resampling-rate 2 --num 10 --nproc 1 --directory ./session1/powerfit/10/A8MT69_pdb4ne3.ent_B2A </span>\n",
       "<span style=\"color: #008000; text-decoration-color: #008000\">--delimiter , --angle 20'</span>,\n",
       "    <span style=\"color: #008000; text-decoration-color: #008000\">'powerfit ./session1/powerfit/10/ribosome-KsgA.map 13 ./session1/single_chain/A8MT69_pdb7ywx.ent_X2A.pdb </span>\n",
       "<span style=\"color: #008000; text-decoration-color: #008000\">--laplace --resampling-rate 2 --num 10 --nproc 1 --directory ./session1/powerfit/10/A8MT69_pdb7ywx.ent_X2A </span>\n",
       "<span style=\"color: #008000; text-decoration-color: #008000\">--delimiter , --angle 20'</span>,\n",
       "    <span style=\"color: #008000; text-decoration-color: #008000\">'powerfit ./session1/powerfit/10/ribosome-KsgA.map 13 ./session1/single_chain/A8MT69_pdb4e45.ent_B2A.pdb </span>\n",
       "<span style=\"color: #008000; text-decoration-color: #008000\">--laplace --resampling-rate 2 --num 10 --nproc 1 --directory ./session1/powerfit/10/A8MT69_pdb4e45.ent_B2A </span>\n",
       "<span style=\"color: #008000; text-decoration-color: #008000\">--delimiter , --angle 20'</span>,\n",
       "    <span style=\"color: #008000; text-decoration-color: #008000\">'powerfit ./session1/powerfit/10/ribosome-KsgA.map 13 ./session1/single_chain/A8MT69_pdb7xhn.ent_X2A.pdb </span>\n",
       "<span style=\"color: #008000; text-decoration-color: #008000\">--laplace --resampling-rate 2 --num 10 --nproc 1 --directory ./session1/powerfit/10/A8MT69_pdb7xhn.ent_X2A </span>\n",
       "<span style=\"color: #008000; text-decoration-color: #008000\">--delimiter , --angle 20'</span>,\n",
       "    <span style=\"color: #008000; text-decoration-color: #008000\">'powerfit ./session1/powerfit/10/ribosome-KsgA.map 13 ./session1/single_chain/A8MT69_pdb4drb.ent_J2A.pdb </span>\n",
       "<span style=\"color: #008000; text-decoration-color: #008000\">--laplace --resampling-rate 2 --num 10 --nproc 1 --directory ./session1/powerfit/10/A8MT69_pdb4drb.ent_J2A </span>\n",
       "<span style=\"color: #008000; text-decoration-color: #008000\">--delimiter , --angle 20'</span>,\n",
       "    <span style=\"color: #008000; text-decoration-color: #008000\">'powerfit ./session1/powerfit/10/ribosome-KsgA.map 13 ./session1/single_chain/A8MT69_pdb4ne1.ent_B2A.pdb </span>\n",
       "<span style=\"color: #008000; text-decoration-color: #008000\">--laplace --resampling-rate 2 --num 10 --nproc 1 --directory ./session1/powerfit/10/A8MT69_pdb4ne1.ent_B2A </span>\n",
       "<span style=\"color: #008000; text-decoration-color: #008000\">--delimiter , --angle 20'</span>,\n",
       "    <span style=\"color: #008000; text-decoration-color: #008000\">'powerfit ./session1/powerfit/10/ribosome-KsgA.map 13 ./session1/single_chain/A8MT69_pdb4e44.ent_B2A.pdb </span>\n",
       "<span style=\"color: #008000; text-decoration-color: #008000\">--laplace --resampling-rate 2 --num 10 --nproc 1 --directory ./session1/powerfit/10/A8MT69_pdb4e44.ent_B2A </span>\n",
       "<span style=\"color: #008000; text-decoration-color: #008000\">--delimiter , --angle 20'</span>,\n",
       "    <span style=\"color: #008000; text-decoration-color: #008000\">'powerfit ./session1/powerfit/10/ribosome-KsgA.map 13 ./session1/single_chain/A8MT69_pdb4dra.ent_E2A.pdb </span>\n",
       "<span style=\"color: #008000; text-decoration-color: #008000\">--laplace --resampling-rate 2 --num 10 --nproc 1 --directory ./session1/powerfit/10/A8MT69_pdb4dra.ent_E2A </span>\n",
       "<span style=\"color: #008000; text-decoration-color: #008000\">--delimiter , --angle 20'</span>,\n",
       "    <span style=\"color: #008000; text-decoration-color: #008000\">'powerfit ./session1/powerfit/10/ribosome-KsgA.map 13 ./session1/single_chain/A8MT69_pdb4ne6.ent_B2A.pdb </span>\n",
       "<span style=\"color: #008000; text-decoration-color: #008000\">--laplace --resampling-rate 2 --num 10 --nproc 1 --directory ./session1/powerfit/10/A8MT69_pdb4ne6.ent_B2A </span>\n",
       "<span style=\"color: #008000; text-decoration-color: #008000\">--delimiter , --angle 20'</span>,\n",
       "    <span style=\"color: #008000; text-decoration-color: #008000\">'powerfit ./session1/powerfit/10/ribosome-KsgA.map 13 ./session1/density_filtered/AF-A0A087WUV0-F1-model_v4.pdb</span>\n",
       "<span style=\"color: #008000; text-decoration-color: #008000\">--laplace --resampling-rate 2 --num 10 --nproc 1 --directory ./session1/powerfit/10/AF-A0A087WUV0-F1-model_v4 </span>\n",
       "<span style=\"color: #008000; text-decoration-color: #008000\">--delimiter , --angle 20'</span>,\n",
       "    <span style=\"color: #008000; text-decoration-color: #008000\">'powerfit ./session1/powerfit/10/ribosome-KsgA.map 13 ./session1/density_filtered/AF-A0A0U1RQI7-F1-model_v4.pdb</span>\n",
       "<span style=\"color: #008000; text-decoration-color: #008000\">--laplace --resampling-rate 2 --num 10 --nproc 1 --directory ./session1/powerfit/10/AF-A0A0U1RQI7-F1-model_v4 </span>\n",
       "<span style=\"color: #008000; text-decoration-color: #008000\">--delimiter , --angle 20'</span>,\n",
       "    <span style=\"color: #008000; text-decoration-color: #008000\">'powerfit ./session1/powerfit/10/ribosome-KsgA.map 13 ./session1/density_filtered/AF-A0A1B0GTS1-F1-model_v4.pdb</span>\n",
       "<span style=\"color: #008000; text-decoration-color: #008000\">--laplace --resampling-rate 2 --num 10 --nproc 1 --directory ./session1/powerfit/10/AF-A0A1B0GTS1-F1-model_v4 </span>\n",
       "<span style=\"color: #008000; text-decoration-color: #008000\">--delimiter , --angle 20'</span>,\n",
       "    <span style=\"color: #008000; text-decoration-color: #008000\">'powerfit ./session1/powerfit/10/ribosome-KsgA.map 13 ./session1/density_filtered/AF-A0A1B0GWH4-F1-model_v4.pdb</span>\n",
       "<span style=\"color: #008000; text-decoration-color: #008000\">--laplace --resampling-rate 2 --num 10 --nproc 1 --directory ./session1/powerfit/10/AF-A0A1B0GWH4-F1-model_v4 </span>\n",
       "<span style=\"color: #008000; text-decoration-color: #008000\">--delimiter , --angle 20'</span>,\n",
       "    <span style=\"color: #008000; text-decoration-color: #008000\">'powerfit ./session1/powerfit/10/ribosome-KsgA.map 13 ./session1/density_filtered/AF-A0A1W2PPF3-F1-model_v4.pdb</span>\n",
       "<span style=\"color: #008000; text-decoration-color: #008000\">--laplace --resampling-rate 2 --num 10 --nproc 1 --directory ./session1/powerfit/10/AF-A0A1W2PPF3-F1-model_v4 </span>\n",
       "<span style=\"color: #008000; text-decoration-color: #008000\">--delimiter , --angle 20'</span>,\n",
       "    <span style=\"color: #008000; text-decoration-color: #008000\">'powerfit ./session1/powerfit/10/ribosome-KsgA.map 13 ./session1/density_filtered/AF-A0A1W2PQL4-F1-model_v4.pdb</span>\n",
       "<span style=\"color: #008000; text-decoration-color: #008000\">--laplace --resampling-rate 2 --num 10 --nproc 1 --directory ./session1/powerfit/10/AF-A0A1W2PQL4-F1-model_v4 </span>\n",
       "<span style=\"color: #008000; text-decoration-color: #008000\">--delimiter , --angle 20'</span>,\n",
       "    <span style=\"color: #008000; text-decoration-color: #008000\">'powerfit ./session1/powerfit/10/ribosome-KsgA.map 13 ./session1/density_filtered/AF-A1YPR0-F1-model_v4.pdb </span>\n",
       "<span style=\"color: #008000; text-decoration-color: #008000\">--laplace --resampling-rate 2 --num 10 --nproc 1 --directory ./session1/powerfit/10/AF-A1YPR0-F1-model_v4 </span>\n",
       "<span style=\"color: #008000; text-decoration-color: #008000\">--delimiter , --angle 20'</span>,\n",
       "    <span style=\"color: #008000; text-decoration-color: #008000\">'powerfit ./session1/powerfit/10/ribosome-KsgA.map 13 ./session1/density_filtered/AF-A2RRD8-F1-model_v4.pdb </span>\n",
       "<span style=\"color: #008000; text-decoration-color: #008000\">--laplace --resampling-rate 2 --num 10 --nproc 1 --directory ./session1/powerfit/10/AF-A2RRD8-F1-model_v4 </span>\n",
       "<span style=\"color: #008000; text-decoration-color: #008000\">--delimiter , --angle 20'</span>,\n",
       "    <span style=\"color: #008000; text-decoration-color: #008000\">'powerfit ./session1/powerfit/10/ribosome-KsgA.map 13 ./session1/density_filtered/AF-A6NDX5-F1-model_v4.pdb </span>\n",
       "<span style=\"color: #008000; text-decoration-color: #008000\">--laplace --resampling-rate 2 --num 10 --nproc 1 --directory ./session1/powerfit/10/AF-A6NDX5-F1-model_v4 </span>\n",
       "<span style=\"color: #008000; text-decoration-color: #008000\">--delimiter , --angle 20'</span>,\n",
       "    <span style=\"color: #008000; text-decoration-color: #008000\">'powerfit ./session1/powerfit/10/ribosome-KsgA.map 13 ./session1/density_filtered/AF-A6NFD8-F1-model_v4.pdb </span>\n",
       "<span style=\"color: #008000; text-decoration-color: #008000\">--laplace --resampling-rate 2 --num 10 --nproc 1 --directory ./session1/powerfit/10/AF-A6NFD8-F1-model_v4 </span>\n",
       "<span style=\"color: #008000; text-decoration-color: #008000\">--delimiter , --angle 20'</span>,\n",
       "    <span style=\"color: #008000; text-decoration-color: #008000\">'powerfit ./session1/powerfit/10/ribosome-KsgA.map 13 ./session1/density_filtered/AF-A6NFI3-F1-model_v4.pdb </span>\n",
       "<span style=\"color: #008000; text-decoration-color: #008000\">--laplace --resampling-rate 2 --num 10 --nproc 1 --directory ./session1/powerfit/10/AF-A6NFI3-F1-model_v4 </span>\n",
       "<span style=\"color: #008000; text-decoration-color: #008000\">--delimiter , --angle 20'</span>,\n",
       "    <span style=\"color: #008000; text-decoration-color: #008000\">'powerfit ./session1/powerfit/10/ribosome-KsgA.map 13 ./session1/density_filtered/AF-A6NGD5-F1-model_v4.pdb </span>\n",
       "<span style=\"color: #008000; text-decoration-color: #008000\">--laplace --resampling-rate 2 --num 10 --nproc 1 --directory ./session1/powerfit/10/AF-A6NGD5-F1-model_v4 </span>\n",
       "<span style=\"color: #008000; text-decoration-color: #008000\">--delimiter , --angle 20'</span>,\n",
       "    <span style=\"color: #008000; text-decoration-color: #008000\">'powerfit ./session1/powerfit/10/ribosome-KsgA.map 13 ./session1/density_filtered/AF-A6NHJ4-F1-model_v4.pdb </span>\n",
       "<span style=\"color: #008000; text-decoration-color: #008000\">--laplace --resampling-rate 2 --num 10 --nproc 1 --directory ./session1/powerfit/10/AF-A6NHJ4-F1-model_v4 </span>\n",
       "<span style=\"color: #008000; text-decoration-color: #008000\">--delimiter , --angle 20'</span>,\n",
       "    <span style=\"color: #008000; text-decoration-color: #008000\">'powerfit ./session1/powerfit/10/ribosome-KsgA.map 13 ./session1/density_filtered/AF-A6NJL1-F1-model_v4.pdb </span>\n",
       "<span style=\"color: #008000; text-decoration-color: #008000\">--laplace --resampling-rate 2 --num 10 --nproc 1 --directory ./session1/powerfit/10/AF-A6NJL1-F1-model_v4 </span>\n",
       "<span style=\"color: #008000; text-decoration-color: #008000\">--delimiter , --angle 20'</span>,\n",
       "    <span style=\"color: #008000; text-decoration-color: #008000\">'powerfit ./session1/powerfit/10/ribosome-KsgA.map 13 ./session1/density_filtered/AF-A6NJT0-F1-model_v4.pdb </span>\n",
       "<span style=\"color: #008000; text-decoration-color: #008000\">--laplace --resampling-rate 2 --num 10 --nproc 1 --directory ./session1/powerfit/10/AF-A6NJT0-F1-model_v4 </span>\n",
       "<span style=\"color: #008000; text-decoration-color: #008000\">--delimiter , --angle 20'</span>,\n",
       "    <span style=\"color: #008000; text-decoration-color: #008000\">'powerfit ./session1/powerfit/10/ribosome-KsgA.map 13 ./session1/density_filtered/AF-A6NK53-F1-model_v4.pdb </span>\n",
       "<span style=\"color: #008000; text-decoration-color: #008000\">--laplace --resampling-rate 2 --num 10 --nproc 1 --directory ./session1/powerfit/10/AF-A6NK53-F1-model_v4 </span>\n",
       "<span style=\"color: #008000; text-decoration-color: #008000\">--delimiter , --angle 20'</span>,\n",
       "    <span style=\"color: #008000; text-decoration-color: #008000\">'powerfit ./session1/powerfit/10/ribosome-KsgA.map 13 ./session1/density_filtered/AF-A6NK75-F1-model_v4.pdb </span>\n",
       "<span style=\"color: #008000; text-decoration-color: #008000\">--laplace --resampling-rate 2 --num 10 --nproc 1 --directory ./session1/powerfit/10/AF-A6NK75-F1-model_v4 </span>\n",
       "<span style=\"color: #008000; text-decoration-color: #008000\">--delimiter , --angle 20'</span>,\n",
       "    <span style=\"color: #008000; text-decoration-color: #008000\">'powerfit ./session1/powerfit/10/ribosome-KsgA.map 13 ./session1/density_filtered/AF-A6NKF2-F1-model_v4.pdb </span>\n",
       "<span style=\"color: #008000; text-decoration-color: #008000\">--laplace --resampling-rate 2 --num 10 --nproc 1 --directory ./session1/powerfit/10/AF-A6NKF2-F1-model_v4 </span>\n",
       "<span style=\"color: #008000; text-decoration-color: #008000\">--delimiter , --angle 20'</span>,\n",
       "    <span style=\"color: #008000; text-decoration-color: #008000\">'powerfit ./session1/powerfit/10/ribosome-KsgA.map 13 ./session1/density_filtered/AF-A6NLW8-F1-model_v4.pdb </span>\n",
       "<span style=\"color: #008000; text-decoration-color: #008000\">--laplace --resampling-rate 2 --num 10 --nproc 1 --directory ./session1/powerfit/10/AF-A6NLW8-F1-model_v4 </span>\n",
       "<span style=\"color: #008000; text-decoration-color: #008000\">--delimiter , --angle 20'</span>,\n",
       "    <span style=\"color: #008000; text-decoration-color: #008000\">'powerfit ./session1/powerfit/10/ribosome-KsgA.map 13 ./session1/density_filtered/AF-A6NM28-F1-model_v4.pdb </span>\n",
       "<span style=\"color: #008000; text-decoration-color: #008000\">--laplace --resampling-rate 2 --num 10 --nproc 1 --directory ./session1/powerfit/10/AF-A6NM28-F1-model_v4 </span>\n",
       "<span style=\"color: #008000; text-decoration-color: #008000\">--delimiter , --angle 20'</span>,\n",
       "    <span style=\"color: #008000; text-decoration-color: #008000\">'powerfit ./session1/powerfit/10/ribosome-KsgA.map 13 ./session1/density_filtered/AF-A6NP11-F1-model_v4.pdb </span>\n",
       "<span style=\"color: #008000; text-decoration-color: #008000\">--laplace --resampling-rate 2 --num 10 --nproc 1 --directory ./session1/powerfit/10/AF-A6NP11-F1-model_v4 </span>\n",
       "<span style=\"color: #008000; text-decoration-color: #008000\">--delimiter , --angle 20'</span>,\n",
       "    <span style=\"color: #008000; text-decoration-color: #008000\">'powerfit ./session1/powerfit/10/ribosome-KsgA.map 13 ./session1/density_filtered/AF-A8K0S8-F1-model_v4.pdb </span>\n",
       "<span style=\"color: #008000; text-decoration-color: #008000\">--laplace --resampling-rate 2 --num 10 --nproc 1 --directory ./session1/powerfit/10/AF-A8K0S8-F1-model_v4 </span>\n",
       "<span style=\"color: #008000; text-decoration-color: #008000\">--delimiter , --angle 20'</span>,\n",
       "    <span style=\"color: #008000; text-decoration-color: #008000\">'powerfit ./session1/powerfit/10/ribosome-KsgA.map 13 ./session1/density_filtered/AF-A8K8V0-F1-model_v4.pdb </span>\n",
       "<span style=\"color: #008000; text-decoration-color: #008000\">--laplace --resampling-rate 2 --num 10 --nproc 1 --directory ./session1/powerfit/10/AF-A8K8V0-F1-model_v4 </span>\n",
       "<span style=\"color: #008000; text-decoration-color: #008000\">--delimiter , --angle 20'</span>,\n",
       "    <span style=\"color: #008000; text-decoration-color: #008000\">'powerfit ./session1/powerfit/10/ribosome-KsgA.map 13 ./session1/density_filtered/AF-A8MT65-F1-model_v4.pdb </span>\n",
       "<span style=\"color: #008000; text-decoration-color: #008000\">--laplace --resampling-rate 2 --num 10 --nproc 1 --directory ./session1/powerfit/10/AF-A8MT65-F1-model_v4 </span>\n",
       "<span style=\"color: #008000; text-decoration-color: #008000\">--delimiter , --angle 20'</span>\n",
       "<span style=\"font-weight: bold\">]</span>\n",
       "</pre>\n"
      ],
      "text/plain": [
       "\u001b[1m[\u001b[0m\n",
       "    \u001b[32m'powerfit ./session1/powerfit/10/ribosome-KsgA.map 13 ./session1/single_chain/A8MT69_pdb4ne5.ent_B2A.pdb \u001b[0m\n",
       "\u001b[32m--laplace --resampling-rate 2 --num 10 --nproc 1 --directory ./session1/powerfit/10/A8MT69_pdb4ne5.ent_B2A \u001b[0m\n",
       "\u001b[32m--delimiter , --angle 20'\u001b[0m,\n",
       "    \u001b[32m'powerfit ./session1/powerfit/10/ribosome-KsgA.map 13 ./session1/single_chain/A8MT69_pdb7xho.ent_X2A.pdb \u001b[0m\n",
       "\u001b[32m--laplace --resampling-rate 2 --num 10 --nproc 1 --directory ./session1/powerfit/10/A8MT69_pdb7xho.ent_X2A \u001b[0m\n",
       "\u001b[32m--delimiter , --angle 20'\u001b[0m,\n",
       "    \u001b[32m'powerfit ./session1/powerfit/10/ribosome-KsgA.map 13 ./session1/single_chain/A8MT69_pdb7r5s.ent_X2A.pdb \u001b[0m\n",
       "\u001b[32m--laplace --resampling-rate 2 --num 10 --nproc 1 --directory ./session1/powerfit/10/A8MT69_pdb7r5s.ent_X2A \u001b[0m\n",
       "\u001b[32m--delimiter , --angle 20'\u001b[0m,\n",
       "    \u001b[32m'powerfit ./session1/powerfit/10/ribosome-KsgA.map 13 ./session1/single_chain/A8MT69_pdb4ndy.ent_B2A.pdb \u001b[0m\n",
       "\u001b[32m--laplace --resampling-rate 2 --num 10 --nproc 1 --directory ./session1/powerfit/10/A8MT69_pdb4ndy.ent_B2A \u001b[0m\n",
       "\u001b[32m--delimiter , --angle 20'\u001b[0m,\n",
       "    \u001b[32m'powerfit ./session1/powerfit/10/ribosome-KsgA.map 13 ./session1/single_chain/A8MT69_pdb4ne3.ent_B2A.pdb \u001b[0m\n",
       "\u001b[32m--laplace --resampling-rate 2 --num 10 --nproc 1 --directory ./session1/powerfit/10/A8MT69_pdb4ne3.ent_B2A \u001b[0m\n",
       "\u001b[32m--delimiter , --angle 20'\u001b[0m,\n",
       "    \u001b[32m'powerfit ./session1/powerfit/10/ribosome-KsgA.map 13 ./session1/single_chain/A8MT69_pdb7ywx.ent_X2A.pdb \u001b[0m\n",
       "\u001b[32m--laplace --resampling-rate 2 --num 10 --nproc 1 --directory ./session1/powerfit/10/A8MT69_pdb7ywx.ent_X2A \u001b[0m\n",
       "\u001b[32m--delimiter , --angle 20'\u001b[0m,\n",
       "    \u001b[32m'powerfit ./session1/powerfit/10/ribosome-KsgA.map 13 ./session1/single_chain/A8MT69_pdb4e45.ent_B2A.pdb \u001b[0m\n",
       "\u001b[32m--laplace --resampling-rate 2 --num 10 --nproc 1 --directory ./session1/powerfit/10/A8MT69_pdb4e45.ent_B2A \u001b[0m\n",
       "\u001b[32m--delimiter , --angle 20'\u001b[0m,\n",
       "    \u001b[32m'powerfit ./session1/powerfit/10/ribosome-KsgA.map 13 ./session1/single_chain/A8MT69_pdb7xhn.ent_X2A.pdb \u001b[0m\n",
       "\u001b[32m--laplace --resampling-rate 2 --num 10 --nproc 1 --directory ./session1/powerfit/10/A8MT69_pdb7xhn.ent_X2A \u001b[0m\n",
       "\u001b[32m--delimiter , --angle 20'\u001b[0m,\n",
       "    \u001b[32m'powerfit ./session1/powerfit/10/ribosome-KsgA.map 13 ./session1/single_chain/A8MT69_pdb4drb.ent_J2A.pdb \u001b[0m\n",
       "\u001b[32m--laplace --resampling-rate 2 --num 10 --nproc 1 --directory ./session1/powerfit/10/A8MT69_pdb4drb.ent_J2A \u001b[0m\n",
       "\u001b[32m--delimiter , --angle 20'\u001b[0m,\n",
       "    \u001b[32m'powerfit ./session1/powerfit/10/ribosome-KsgA.map 13 ./session1/single_chain/A8MT69_pdb4ne1.ent_B2A.pdb \u001b[0m\n",
       "\u001b[32m--laplace --resampling-rate 2 --num 10 --nproc 1 --directory ./session1/powerfit/10/A8MT69_pdb4ne1.ent_B2A \u001b[0m\n",
       "\u001b[32m--delimiter , --angle 20'\u001b[0m,\n",
       "    \u001b[32m'powerfit ./session1/powerfit/10/ribosome-KsgA.map 13 ./session1/single_chain/A8MT69_pdb4e44.ent_B2A.pdb \u001b[0m\n",
       "\u001b[32m--laplace --resampling-rate 2 --num 10 --nproc 1 --directory ./session1/powerfit/10/A8MT69_pdb4e44.ent_B2A \u001b[0m\n",
       "\u001b[32m--delimiter , --angle 20'\u001b[0m,\n",
       "    \u001b[32m'powerfit ./session1/powerfit/10/ribosome-KsgA.map 13 ./session1/single_chain/A8MT69_pdb4dra.ent_E2A.pdb \u001b[0m\n",
       "\u001b[32m--laplace --resampling-rate 2 --num 10 --nproc 1 --directory ./session1/powerfit/10/A8MT69_pdb4dra.ent_E2A \u001b[0m\n",
       "\u001b[32m--delimiter , --angle 20'\u001b[0m,\n",
       "    \u001b[32m'powerfit ./session1/powerfit/10/ribosome-KsgA.map 13 ./session1/single_chain/A8MT69_pdb4ne6.ent_B2A.pdb \u001b[0m\n",
       "\u001b[32m--laplace --resampling-rate 2 --num 10 --nproc 1 --directory ./session1/powerfit/10/A8MT69_pdb4ne6.ent_B2A \u001b[0m\n",
       "\u001b[32m--delimiter , --angle 20'\u001b[0m,\n",
       "    \u001b[32m'powerfit ./session1/powerfit/10/ribosome-KsgA.map 13 ./session1/density_filtered/AF-A0A087WUV0-F1-model_v4.pdb\u001b[0m\n",
       "\u001b[32m--laplace --resampling-rate 2 --num 10 --nproc 1 --directory ./session1/powerfit/10/AF-A0A087WUV0-F1-model_v4 \u001b[0m\n",
       "\u001b[32m--delimiter , --angle 20'\u001b[0m,\n",
       "    \u001b[32m'powerfit ./session1/powerfit/10/ribosome-KsgA.map 13 ./session1/density_filtered/AF-A0A0U1RQI7-F1-model_v4.pdb\u001b[0m\n",
       "\u001b[32m--laplace --resampling-rate 2 --num 10 --nproc 1 --directory ./session1/powerfit/10/AF-A0A0U1RQI7-F1-model_v4 \u001b[0m\n",
       "\u001b[32m--delimiter , --angle 20'\u001b[0m,\n",
       "    \u001b[32m'powerfit ./session1/powerfit/10/ribosome-KsgA.map 13 ./session1/density_filtered/AF-A0A1B0GTS1-F1-model_v4.pdb\u001b[0m\n",
       "\u001b[32m--laplace --resampling-rate 2 --num 10 --nproc 1 --directory ./session1/powerfit/10/AF-A0A1B0GTS1-F1-model_v4 \u001b[0m\n",
       "\u001b[32m--delimiter , --angle 20'\u001b[0m,\n",
       "    \u001b[32m'powerfit ./session1/powerfit/10/ribosome-KsgA.map 13 ./session1/density_filtered/AF-A0A1B0GWH4-F1-model_v4.pdb\u001b[0m\n",
       "\u001b[32m--laplace --resampling-rate 2 --num 10 --nproc 1 --directory ./session1/powerfit/10/AF-A0A1B0GWH4-F1-model_v4 \u001b[0m\n",
       "\u001b[32m--delimiter , --angle 20'\u001b[0m,\n",
       "    \u001b[32m'powerfit ./session1/powerfit/10/ribosome-KsgA.map 13 ./session1/density_filtered/AF-A0A1W2PPF3-F1-model_v4.pdb\u001b[0m\n",
       "\u001b[32m--laplace --resampling-rate 2 --num 10 --nproc 1 --directory ./session1/powerfit/10/AF-A0A1W2PPF3-F1-model_v4 \u001b[0m\n",
       "\u001b[32m--delimiter , --angle 20'\u001b[0m,\n",
       "    \u001b[32m'powerfit ./session1/powerfit/10/ribosome-KsgA.map 13 ./session1/density_filtered/AF-A0A1W2PQL4-F1-model_v4.pdb\u001b[0m\n",
       "\u001b[32m--laplace --resampling-rate 2 --num 10 --nproc 1 --directory ./session1/powerfit/10/AF-A0A1W2PQL4-F1-model_v4 \u001b[0m\n",
       "\u001b[32m--delimiter , --angle 20'\u001b[0m,\n",
       "    \u001b[32m'powerfit ./session1/powerfit/10/ribosome-KsgA.map 13 ./session1/density_filtered/AF-A1YPR0-F1-model_v4.pdb \u001b[0m\n",
       "\u001b[32m--laplace --resampling-rate 2 --num 10 --nproc 1 --directory ./session1/powerfit/10/AF-A1YPR0-F1-model_v4 \u001b[0m\n",
       "\u001b[32m--delimiter , --angle 20'\u001b[0m,\n",
       "    \u001b[32m'powerfit ./session1/powerfit/10/ribosome-KsgA.map 13 ./session1/density_filtered/AF-A2RRD8-F1-model_v4.pdb \u001b[0m\n",
       "\u001b[32m--laplace --resampling-rate 2 --num 10 --nproc 1 --directory ./session1/powerfit/10/AF-A2RRD8-F1-model_v4 \u001b[0m\n",
       "\u001b[32m--delimiter , --angle 20'\u001b[0m,\n",
       "    \u001b[32m'powerfit ./session1/powerfit/10/ribosome-KsgA.map 13 ./session1/density_filtered/AF-A6NDX5-F1-model_v4.pdb \u001b[0m\n",
       "\u001b[32m--laplace --resampling-rate 2 --num 10 --nproc 1 --directory ./session1/powerfit/10/AF-A6NDX5-F1-model_v4 \u001b[0m\n",
       "\u001b[32m--delimiter , --angle 20'\u001b[0m,\n",
       "    \u001b[32m'powerfit ./session1/powerfit/10/ribosome-KsgA.map 13 ./session1/density_filtered/AF-A6NFD8-F1-model_v4.pdb \u001b[0m\n",
       "\u001b[32m--laplace --resampling-rate 2 --num 10 --nproc 1 --directory ./session1/powerfit/10/AF-A6NFD8-F1-model_v4 \u001b[0m\n",
       "\u001b[32m--delimiter , --angle 20'\u001b[0m,\n",
       "    \u001b[32m'powerfit ./session1/powerfit/10/ribosome-KsgA.map 13 ./session1/density_filtered/AF-A6NFI3-F1-model_v4.pdb \u001b[0m\n",
       "\u001b[32m--laplace --resampling-rate 2 --num 10 --nproc 1 --directory ./session1/powerfit/10/AF-A6NFI3-F1-model_v4 \u001b[0m\n",
       "\u001b[32m--delimiter , --angle 20'\u001b[0m,\n",
       "    \u001b[32m'powerfit ./session1/powerfit/10/ribosome-KsgA.map 13 ./session1/density_filtered/AF-A6NGD5-F1-model_v4.pdb \u001b[0m\n",
       "\u001b[32m--laplace --resampling-rate 2 --num 10 --nproc 1 --directory ./session1/powerfit/10/AF-A6NGD5-F1-model_v4 \u001b[0m\n",
       "\u001b[32m--delimiter , --angle 20'\u001b[0m,\n",
       "    \u001b[32m'powerfit ./session1/powerfit/10/ribosome-KsgA.map 13 ./session1/density_filtered/AF-A6NHJ4-F1-model_v4.pdb \u001b[0m\n",
       "\u001b[32m--laplace --resampling-rate 2 --num 10 --nproc 1 --directory ./session1/powerfit/10/AF-A6NHJ4-F1-model_v4 \u001b[0m\n",
       "\u001b[32m--delimiter , --angle 20'\u001b[0m,\n",
       "    \u001b[32m'powerfit ./session1/powerfit/10/ribosome-KsgA.map 13 ./session1/density_filtered/AF-A6NJL1-F1-model_v4.pdb \u001b[0m\n",
       "\u001b[32m--laplace --resampling-rate 2 --num 10 --nproc 1 --directory ./session1/powerfit/10/AF-A6NJL1-F1-model_v4 \u001b[0m\n",
       "\u001b[32m--delimiter , --angle 20'\u001b[0m,\n",
       "    \u001b[32m'powerfit ./session1/powerfit/10/ribosome-KsgA.map 13 ./session1/density_filtered/AF-A6NJT0-F1-model_v4.pdb \u001b[0m\n",
       "\u001b[32m--laplace --resampling-rate 2 --num 10 --nproc 1 --directory ./session1/powerfit/10/AF-A6NJT0-F1-model_v4 \u001b[0m\n",
       "\u001b[32m--delimiter , --angle 20'\u001b[0m,\n",
       "    \u001b[32m'powerfit ./session1/powerfit/10/ribosome-KsgA.map 13 ./session1/density_filtered/AF-A6NK53-F1-model_v4.pdb \u001b[0m\n",
       "\u001b[32m--laplace --resampling-rate 2 --num 10 --nproc 1 --directory ./session1/powerfit/10/AF-A6NK53-F1-model_v4 \u001b[0m\n",
       "\u001b[32m--delimiter , --angle 20'\u001b[0m,\n",
       "    \u001b[32m'powerfit ./session1/powerfit/10/ribosome-KsgA.map 13 ./session1/density_filtered/AF-A6NK75-F1-model_v4.pdb \u001b[0m\n",
       "\u001b[32m--laplace --resampling-rate 2 --num 10 --nproc 1 --directory ./session1/powerfit/10/AF-A6NK75-F1-model_v4 \u001b[0m\n",
       "\u001b[32m--delimiter , --angle 20'\u001b[0m,\n",
       "    \u001b[32m'powerfit ./session1/powerfit/10/ribosome-KsgA.map 13 ./session1/density_filtered/AF-A6NKF2-F1-model_v4.pdb \u001b[0m\n",
       "\u001b[32m--laplace --resampling-rate 2 --num 10 --nproc 1 --directory ./session1/powerfit/10/AF-A6NKF2-F1-model_v4 \u001b[0m\n",
       "\u001b[32m--delimiter , --angle 20'\u001b[0m,\n",
       "    \u001b[32m'powerfit ./session1/powerfit/10/ribosome-KsgA.map 13 ./session1/density_filtered/AF-A6NLW8-F1-model_v4.pdb \u001b[0m\n",
       "\u001b[32m--laplace --resampling-rate 2 --num 10 --nproc 1 --directory ./session1/powerfit/10/AF-A6NLW8-F1-model_v4 \u001b[0m\n",
       "\u001b[32m--delimiter , --angle 20'\u001b[0m,\n",
       "    \u001b[32m'powerfit ./session1/powerfit/10/ribosome-KsgA.map 13 ./session1/density_filtered/AF-A6NM28-F1-model_v4.pdb \u001b[0m\n",
       "\u001b[32m--laplace --resampling-rate 2 --num 10 --nproc 1 --directory ./session1/powerfit/10/AF-A6NM28-F1-model_v4 \u001b[0m\n",
       "\u001b[32m--delimiter , --angle 20'\u001b[0m,\n",
       "    \u001b[32m'powerfit ./session1/powerfit/10/ribosome-KsgA.map 13 ./session1/density_filtered/AF-A6NP11-F1-model_v4.pdb \u001b[0m\n",
       "\u001b[32m--laplace --resampling-rate 2 --num 10 --nproc 1 --directory ./session1/powerfit/10/AF-A6NP11-F1-model_v4 \u001b[0m\n",
       "\u001b[32m--delimiter , --angle 20'\u001b[0m,\n",
       "    \u001b[32m'powerfit ./session1/powerfit/10/ribosome-KsgA.map 13 ./session1/density_filtered/AF-A8K0S8-F1-model_v4.pdb \u001b[0m\n",
       "\u001b[32m--laplace --resampling-rate 2 --num 10 --nproc 1 --directory ./session1/powerfit/10/AF-A8K0S8-F1-model_v4 \u001b[0m\n",
       "\u001b[32m--delimiter , --angle 20'\u001b[0m,\n",
       "    \u001b[32m'powerfit ./session1/powerfit/10/ribosome-KsgA.map 13 ./session1/density_filtered/AF-A8K8V0-F1-model_v4.pdb \u001b[0m\n",
       "\u001b[32m--laplace --resampling-rate 2 --num 10 --nproc 1 --directory ./session1/powerfit/10/AF-A8K8V0-F1-model_v4 \u001b[0m\n",
       "\u001b[32m--delimiter , --angle 20'\u001b[0m,\n",
       "    \u001b[32m'powerfit ./session1/powerfit/10/ribosome-KsgA.map 13 ./session1/density_filtered/AF-A8MT65-F1-model_v4.pdb \u001b[0m\n",
       "\u001b[32m--laplace --resampling-rate 2 --num 10 --nproc 1 --directory ./session1/powerfit/10/AF-A8MT65-F1-model_v4 \u001b[0m\n",
       "\u001b[32m--delimiter , --angle 20'\u001b[0m\n",
       "\u001b[1m]\u001b[0m\n"
      ]
     },
     "metadata": {},
     "output_type": "display_data"
    }
   ],
   "source": [
    "cwd = str(Path.cwd())\n",
    "rel_commands = [c.replace(cwd, \".\") for c in commands]\n",
    "pprint(rel_commands)"
   ]
  },
  {
   "cell_type": "markdown",
   "id": "ddfe7dc7",
   "metadata": {},
   "source": [
    "These commands should be run on a cluster. Here we will just run 2 of them."
   ]
  },
  {
   "cell_type": "code",
   "execution_count": 9,
   "id": "f5fb4a60",
   "metadata": {},
   "outputs": [
    {
     "name": "stdout",
     "output_type": "stream",
     "text": [
      "Target file read from:                                                          \n",
      "\u001b[35m/home/verhoes/git/protein-detective/protein-detective/docs/session1/powerfit/10/\u001b[0m\n",
      "\u001b[95mribosome-KsgA.map\u001b[0m                                                               \n",
      "Target resolution: \u001b[1;36m13.00\u001b[0m                                                        \n",
      "Initial shape of density: \u001b[1;36m128\u001b[0m \u001b[1;36m128\u001b[0m \u001b[1;36m128\u001b[0m                                           \n",
      "Shape after trimming: \u001b[1;36m60\u001b[0m \u001b[1;36m73\u001b[0m \u001b[1;36m67\u001b[0m                                                  \n",
      "Shape after extending: \u001b[1;36m60\u001b[0m \u001b[1;36m75\u001b[0m \u001b[1;36m70\u001b[0m                                                 \n",
      "Template file read from:                                                        \n",
      "\u001b[35m/home/verhoes/git/protein-detective/protein-detective/docs/session1/single_chain\u001b[0m\n",
      "\u001b[35m/\u001b[0m\u001b[95mA8MT69_pdb4e45.ent_B2A.pdb\u001b[0m                                                     \n",
      "Reading in rotations.                                                           \n",
      "Requested rotational sampling density: \u001b[1;36m20.00\u001b[0m                                    \n",
      "Real rotational sampling density: \u001b[1;36m20.83\u001b[0m                                         \n",
      "Requested number of processors: \u001b[1;36m1\u001b[0m                                               \n",
      "Starting search                                                                 \n",
      "\u001b[2KProcessing rotations\u001b[35m 100%\u001b[0m \u001b[38;2;114;156;31m━━━━━━━━━━━━\u001b[0m \u001b[32m648/648 \u001b[0m [ \u001b[33m0:00:09\u001b[0m < \u001b[36m0:00:00\u001b[0m , \u001b[31m71 rot/s\u001b[0m ] , \u001b[31m71 rot/s\u001b[0m ]m72 rot/s\u001b[0m ]\n",
      "\u001b[?25hTime for search: 0m 9s                                                          \n",
      "Analyzing results                                                               \n",
      "Writing solutions to file.                                                      \n",
      "Writing PDBs to file.                                                           \n",
      "Total time: 0m 9s                                                               \n"
     ]
    }
   ],
   "source": [
    "!{rel_commands[6]}"
   ]
  },
  {
   "cell_type": "code",
   "execution_count": 10,
   "id": "adedebcb",
   "metadata": {},
   "outputs": [
    {
     "name": "stdout",
     "output_type": "stream",
     "text": [
      "Target file read from:                                                          \n",
      "\u001b[35m/home/verhoes/git/protein-detective/protein-detective/docs/session1/powerfit/10/\u001b[0m\n",
      "\u001b[95mribosome-KsgA.map\u001b[0m                                                               \n",
      "Target resolution: \u001b[1;36m13.00\u001b[0m                                                        \n",
      "Initial shape of density: \u001b[1;36m128\u001b[0m \u001b[1;36m128\u001b[0m \u001b[1;36m128\u001b[0m                                           \n",
      "Shape after trimming: \u001b[1;36m60\u001b[0m \u001b[1;36m73\u001b[0m \u001b[1;36m67\u001b[0m                                                  \n",
      "Shape after extending: \u001b[1;36m60\u001b[0m \u001b[1;36m75\u001b[0m \u001b[1;36m70\u001b[0m                                                 \n",
      "Template file read from:                                                        \n",
      "\u001b[35m/home/verhoes/git/protein-detective/protein-detective/docs/session1/single_chain\u001b[0m\n",
      "\u001b[35m/\u001b[0m\u001b[95mA8MT69_pdb4ne5.ent_B2A.pdb\u001b[0m                                                     \n",
      "Reading in rotations.                                                           \n",
      "Requested rotational sampling density: \u001b[1;36m20.00\u001b[0m                                    \n",
      "Real rotational sampling density: \u001b[1;36m20.83\u001b[0m                                         \n",
      "Requested number of processors: \u001b[1;36m1\u001b[0m                                               \n",
      "Starting search                                                                 \n",
      "\u001b[2KProcessing rotations\u001b[35m 100%\u001b[0m \u001b[38;2;249;38;114m━━━━━━━━━━━\u001b[0m\u001b[38;2;249;38;114m╸\u001b[0m \u001b[32m647/648 \u001b[0m [ \u001b[33m0:00:08\u001b[0m < \u001b[36m0:00:01\u001b[0m , \u001b[31m73 rot/s\u001b[0m ]m73 rot/s\u001b[0m ]\n",
      "\u001b[?25hTime for search: 0m 9s                                                          \n",
      "Analyzing results                                                               \n",
      "Writing solutions to file.                                                      \n",
      "Writing PDBs to file.                                                           \n",
      "Total time: 0m 9s                                                               \n"
     ]
    }
   ],
   "source": [
    "!{rel_commands[0]}"
   ]
  },
  {
   "cell_type": "code",
   "execution_count": 12,
   "id": "e22376af",
   "metadata": {},
   "outputs": [
    {
     "name": "stdout",
     "output_type": "stream",
     "text": [
      "Target file read from:                                                          \n",
      "\u001b[35m/home/verhoes/git/protein-detective/protein-detective/docs/session1/powerfit/10/\u001b[0m\n",
      "\u001b[95mribosome-KsgA.map\u001b[0m                                                               \n",
      "Target resolution: \u001b[1;36m13.00\u001b[0m                                                        \n",
      "Initial shape of density: \u001b[1;36m128\u001b[0m \u001b[1;36m128\u001b[0m \u001b[1;36m128\u001b[0m                                           \n",
      "Shape after trimming: \u001b[1;36m60\u001b[0m \u001b[1;36m73\u001b[0m \u001b[1;36m67\u001b[0m                                                  \n",
      "Shape after extending: \u001b[1;36m60\u001b[0m \u001b[1;36m75\u001b[0m \u001b[1;36m70\u001b[0m                                                 \n",
      "Template file read from:                                                        \n",
      "\u001b[35m/home/verhoes/git/protein-detective/protein-detective/docs/session1/density_filt\u001b[0m\n",
      "\u001b[35mered/\u001b[0m\u001b[95mAF-A8MT65-F1-model_v4.pdb\u001b[0m                                                  \n",
      "Reading in rotations.                                                           \n",
      "Requested rotational sampling density: \u001b[1;36m20.00\u001b[0m                                    \n",
      "Real rotational sampling density: \u001b[1;36m20.83\u001b[0m                                         \n",
      "Requested number of processors: \u001b[1;36m1\u001b[0m                                               \n",
      "Starting search                                                                 \n",
      "\u001b[2KProcessing rotations\u001b[35m 100%\u001b[0m \u001b[38;2;249;38;114m━━━━━━━━━━━\u001b[0m\u001b[38;2;249;38;114m╸\u001b[0m \u001b[32m647/648 \u001b[0m [ \u001b[33m0:00:08\u001b[0m < \u001b[36m0:00:01\u001b[0m , \u001b[31m73 rot/s\u001b[0m ]m73 rot/s\u001b[0m ]\n",
      "\u001b[?25hTime for search: 0m 9s                                                          \n",
      "Analyzing results                                                               \n",
      "Writing solutions to file.                                                      \n",
      "Writing PDBs to file.                                                           \n",
      "Total time: 0m 9s                                                               \n"
     ]
    }
   ],
   "source": [
    "!{rel_commands[-1]}"
   ]
  },
  {
   "cell_type": "markdown",
   "id": "b97fd69d",
   "metadata": {},
   "source": [
    "Once all powerfit jobs are done the results can be read into session database.\n",
    "Then the best structure fit can be reported."
   ]
  },
  {
   "cell_type": "code",
   "execution_count": 4,
   "id": "95cd6916",
   "metadata": {},
   "outputs": [],
   "source": [
    "from protein_detective.workflow import powerfit_report"
   ]
  },
  {
   "cell_type": "code",
   "execution_count": 5,
   "id": "ee416246",
   "metadata": {},
   "outputs": [],
   "source": [
    "solutions = powerfit_report(session_dir)"
   ]
  },
  {
   "cell_type": "code",
   "execution_count": 6,
   "id": "c1669d58",
   "metadata": {},
   "outputs": [
    {
     "data": {
      "text/plain": [
       "5238"
      ]
     },
     "execution_count": 6,
     "metadata": {},
     "output_type": "execute_result"
    }
   ],
   "source": [
    "len(solutions)"
   ]
  },
  {
   "cell_type": "code",
   "execution_count": 8,
   "id": "afda9122",
   "metadata": {},
   "outputs": [
    {
     "data": {
      "text/html": [
       "<pre style=\"white-space:pre;overflow-x:auto;line-height:normal;font-family:Menlo,'DejaVu Sans Mono',consolas,'Courier New',monospace\"><span style=\"font-weight: bold\">[</span>\n",
       "    <span style=\"color: #800080; text-decoration-color: #800080; font-weight: bold\">PowerfitSolution</span><span style=\"font-weight: bold\">(</span>\n",
       "        <span style=\"color: #808000; text-decoration-color: #808000\">rank</span>=<span style=\"color: #008080; text-decoration-color: #008080; font-weight: bold\">1</span>,\n",
       "        <span style=\"color: #808000; text-decoration-color: #808000\">cc</span>=<span style=\"color: #008080; text-decoration-color: #008080; font-weight: bold\">0.432</span>,\n",
       "        <span style=\"color: #808000; text-decoration-color: #808000\">fish_z</span>=<span style=\"color: #008080; text-decoration-color: #008080; font-weight: bold\">0.463</span>,\n",
       "        <span style=\"color: #808000; text-decoration-color: #808000\">rel_z</span>=<span style=\"color: #008080; text-decoration-color: #008080; font-weight: bold\">10.091</span>,\n",
       "        <span style=\"color: #808000; text-decoration-color: #808000\">x</span>=<span style=\"color: #008080; text-decoration-color: #008080; font-weight: bold\">227.18</span>,\n",
       "        <span style=\"color: #808000; text-decoration-color: #808000\">y</span>=<span style=\"color: #008080; text-decoration-color: #008080; font-weight: bold\">242.53</span>,\n",
       "        <span style=\"color: #808000; text-decoration-color: #808000\">z</span>=<span style=\"color: #008080; text-decoration-color: #008080; font-weight: bold\">211.83</span>,\n",
       "        <span style=\"color: #808000; text-decoration-color: #808000\">a11</span>=<span style=\"color: #008080; text-decoration-color: #008080; font-weight: bold\">0.0</span>,\n",
       "        <span style=\"color: #808000; text-decoration-color: #808000\">a12</span>=<span style=\"color: #008080; text-decoration-color: #008080; font-weight: bold\">1.0</span>,\n",
       "        <span style=\"color: #808000; text-decoration-color: #808000\">a13</span>=<span style=\"color: #008080; text-decoration-color: #008080; font-weight: bold\">0.0</span>,\n",
       "        <span style=\"color: #808000; text-decoration-color: #808000\">a21</span>=<span style=\"color: #008080; text-decoration-color: #008080; font-weight: bold\">0.0</span>,\n",
       "        <span style=\"color: #808000; text-decoration-color: #808000\">a22</span>=<span style=\"color: #008080; text-decoration-color: #008080; font-weight: bold\">0.0</span>,\n",
       "        <span style=\"color: #808000; text-decoration-color: #808000\">a23</span>=<span style=\"color: #008080; text-decoration-color: #008080; font-weight: bold\">1.0</span>,\n",
       "        <span style=\"color: #808000; text-decoration-color: #808000\">a31</span>=<span style=\"color: #008080; text-decoration-color: #008080; font-weight: bold\">1.0</span>,\n",
       "        <span style=\"color: #808000; text-decoration-color: #808000\">a32</span>=<span style=\"color: #008080; text-decoration-color: #008080; font-weight: bold\">0.0</span>,\n",
       "        <span style=\"color: #808000; text-decoration-color: #808000\">a33</span>=<span style=\"color: #008080; text-decoration-color: #008080; font-weight: bold\">0.0</span>,\n",
       "        <span style=\"color: #808000; text-decoration-color: #808000\">powerfit_run_id</span>=<span style=\"color: #008080; text-decoration-color: #008080; font-weight: bold\">10</span>,\n",
       "        <span style=\"color: #808000; text-decoration-color: #808000\">density_filter_id</span>=<span style=\"color: #800080; text-decoration-color: #800080; font-style: italic\">None</span>,\n",
       "        <span style=\"color: #808000; text-decoration-color: #808000\">af_id</span>=<span style=\"color: #800080; text-decoration-color: #800080; font-style: italic\">None</span>,\n",
       "        <span style=\"color: #808000; text-decoration-color: #808000\">uniprot_acc</span>=<span style=\"color: #008000; text-decoration-color: #008000\">'A8MT69'</span>,\n",
       "        <span style=\"color: #808000; text-decoration-color: #808000\">pdb_id</span>=<span style=\"color: #008000; text-decoration-color: #008000\">'4E45'</span>\n",
       "    <span style=\"font-weight: bold\">)</span>,\n",
       "    <span style=\"color: #800080; text-decoration-color: #800080; font-weight: bold\">PowerfitSolution</span><span style=\"font-weight: bold\">(</span>\n",
       "        <span style=\"color: #808000; text-decoration-color: #808000\">rank</span>=<span style=\"color: #008080; text-decoration-color: #008080; font-weight: bold\">1</span>,\n",
       "        <span style=\"color: #808000; text-decoration-color: #808000\">cc</span>=<span style=\"color: #008080; text-decoration-color: #008080; font-weight: bold\">0.423</span>,\n",
       "        <span style=\"color: #808000; text-decoration-color: #808000\">fish_z</span>=<span style=\"color: #008080; text-decoration-color: #008080; font-weight: bold\">0.452</span>,\n",
       "        <span style=\"color: #808000; text-decoration-color: #808000\">rel_z</span>=<span style=\"color: #008080; text-decoration-color: #008080; font-weight: bold\">10.053</span>,\n",
       "        <span style=\"color: #808000; text-decoration-color: #808000\">x</span>=<span style=\"color: #008080; text-decoration-color: #008080; font-weight: bold\">227.18</span>,\n",
       "        <span style=\"color: #808000; text-decoration-color: #808000\">y</span>=<span style=\"color: #008080; text-decoration-color: #008080; font-weight: bold\">242.53</span>,\n",
       "        <span style=\"color: #808000; text-decoration-color: #808000\">z</span>=<span style=\"color: #008080; text-decoration-color: #008080; font-weight: bold\">214.9</span>,\n",
       "        <span style=\"color: #808000; text-decoration-color: #808000\">a11</span>=<span style=\"color: #008080; text-decoration-color: #008080; font-weight: bold\">0.0</span>,\n",
       "        <span style=\"color: #808000; text-decoration-color: #808000\">a12</span>=<span style=\"color: #008080; text-decoration-color: #008080; font-weight: bold\">-0.0</span>,\n",
       "        <span style=\"color: #808000; text-decoration-color: #808000\">a13</span>=<span style=\"color: #008080; text-decoration-color: #008080; font-weight: bold\">-1.0</span>,\n",
       "        <span style=\"color: #808000; text-decoration-color: #808000\">a21</span>=<span style=\"color: #008080; text-decoration-color: #008080; font-weight: bold\">-0.604</span>,\n",
       "        <span style=\"color: #808000; text-decoration-color: #808000\">a22</span>=<span style=\"color: #008080; text-decoration-color: #008080; font-weight: bold\">0.797</span>,\n",
       "        <span style=\"color: #808000; text-decoration-color: #808000\">a23</span>=<span style=\"color: #008080; text-decoration-color: #008080; font-weight: bold\">0.0</span>,\n",
       "        <span style=\"color: #808000; text-decoration-color: #808000\">a31</span>=<span style=\"color: #008080; text-decoration-color: #008080; font-weight: bold\">0.797</span>,\n",
       "        <span style=\"color: #808000; text-decoration-color: #808000\">a32</span>=<span style=\"color: #008080; text-decoration-color: #008080; font-weight: bold\">0.604</span>,\n",
       "        <span style=\"color: #808000; text-decoration-color: #808000\">a33</span>=<span style=\"color: #008080; text-decoration-color: #008080; font-weight: bold\">0.0</span>,\n",
       "        <span style=\"color: #808000; text-decoration-color: #808000\">powerfit_run_id</span>=<span style=\"color: #008080; text-decoration-color: #008080; font-weight: bold\">10</span>,\n",
       "        <span style=\"color: #808000; text-decoration-color: #808000\">density_filter_id</span>=<span style=\"color: #800080; text-decoration-color: #800080; font-style: italic\">None</span>,\n",
       "        <span style=\"color: #808000; text-decoration-color: #808000\">af_id</span>=<span style=\"color: #800080; text-decoration-color: #800080; font-style: italic\">None</span>,\n",
       "        <span style=\"color: #808000; text-decoration-color: #808000\">uniprot_acc</span>=<span style=\"color: #008000; text-decoration-color: #008000\">'A8MT69'</span>,\n",
       "        <span style=\"color: #808000; text-decoration-color: #808000\">pdb_id</span>=<span style=\"color: #008000; text-decoration-color: #008000\">'4NE5'</span>\n",
       "    <span style=\"font-weight: bold\">)</span>,\n",
       "    <span style=\"color: #800080; text-decoration-color: #800080; font-weight: bold\">PowerfitSolution</span><span style=\"font-weight: bold\">(</span>\n",
       "        <span style=\"color: #808000; text-decoration-color: #808000\">rank</span>=<span style=\"color: #008080; text-decoration-color: #008080; font-weight: bold\">1</span>,\n",
       "        <span style=\"color: #808000; text-decoration-color: #808000\">cc</span>=<span style=\"color: #008080; text-decoration-color: #008080; font-weight: bold\">0.423</span>,\n",
       "        <span style=\"color: #808000; text-decoration-color: #808000\">fish_z</span>=<span style=\"color: #008080; text-decoration-color: #008080; font-weight: bold\">0.452</span>,\n",
       "        <span style=\"color: #808000; text-decoration-color: #808000\">rel_z</span>=<span style=\"color: #008080; text-decoration-color: #008080; font-weight: bold\">10.253</span>,\n",
       "        <span style=\"color: #808000; text-decoration-color: #808000\">x</span>=<span style=\"color: #008080; text-decoration-color: #008080; font-weight: bold\">208.76</span>,\n",
       "        <span style=\"color: #808000; text-decoration-color: #808000\">y</span>=<span style=\"color: #008080; text-decoration-color: #008080; font-weight: bold\">193.41</span>,\n",
       "        <span style=\"color: #808000; text-decoration-color: #808000\">z</span>=<span style=\"color: #008080; text-decoration-color: #008080; font-weight: bold\">257.88</span>,\n",
       "        <span style=\"color: #808000; text-decoration-color: #808000\">a11</span>=<span style=\"color: #008080; text-decoration-color: #008080; font-weight: bold\">-0.548</span>,\n",
       "        <span style=\"color: #808000; text-decoration-color: #808000\">a12</span>=<span style=\"color: #008080; text-decoration-color: #008080; font-weight: bold\">0.816</span>,\n",
       "        <span style=\"color: #808000; text-decoration-color: #808000\">a13</span>=<span style=\"color: #008080; text-decoration-color: #008080; font-weight: bold\">0.184</span>,\n",
       "        <span style=\"color: #808000; text-decoration-color: #808000\">a21</span>=<span style=\"color: #008080; text-decoration-color: #008080; font-weight: bold\">0.632</span>,\n",
       "        <span style=\"color: #808000; text-decoration-color: #808000\">a22</span>=<span style=\"color: #008080; text-decoration-color: #008080; font-weight: bold\">0.548</span>,\n",
       "        <span style=\"color: #808000; text-decoration-color: #808000\">a23</span>=<span style=\"color: #008080; text-decoration-color: #008080; font-weight: bold\">-0.548</span>,\n",
       "        <span style=\"color: #808000; text-decoration-color: #808000\">a31</span>=<span style=\"color: #008080; text-decoration-color: #008080; font-weight: bold\">-0.548</span>,\n",
       "        <span style=\"color: #808000; text-decoration-color: #808000\">a32</span>=<span style=\"color: #008080; text-decoration-color: #008080; font-weight: bold\">-0.184</span>,\n",
       "        <span style=\"color: #808000; text-decoration-color: #808000\">a33</span>=<span style=\"color: #008080; text-decoration-color: #008080; font-weight: bold\">-0.816</span>,\n",
       "        <span style=\"color: #808000; text-decoration-color: #808000\">powerfit_run_id</span>=<span style=\"color: #008080; text-decoration-color: #008080; font-weight: bold\">10</span>,\n",
       "        <span style=\"color: #808000; text-decoration-color: #808000\">density_filter_id</span>=<span style=\"color: #800080; text-decoration-color: #800080; font-style: italic\">None</span>,\n",
       "        <span style=\"color: #808000; text-decoration-color: #808000\">af_id</span>=<span style=\"color: #800080; text-decoration-color: #800080; font-style: italic\">None</span>,\n",
       "        <span style=\"color: #808000; text-decoration-color: #808000\">uniprot_acc</span>=<span style=\"color: #008000; text-decoration-color: #008000\">'A8MT69'</span>,\n",
       "        <span style=\"color: #808000; text-decoration-color: #808000\">pdb_id</span>=<span style=\"color: #008000; text-decoration-color: #008000\">'7XHO'</span>\n",
       "    <span style=\"font-weight: bold\">)</span>,\n",
       "    <span style=\"color: #800080; text-decoration-color: #800080; font-weight: bold\">PowerfitSolution</span><span style=\"font-weight: bold\">(</span>\n",
       "        <span style=\"color: #808000; text-decoration-color: #808000\">rank</span>=<span style=\"color: #008080; text-decoration-color: #008080; font-weight: bold\">2</span>,\n",
       "        <span style=\"color: #808000; text-decoration-color: #808000\">cc</span>=<span style=\"color: #008080; text-decoration-color: #008080; font-weight: bold\">0.418</span>,\n",
       "        <span style=\"color: #808000; text-decoration-color: #808000\">fish_z</span>=<span style=\"color: #008080; text-decoration-color: #008080; font-weight: bold\">0.445</span>,\n",
       "        <span style=\"color: #808000; text-decoration-color: #808000\">rel_z</span>=<span style=\"color: #008080; text-decoration-color: #008080; font-weight: bold\">9.705</span>,\n",
       "        <span style=\"color: #808000; text-decoration-color: #808000\">x</span>=<span style=\"color: #008080; text-decoration-color: #008080; font-weight: bold\">224.11</span>,\n",
       "        <span style=\"color: #808000; text-decoration-color: #808000\">y</span>=<span style=\"color: #008080; text-decoration-color: #008080; font-weight: bold\">264.02</span>,\n",
       "        <span style=\"color: #808000; text-decoration-color: #808000\">z</span>=<span style=\"color: #008080; text-decoration-color: #008080; font-weight: bold\">153.5</span>,\n",
       "        <span style=\"color: #808000; text-decoration-color: #808000\">a11</span>=<span style=\"color: #008080; text-decoration-color: #008080; font-weight: bold\">0.797</span>,\n",
       "        <span style=\"color: #808000; text-decoration-color: #808000\">a12</span>=<span style=\"color: #008080; text-decoration-color: #008080; font-weight: bold\">0.0</span>,\n",
       "        <span style=\"color: #808000; text-decoration-color: #808000\">a13</span>=<span style=\"color: #008080; text-decoration-color: #008080; font-weight: bold\">0.604</span>,\n",
       "        <span style=\"color: #808000; text-decoration-color: #808000\">a21</span>=<span style=\"color: #008080; text-decoration-color: #008080; font-weight: bold\">0.604</span>,\n",
       "        <span style=\"color: #808000; text-decoration-color: #808000\">a22</span>=<span style=\"color: #008080; text-decoration-color: #008080; font-weight: bold\">-0.0</span>,\n",
       "        <span style=\"color: #808000; text-decoration-color: #808000\">a23</span>=<span style=\"color: #008080; text-decoration-color: #008080; font-weight: bold\">-0.797</span>,\n",
       "        <span style=\"color: #808000; text-decoration-color: #808000\">a31</span>=<span style=\"color: #008080; text-decoration-color: #008080; font-weight: bold\">0.0</span>,\n",
       "        <span style=\"color: #808000; text-decoration-color: #808000\">a32</span>=<span style=\"color: #008080; text-decoration-color: #008080; font-weight: bold\">1.0</span>,\n",
       "        <span style=\"color: #808000; text-decoration-color: #808000\">a33</span>=<span style=\"color: #008080; text-decoration-color: #008080; font-weight: bold\">-0.0</span>,\n",
       "        <span style=\"color: #808000; text-decoration-color: #808000\">powerfit_run_id</span>=<span style=\"color: #008080; text-decoration-color: #008080; font-weight: bold\">10</span>,\n",
       "        <span style=\"color: #808000; text-decoration-color: #808000\">density_filter_id</span>=<span style=\"color: #800080; text-decoration-color: #800080; font-style: italic\">None</span>,\n",
       "        <span style=\"color: #808000; text-decoration-color: #808000\">af_id</span>=<span style=\"color: #800080; text-decoration-color: #800080; font-style: italic\">None</span>,\n",
       "        <span style=\"color: #808000; text-decoration-color: #808000\">uniprot_acc</span>=<span style=\"color: #008000; text-decoration-color: #008000\">'A8MT69'</span>,\n",
       "        <span style=\"color: #808000; text-decoration-color: #808000\">pdb_id</span>=<span style=\"color: #008000; text-decoration-color: #008000\">'4E45'</span>\n",
       "    <span style=\"font-weight: bold\">)</span>,\n",
       "    <span style=\"color: #800080; text-decoration-color: #800080; font-weight: bold\">PowerfitSolution</span><span style=\"font-weight: bold\">(</span>\n",
       "        <span style=\"color: #808000; text-decoration-color: #808000\">rank</span>=<span style=\"color: #008080; text-decoration-color: #008080; font-weight: bold\">2</span>,\n",
       "        <span style=\"color: #808000; text-decoration-color: #808000\">cc</span>=<span style=\"color: #008080; text-decoration-color: #008080; font-weight: bold\">0.414</span>,\n",
       "        <span style=\"color: #808000; text-decoration-color: #808000\">fish_z</span>=<span style=\"color: #008080; text-decoration-color: #008080; font-weight: bold\">0.441</span>,\n",
       "        <span style=\"color: #808000; text-decoration-color: #808000\">rel_z</span>=<span style=\"color: #008080; text-decoration-color: #008080; font-weight: bold\">9.815</span>,\n",
       "        <span style=\"color: #808000; text-decoration-color: #808000\">x</span>=<span style=\"color: #008080; text-decoration-color: #008080; font-weight: bold\">227.18</span>,\n",
       "        <span style=\"color: #808000; text-decoration-color: #808000\">y</span>=<span style=\"color: #008080; text-decoration-color: #008080; font-weight: bold\">138.15</span>,\n",
       "        <span style=\"color: #808000; text-decoration-color: #808000\">z</span>=<span style=\"color: #008080; text-decoration-color: #008080; font-weight: bold\">227.18</span>,\n",
       "        <span style=\"color: #808000; text-decoration-color: #808000\">a11</span>=<span style=\"color: #008080; text-decoration-color: #008080; font-weight: bold\">-0.0</span>,\n",
       "        <span style=\"color: #808000; text-decoration-color: #808000\">a12</span>=<span style=\"color: #008080; text-decoration-color: #008080; font-weight: bold\">0.0</span>,\n",
       "        <span style=\"color: #808000; text-decoration-color: #808000\">a13</span>=<span style=\"color: #008080; text-decoration-color: #008080; font-weight: bold\">1.0</span>,\n",
       "        <span style=\"color: #808000; text-decoration-color: #808000\">a21</span>=<span style=\"color: #008080; text-decoration-color: #008080; font-weight: bold\">0.0</span>,\n",
       "        <span style=\"color: #808000; text-decoration-color: #808000\">a22</span>=<span style=\"color: #008080; text-decoration-color: #008080; font-weight: bold\">-1.0</span>,\n",
       "        <span style=\"color: #808000; text-decoration-color: #808000\">a23</span>=<span style=\"color: #008080; text-decoration-color: #008080; font-weight: bold\">0.0</span>,\n",
       "        <span style=\"color: #808000; text-decoration-color: #808000\">a31</span>=<span style=\"color: #008080; text-decoration-color: #008080; font-weight: bold\">1.0</span>,\n",
       "        <span style=\"color: #808000; text-decoration-color: #808000\">a32</span>=<span style=\"color: #008080; text-decoration-color: #008080; font-weight: bold\">0.0</span>,\n",
       "        <span style=\"color: #808000; text-decoration-color: #808000\">a33</span>=<span style=\"color: #008080; text-decoration-color: #008080; font-weight: bold\">-0.0</span>,\n",
       "        <span style=\"color: #808000; text-decoration-color: #808000\">powerfit_run_id</span>=<span style=\"color: #008080; text-decoration-color: #008080; font-weight: bold\">10</span>,\n",
       "        <span style=\"color: #808000; text-decoration-color: #808000\">density_filter_id</span>=<span style=\"color: #800080; text-decoration-color: #800080; font-style: italic\">None</span>,\n",
       "        <span style=\"color: #808000; text-decoration-color: #808000\">af_id</span>=<span style=\"color: #800080; text-decoration-color: #800080; font-style: italic\">None</span>,\n",
       "        <span style=\"color: #808000; text-decoration-color: #808000\">uniprot_acc</span>=<span style=\"color: #008000; text-decoration-color: #008000\">'A8MT69'</span>,\n",
       "        <span style=\"color: #808000; text-decoration-color: #808000\">pdb_id</span>=<span style=\"color: #008000; text-decoration-color: #008000\">'4NE5'</span>\n",
       "    <span style=\"font-weight: bold\">)</span>\n",
       "<span style=\"font-weight: bold\">]</span>\n",
       "</pre>\n"
      ],
      "text/plain": [
       "\u001b[1m[\u001b[0m\n",
       "    \u001b[1;35mPowerfitSolution\u001b[0m\u001b[1m(\u001b[0m\n",
       "        \u001b[33mrank\u001b[0m=\u001b[1;36m1\u001b[0m,\n",
       "        \u001b[33mcc\u001b[0m=\u001b[1;36m0\u001b[0m\u001b[1;36m.432\u001b[0m,\n",
       "        \u001b[33mfish_z\u001b[0m=\u001b[1;36m0\u001b[0m\u001b[1;36m.463\u001b[0m,\n",
       "        \u001b[33mrel_z\u001b[0m=\u001b[1;36m10\u001b[0m\u001b[1;36m.091\u001b[0m,\n",
       "        \u001b[33mx\u001b[0m=\u001b[1;36m227\u001b[0m\u001b[1;36m.18\u001b[0m,\n",
       "        \u001b[33my\u001b[0m=\u001b[1;36m242\u001b[0m\u001b[1;36m.53\u001b[0m,\n",
       "        \u001b[33mz\u001b[0m=\u001b[1;36m211\u001b[0m\u001b[1;36m.83\u001b[0m,\n",
       "        \u001b[33ma11\u001b[0m=\u001b[1;36m0\u001b[0m\u001b[1;36m.0\u001b[0m,\n",
       "        \u001b[33ma12\u001b[0m=\u001b[1;36m1\u001b[0m\u001b[1;36m.0\u001b[0m,\n",
       "        \u001b[33ma13\u001b[0m=\u001b[1;36m0\u001b[0m\u001b[1;36m.0\u001b[0m,\n",
       "        \u001b[33ma21\u001b[0m=\u001b[1;36m0\u001b[0m\u001b[1;36m.0\u001b[0m,\n",
       "        \u001b[33ma22\u001b[0m=\u001b[1;36m0\u001b[0m\u001b[1;36m.0\u001b[0m,\n",
       "        \u001b[33ma23\u001b[0m=\u001b[1;36m1\u001b[0m\u001b[1;36m.0\u001b[0m,\n",
       "        \u001b[33ma31\u001b[0m=\u001b[1;36m1\u001b[0m\u001b[1;36m.0\u001b[0m,\n",
       "        \u001b[33ma32\u001b[0m=\u001b[1;36m0\u001b[0m\u001b[1;36m.0\u001b[0m,\n",
       "        \u001b[33ma33\u001b[0m=\u001b[1;36m0\u001b[0m\u001b[1;36m.0\u001b[0m,\n",
       "        \u001b[33mpowerfit_run_id\u001b[0m=\u001b[1;36m10\u001b[0m,\n",
       "        \u001b[33mdensity_filter_id\u001b[0m=\u001b[3;35mNone\u001b[0m,\n",
       "        \u001b[33maf_id\u001b[0m=\u001b[3;35mNone\u001b[0m,\n",
       "        \u001b[33muniprot_acc\u001b[0m=\u001b[32m'A8MT69'\u001b[0m,\n",
       "        \u001b[33mpdb_id\u001b[0m=\u001b[32m'4E45'\u001b[0m\n",
       "    \u001b[1m)\u001b[0m,\n",
       "    \u001b[1;35mPowerfitSolution\u001b[0m\u001b[1m(\u001b[0m\n",
       "        \u001b[33mrank\u001b[0m=\u001b[1;36m1\u001b[0m,\n",
       "        \u001b[33mcc\u001b[0m=\u001b[1;36m0\u001b[0m\u001b[1;36m.423\u001b[0m,\n",
       "        \u001b[33mfish_z\u001b[0m=\u001b[1;36m0\u001b[0m\u001b[1;36m.452\u001b[0m,\n",
       "        \u001b[33mrel_z\u001b[0m=\u001b[1;36m10\u001b[0m\u001b[1;36m.053\u001b[0m,\n",
       "        \u001b[33mx\u001b[0m=\u001b[1;36m227\u001b[0m\u001b[1;36m.18\u001b[0m,\n",
       "        \u001b[33my\u001b[0m=\u001b[1;36m242\u001b[0m\u001b[1;36m.53\u001b[0m,\n",
       "        \u001b[33mz\u001b[0m=\u001b[1;36m214\u001b[0m\u001b[1;36m.9\u001b[0m,\n",
       "        \u001b[33ma11\u001b[0m=\u001b[1;36m0\u001b[0m\u001b[1;36m.0\u001b[0m,\n",
       "        \u001b[33ma12\u001b[0m=\u001b[1;36m-0.0\u001b[0m,\n",
       "        \u001b[33ma13\u001b[0m=\u001b[1;36m-1.0\u001b[0m,\n",
       "        \u001b[33ma21\u001b[0m=\u001b[1;36m-0.604\u001b[0m,\n",
       "        \u001b[33ma22\u001b[0m=\u001b[1;36m0\u001b[0m\u001b[1;36m.797\u001b[0m,\n",
       "        \u001b[33ma23\u001b[0m=\u001b[1;36m0\u001b[0m\u001b[1;36m.0\u001b[0m,\n",
       "        \u001b[33ma31\u001b[0m=\u001b[1;36m0\u001b[0m\u001b[1;36m.797\u001b[0m,\n",
       "        \u001b[33ma32\u001b[0m=\u001b[1;36m0\u001b[0m\u001b[1;36m.604\u001b[0m,\n",
       "        \u001b[33ma33\u001b[0m=\u001b[1;36m0\u001b[0m\u001b[1;36m.0\u001b[0m,\n",
       "        \u001b[33mpowerfit_run_id\u001b[0m=\u001b[1;36m10\u001b[0m,\n",
       "        \u001b[33mdensity_filter_id\u001b[0m=\u001b[3;35mNone\u001b[0m,\n",
       "        \u001b[33maf_id\u001b[0m=\u001b[3;35mNone\u001b[0m,\n",
       "        \u001b[33muniprot_acc\u001b[0m=\u001b[32m'A8MT69'\u001b[0m,\n",
       "        \u001b[33mpdb_id\u001b[0m=\u001b[32m'4NE5'\u001b[0m\n",
       "    \u001b[1m)\u001b[0m,\n",
       "    \u001b[1;35mPowerfitSolution\u001b[0m\u001b[1m(\u001b[0m\n",
       "        \u001b[33mrank\u001b[0m=\u001b[1;36m1\u001b[0m,\n",
       "        \u001b[33mcc\u001b[0m=\u001b[1;36m0\u001b[0m\u001b[1;36m.423\u001b[0m,\n",
       "        \u001b[33mfish_z\u001b[0m=\u001b[1;36m0\u001b[0m\u001b[1;36m.452\u001b[0m,\n",
       "        \u001b[33mrel_z\u001b[0m=\u001b[1;36m10\u001b[0m\u001b[1;36m.253\u001b[0m,\n",
       "        \u001b[33mx\u001b[0m=\u001b[1;36m208\u001b[0m\u001b[1;36m.76\u001b[0m,\n",
       "        \u001b[33my\u001b[0m=\u001b[1;36m193\u001b[0m\u001b[1;36m.41\u001b[0m,\n",
       "        \u001b[33mz\u001b[0m=\u001b[1;36m257\u001b[0m\u001b[1;36m.88\u001b[0m,\n",
       "        \u001b[33ma11\u001b[0m=\u001b[1;36m-0.548\u001b[0m,\n",
       "        \u001b[33ma12\u001b[0m=\u001b[1;36m0\u001b[0m\u001b[1;36m.816\u001b[0m,\n",
       "        \u001b[33ma13\u001b[0m=\u001b[1;36m0\u001b[0m\u001b[1;36m.184\u001b[0m,\n",
       "        \u001b[33ma21\u001b[0m=\u001b[1;36m0\u001b[0m\u001b[1;36m.632\u001b[0m,\n",
       "        \u001b[33ma22\u001b[0m=\u001b[1;36m0\u001b[0m\u001b[1;36m.548\u001b[0m,\n",
       "        \u001b[33ma23\u001b[0m=\u001b[1;36m-0.548\u001b[0m,\n",
       "        \u001b[33ma31\u001b[0m=\u001b[1;36m-0.548\u001b[0m,\n",
       "        \u001b[33ma32\u001b[0m=\u001b[1;36m-0.184\u001b[0m,\n",
       "        \u001b[33ma33\u001b[0m=\u001b[1;36m-0.816\u001b[0m,\n",
       "        \u001b[33mpowerfit_run_id\u001b[0m=\u001b[1;36m10\u001b[0m,\n",
       "        \u001b[33mdensity_filter_id\u001b[0m=\u001b[3;35mNone\u001b[0m,\n",
       "        \u001b[33maf_id\u001b[0m=\u001b[3;35mNone\u001b[0m,\n",
       "        \u001b[33muniprot_acc\u001b[0m=\u001b[32m'A8MT69'\u001b[0m,\n",
       "        \u001b[33mpdb_id\u001b[0m=\u001b[32m'7XHO'\u001b[0m\n",
       "    \u001b[1m)\u001b[0m,\n",
       "    \u001b[1;35mPowerfitSolution\u001b[0m\u001b[1m(\u001b[0m\n",
       "        \u001b[33mrank\u001b[0m=\u001b[1;36m2\u001b[0m,\n",
       "        \u001b[33mcc\u001b[0m=\u001b[1;36m0\u001b[0m\u001b[1;36m.418\u001b[0m,\n",
       "        \u001b[33mfish_z\u001b[0m=\u001b[1;36m0\u001b[0m\u001b[1;36m.445\u001b[0m,\n",
       "        \u001b[33mrel_z\u001b[0m=\u001b[1;36m9\u001b[0m\u001b[1;36m.705\u001b[0m,\n",
       "        \u001b[33mx\u001b[0m=\u001b[1;36m224\u001b[0m\u001b[1;36m.11\u001b[0m,\n",
       "        \u001b[33my\u001b[0m=\u001b[1;36m264\u001b[0m\u001b[1;36m.02\u001b[0m,\n",
       "        \u001b[33mz\u001b[0m=\u001b[1;36m153\u001b[0m\u001b[1;36m.5\u001b[0m,\n",
       "        \u001b[33ma11\u001b[0m=\u001b[1;36m0\u001b[0m\u001b[1;36m.797\u001b[0m,\n",
       "        \u001b[33ma12\u001b[0m=\u001b[1;36m0\u001b[0m\u001b[1;36m.0\u001b[0m,\n",
       "        \u001b[33ma13\u001b[0m=\u001b[1;36m0\u001b[0m\u001b[1;36m.604\u001b[0m,\n",
       "        \u001b[33ma21\u001b[0m=\u001b[1;36m0\u001b[0m\u001b[1;36m.604\u001b[0m,\n",
       "        \u001b[33ma22\u001b[0m=\u001b[1;36m-0.0\u001b[0m,\n",
       "        \u001b[33ma23\u001b[0m=\u001b[1;36m-0.797\u001b[0m,\n",
       "        \u001b[33ma31\u001b[0m=\u001b[1;36m0\u001b[0m\u001b[1;36m.0\u001b[0m,\n",
       "        \u001b[33ma32\u001b[0m=\u001b[1;36m1\u001b[0m\u001b[1;36m.0\u001b[0m,\n",
       "        \u001b[33ma33\u001b[0m=\u001b[1;36m-0.0\u001b[0m,\n",
       "        \u001b[33mpowerfit_run_id\u001b[0m=\u001b[1;36m10\u001b[0m,\n",
       "        \u001b[33mdensity_filter_id\u001b[0m=\u001b[3;35mNone\u001b[0m,\n",
       "        \u001b[33maf_id\u001b[0m=\u001b[3;35mNone\u001b[0m,\n",
       "        \u001b[33muniprot_acc\u001b[0m=\u001b[32m'A8MT69'\u001b[0m,\n",
       "        \u001b[33mpdb_id\u001b[0m=\u001b[32m'4E45'\u001b[0m\n",
       "    \u001b[1m)\u001b[0m,\n",
       "    \u001b[1;35mPowerfitSolution\u001b[0m\u001b[1m(\u001b[0m\n",
       "        \u001b[33mrank\u001b[0m=\u001b[1;36m2\u001b[0m,\n",
       "        \u001b[33mcc\u001b[0m=\u001b[1;36m0\u001b[0m\u001b[1;36m.414\u001b[0m,\n",
       "        \u001b[33mfish_z\u001b[0m=\u001b[1;36m0\u001b[0m\u001b[1;36m.441\u001b[0m,\n",
       "        \u001b[33mrel_z\u001b[0m=\u001b[1;36m9\u001b[0m\u001b[1;36m.815\u001b[0m,\n",
       "        \u001b[33mx\u001b[0m=\u001b[1;36m227\u001b[0m\u001b[1;36m.18\u001b[0m,\n",
       "        \u001b[33my\u001b[0m=\u001b[1;36m138\u001b[0m\u001b[1;36m.15\u001b[0m,\n",
       "        \u001b[33mz\u001b[0m=\u001b[1;36m227\u001b[0m\u001b[1;36m.18\u001b[0m,\n",
       "        \u001b[33ma11\u001b[0m=\u001b[1;36m-0.0\u001b[0m,\n",
       "        \u001b[33ma12\u001b[0m=\u001b[1;36m0\u001b[0m\u001b[1;36m.0\u001b[0m,\n",
       "        \u001b[33ma13\u001b[0m=\u001b[1;36m1\u001b[0m\u001b[1;36m.0\u001b[0m,\n",
       "        \u001b[33ma21\u001b[0m=\u001b[1;36m0\u001b[0m\u001b[1;36m.0\u001b[0m,\n",
       "        \u001b[33ma22\u001b[0m=\u001b[1;36m-1.0\u001b[0m,\n",
       "        \u001b[33ma23\u001b[0m=\u001b[1;36m0\u001b[0m\u001b[1;36m.0\u001b[0m,\n",
       "        \u001b[33ma31\u001b[0m=\u001b[1;36m1\u001b[0m\u001b[1;36m.0\u001b[0m,\n",
       "        \u001b[33ma32\u001b[0m=\u001b[1;36m0\u001b[0m\u001b[1;36m.0\u001b[0m,\n",
       "        \u001b[33ma33\u001b[0m=\u001b[1;36m-0.0\u001b[0m,\n",
       "        \u001b[33mpowerfit_run_id\u001b[0m=\u001b[1;36m10\u001b[0m,\n",
       "        \u001b[33mdensity_filter_id\u001b[0m=\u001b[3;35mNone\u001b[0m,\n",
       "        \u001b[33maf_id\u001b[0m=\u001b[3;35mNone\u001b[0m,\n",
       "        \u001b[33muniprot_acc\u001b[0m=\u001b[32m'A8MT69'\u001b[0m,\n",
       "        \u001b[33mpdb_id\u001b[0m=\u001b[32m'4NE5'\u001b[0m\n",
       "    \u001b[1m)\u001b[0m\n",
       "\u001b[1m]\u001b[0m\n"
      ]
     },
     "metadata": {},
     "output_type": "display_data"
    }
   ],
   "source": [
    "pprint(solutions[0:5])"
   ]
  },
  {
   "cell_type": "code",
   "execution_count": null,
   "id": "49978915",
   "metadata": {},
   "outputs": [],
   "source": []
  }
 ],
 "metadata": {
  "kernelspec": {
   "display_name": ".venv",
   "language": "python",
   "name": "python3"
  },
  "language_info": {
   "codemirror_mode": {
    "name": "ipython",
    "version": 3
   },
   "file_extension": ".py",
   "mimetype": "text/x-python",
   "name": "python",
   "nbconvert_exporter": "python",
   "pygments_lexer": "ipython3",
   "version": "3.13.2"
  }
 },
 "nbformat": 4,
 "nbformat_minor": 5
}
