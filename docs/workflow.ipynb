{
 "cells": [
  {
   "cell_type": "markdown",
   "id": "8664b8a5",
   "metadata": {},
   "source": [
    "# Run workflow up to storing in database"
   ]
  },
  {
   "cell_type": "code",
   "execution_count": null,
   "id": "d7265a43",
   "metadata": {},
   "outputs": [],
   "source": [
    "from pathlib import Path\n",
    "\n",
    "from protein_detective.uniprot import Query\n",
    "from protein_detective.workflow import retrieve_structures"
   ]
  },
  {
   "cell_type": "code",
   "execution_count": 2,
   "id": "b5a4649f",
   "metadata": {},
   "outputs": [],
   "source": [
    "import logging\n",
    "\n",
    "logging.basicConfig(level=logging.WARNING)\n",
    "# Set to WARNING to see only warnings\n",
    "# Set to INFO to see sparql queries\n",
    "# Set to DEBUG to see raw results"
   ]
  },
  {
   "cell_type": "code",
   "execution_count": 3,
   "id": "d38ca4bd",
   "metadata": {},
   "outputs": [],
   "source": [
    "query = Query(\n",
    "    taxon_id=\"9606\",\n",
    "    reviewed=True,\n",
    "    subcellular_location_uniprot=\"nucleus\",\n",
    "    subcellular_location_go=\"GO:0005634\",  # Cellular component - Nucleus\n",
    "    molecular_function_go=\"GO:0003677\",  # Molecular function - DNA binding\n",
    ")"
   ]
  },
  {
   "cell_type": "code",
   "execution_count": null,
   "id": "c049dc09",
   "metadata": {},
   "outputs": [],
   "source": [
    "session_dir = Path(\"session1\")\n",
    "session_dir"
   ]
  },
  {
   "cell_type": "code",
   "execution_count": null,
   "id": "397cc198",
   "metadata": {},
   "outputs": [
    {
     "name": "stderr",
     "output_type": "stream",
     "text": [
      "WARNING:protein_detective.uniprot:Search for pdbs on uniprot returned 10 results.There may be more results available, but they are not returned due to the limit of 10. Consider increasing the limit to get more results.\n",
      "Downloading files: 100%|██████████| 4/4 [00:00<00:00, 14966.29it/s]\n",
      "WARNING:protein_detective.uniprot:Search for alphafold entries on uniprot returned 10 results.There may be more results available, but they are not returned due to the limit of 10. Consider increasing the limit to get more results.\n",
      "Fetching summaries: 100%|██████████| 10/10 [00:00<00:00, 25.36it/s]\n",
      "Downloading files: 100%|██████████| 20/20 [00:00<00:00, 55701.25it/s]\n"
     ]
    },
    {
     "data": {
      "text/plain": [
       "PosixPath('session1/session.db')"
      ]
     },
     "execution_count": 5,
     "metadata": {},
     "output_type": "execute_result"
    }
   ],
   "source": [
    "db_path = await retrieve_structures(query, session_dir, limit=10)\n",
    "db_path"
   ]
  },
  {
   "cell_type": "markdown",
   "id": "8782a4ec",
   "metadata": {},
   "source": [
    "### Query session database"
   ]
  },
  {
   "cell_type": "code",
   "execution_count": 6,
   "id": "b3d79821",
   "metadata": {},
   "outputs": [
    {
     "data": {
      "text/html": [
       "<span style=\"None\">The &#x27;toml&#x27; package isn&#x27;t installed. To load settings from pyproject.toml or ~/.jupysql/config, install with: pip install toml</span>"
      ],
      "text/plain": [
       "The 'toml' package isn't installed. To load settings from pyproject.toml or ~/.jupysql/config, install with: pip install toml"
      ]
     },
     "metadata": {},
     "output_type": "display_data"
    }
   ],
   "source": [
    "import duckdb\n",
    "\n",
    "%load_ext sql\n",
    "conn = duckdb.connect(db_path)\n",
    "%sql conn --alias duckdb"
   ]
  },
  {
   "cell_type": "code",
   "execution_count": 7,
   "id": "834038b8",
   "metadata": {},
   "outputs": [
    {
     "data": {
      "text/html": [
       "<span style=\"None\">Running query in &#x27;duckdb&#x27;</span>"
      ],
      "text/plain": [
       "Running query in 'duckdb'"
      ]
     },
     "metadata": {},
     "output_type": "display_data"
    },
    {
     "data": {
      "text/html": [
       "<table>\n",
       "    <thead>\n",
       "        <tr>\n",
       "            <th>uniprot_acc</th>\n",
       "        </tr>\n",
       "    </thead>\n",
       "    <tbody>\n",
       "        <tr>\n",
       "            <td>A8MT69</td>\n",
       "        </tr>\n",
       "        <tr>\n",
       "            <td>A0A1B0GTS1</td>\n",
       "        </tr>\n",
       "        <tr>\n",
       "            <td>A0A0U1RQI7</td>\n",
       "        </tr>\n",
       "        <tr>\n",
       "            <td>A0A087WUV0</td>\n",
       "        </tr>\n",
       "        <tr>\n",
       "            <td>A0A1B0GWH4</td>\n",
       "        </tr>\n",
       "        <tr>\n",
       "            <td>A0A1W2PQ73</td>\n",
       "        </tr>\n",
       "        <tr>\n",
       "            <td>A0A0C5B5G6</td>\n",
       "        </tr>\n",
       "        <tr>\n",
       "            <td>A0A1W2PPK0</td>\n",
       "        </tr>\n",
       "        <tr>\n",
       "            <td>A0A1W2PPM1</td>\n",
       "        </tr>\n",
       "        <tr>\n",
       "            <td>A0A1B0GVZ6</td>\n",
       "        </tr>\n",
       "    </tbody>\n",
       "</table>\n",
       "<span style=\"font-style:italic;text-align:center;\">Truncated to <a href=\"https://jupysql.ploomber.io/en/latest/api/configuration.html#displaylimit\">displaylimit</a> of 10.</span>"
      ],
      "text/plain": [
       "+-------------+\n",
       "| uniprot_acc |\n",
       "+-------------+\n",
       "|    A8MT69   |\n",
       "|  A0A1B0GTS1 |\n",
       "|  A0A0U1RQI7 |\n",
       "|  A0A087WUV0 |\n",
       "|  A0A1B0GWH4 |\n",
       "|  A0A1W2PQ73 |\n",
       "|  A0A0C5B5G6 |\n",
       "|  A0A1W2PPK0 |\n",
       "|  A0A1W2PPM1 |\n",
       "|  A0A1B0GVZ6 |\n",
       "+-------------+\n",
       "Truncated to displaylimit of 10."
      ]
     },
     "execution_count": 7,
     "metadata": {},
     "output_type": "execute_result"
    }
   ],
   "source": [
    "%sql SELECT * FROM proteins"
   ]
  },
  {
   "cell_type": "code",
   "execution_count": 8,
   "id": "68e07caa",
   "metadata": {},
   "outputs": [
    {
     "data": {
      "text/html": [
       "<span style=\"None\">Running query in &#x27;duckdb&#x27;</span>"
      ],
      "text/plain": [
       "Running query in 'duckdb'"
      ]
     },
     "metadata": {},
     "output_type": "display_data"
    },
    {
     "data": {
      "text/html": [
       "<table>\n",
       "    <thead>\n",
       "        <tr>\n",
       "            <th>pdb_id</th>\n",
       "            <th>method</th>\n",
       "            <th>resolution</th>\n",
       "            <th>pdb_file</th>\n",
       "        </tr>\n",
       "    </thead>\n",
       "    <tbody>\n",
       "        <tr>\n",
       "            <td>4E45</td>\n",
       "            <td>X-Ray_Crystallography</td>\n",
       "            <td>2.0</td>\n",
       "            <td>session1/downloads/pdb4e45.ent.gz</td>\n",
       "        </tr>\n",
       "        <tr>\n",
       "            <td>4DRA</td>\n",
       "            <td>X-Ray_Crystallography</td>\n",
       "            <td>2.4100000858306885</td>\n",
       "            <td>session1/downloads/pdb4drb.ent.gz</td>\n",
       "        </tr>\n",
       "        <tr>\n",
       "            <td>4E44</td>\n",
       "            <td>X-Ray_Crystallography</td>\n",
       "            <td>2.0999999046325684</td>\n",
       "            <td>session1/downloads/pdb4e44.ent.gz</td>\n",
       "        </tr>\n",
       "        <tr>\n",
       "            <td>4DRB</td>\n",
       "            <td>X-Ray_Crystallography</td>\n",
       "            <td>2.630000114440918</td>\n",
       "            <td>session1/downloads/pdb4dra.ent.gz</td>\n",
       "        </tr>\n",
       "    </tbody>\n",
       "</table>"
      ],
      "text/plain": [
       "+--------+-----------------------+--------------------+-----------------------------------+\n",
       "| pdb_id |         method        |     resolution     |              pdb_file             |\n",
       "+--------+-----------------------+--------------------+-----------------------------------+\n",
       "|  4E45  | X-Ray_Crystallography |        2.0         | session1/downloads/pdb4e45.ent.gz |\n",
       "|  4DRA  | X-Ray_Crystallography | 2.4100000858306885 | session1/downloads/pdb4drb.ent.gz |\n",
       "|  4E44  | X-Ray_Crystallography | 2.0999999046325684 | session1/downloads/pdb4e44.ent.gz |\n",
       "|  4DRB  | X-Ray_Crystallography | 2.630000114440918  | session1/downloads/pdb4dra.ent.gz |\n",
       "+--------+-----------------------+--------------------+-----------------------------------+"
      ]
     },
     "execution_count": 8,
     "metadata": {},
     "output_type": "execute_result"
    }
   ],
   "source": [
    "%sql SELECT * FROM pdbs"
   ]
  },
  {
   "cell_type": "code",
   "execution_count": 9,
   "id": "558e3b8c",
   "metadata": {},
   "outputs": [
    {
     "data": {
      "text/html": [
       "<span style=\"None\">Running query in &#x27;duckdb&#x27;</span>"
      ],
      "text/plain": [
       "Running query in 'duckdb'"
      ]
     },
     "metadata": {},
     "output_type": "display_data"
    },
    {
     "data": {
      "text/html": [
       "<table>\n",
       "    <thead>\n",
       "        <tr>\n",
       "            <th>uniprot_acc</th>\n",
       "            <th>chain</th>\n",
       "            <th>pdb_id</th>\n",
       "        </tr>\n",
       "    </thead>\n",
       "    <tbody>\n",
       "        <tr>\n",
       "            <td>A8MT69</td>\n",
       "            <td>A/C/F/H/K/M=1-110</td>\n",
       "            <td>4E45</td>\n",
       "        </tr>\n",
       "        <tr>\n",
       "            <td>A8MT69</td>\n",
       "            <td>A/B/C/D=1-107</td>\n",
       "            <td>4DRA</td>\n",
       "        </tr>\n",
       "        <tr>\n",
       "            <td>A8MT69</td>\n",
       "            <td>B/D=1-81</td>\n",
       "            <td>4E44</td>\n",
       "        </tr>\n",
       "        <tr>\n",
       "            <td>A8MT69</td>\n",
       "            <td>J/K/L/M/N/O=1-81</td>\n",
       "            <td>4DRB</td>\n",
       "        </tr>\n",
       "    </tbody>\n",
       "</table>"
      ],
      "text/plain": [
       "+-------------+-------------------+--------+\n",
       "| uniprot_acc |       chain       | pdb_id |\n",
       "+-------------+-------------------+--------+\n",
       "|    A8MT69   | A/C/F/H/K/M=1-110 |  4E45  |\n",
       "|    A8MT69   |   A/B/C/D=1-107   |  4DRA  |\n",
       "|    A8MT69   |      B/D=1-81     |  4E44  |\n",
       "|    A8MT69   |  J/K/L/M/N/O=1-81 |  4DRB  |\n",
       "+-------------+-------------------+--------+"
      ]
     },
     "execution_count": 9,
     "metadata": {},
     "output_type": "execute_result"
    }
   ],
   "source": [
    "%sql SELECT * FROM proteins_pdbs"
   ]
  },
  {
   "cell_type": "code",
   "execution_count": 11,
   "id": "7df63761",
   "metadata": {},
   "outputs": [
    {
     "data": {
      "text/html": [
       "<span style=\"None\">Running query in &#x27;duckdb&#x27;</span>"
      ],
      "text/plain": [
       "Running query in 'duckdb'"
      ]
     },
     "metadata": {},
     "output_type": "display_data"
    },
    {
     "data": {
      "text/html": [
       "<table>\n",
       "    <thead>\n",
       "        <tr>\n",
       "            <th>uniprot_acc</th>\n",
       "            <th>summary</th>\n",
       "            <th>pdb_file</th>\n",
       "            <th>pae_file</th>\n",
       "        </tr>\n",
       "    </thead>\n",
       "    <tbody>\n",
       "        <tr>\n",
       "            <td>A0A1B0GTS1</td>\n",
       "            <td>{\"entryId\":\"AF-A0A1B0GTS1-F1\",\"gene\":\"HSFX4\",\"sequenceChecksum\":\"C062984AED1EA2B9\",\"sequenceVersionDate\":\"2016-10-05\",\"uniprotAccession\":\"A0A1B0GTS1\",\"uniprotId\":\"HSFX4_HUMAN\",\"uniprotDescription\":\"Heat shock transcription factor, X-linked member 4\",\"taxId\":9606,\"organismScientificName\":\"Homo sapiens\",\"uniprotStart\":1,\"uniprotEnd\":333,\"uniprotSequence\":\"MASQNTEQEYEAKLAPSVGGEPTSGGPSGSSPDPNPDSSEVLDRHEDQAMSQDPGSQDNSPPEDRNQRVVNVEDNHNLFRLSFPRKLWTIVEEDTFKSVSWNDDGDAVIIDKDLFQREVLQRKGAERIFKTDNLTSFIRQLNLYGFCKTRPSNSPGNKKMMIYCNSNFQRDKPRLLENIQRKDALRNTAQQATRVPTPKRKNLVATRRSLRIYHINARKEAIKMCQQGAPSVQGPSGTQSFRRSGMWSKKSATRHPLGNGPPQEPNGPSWEGTSGNVTFTSSATTWMEGTGILSSLVYSDNGSVMSLYNICYYALLASLSVMSPNEPSDDEEE\",\"modelCreatedDate\":\"2022-06-01\",\"latestVersion\":4,\"allVersions\":[1,2,3,4],\"bcifUrl\":\"https://alphafold.ebi.ac.uk/files/AF-A0A1B0GTS1-F1-model_v4.bcif\",\"cifUrl\":\"https://alphafold.ebi.ac.uk/files/AF-A0A1B0GTS1-F1-model_v4.cif\",\"pdbUrl\":\"https://alphafold.ebi.ac.uk/files/AF-A0A1B0GTS1-F1-model_v4.pdb\",\"paeImageUrl\":\"https://alphafold.ebi.ac.uk/files/AF-A0A1B0GTS1-F1-predicted_aligned_error_v4.png\",\"paeDocUrl\":\"https://alphafold.ebi.ac.uk/files/AF-A0A1B0GTS1-F1-predicted_aligned_error_v4.json\",\"amAnnotationsUrl\":\"https://alphafold.ebi.ac.uk/files/AF-A0A1B0GTS1-F1-aa-substitutions.csv\",\"amAnnotationsHg19Url\":null,\"amAnnotationsHg38Url\":\"https://alphafold.ebi.ac.uk/files/AF-A0A1B0GTS1-F1-hg38.csv\",\"isReviewed\":true,\"isReferenceProteome\":true}</td>\n",
       "            <td>session1/downloads/AF-A0A1B0GTS1-F1-model_v4.pdb</td>\n",
       "            <td>session1/downloads/AF-A0A1B0GTS1-F1-predicted_aligned_error_v4.json</td>\n",
       "        </tr>\n",
       "    </tbody>\n",
       "</table>"
      ],
      "text/plain": [
       "+-------------+------------------------------------------------------------------------------------------------------------------------------------------------------------------------------------------------------------------------------------------------------------------------------------------------------------------------------------------------------------------------------------------------------------------------------------------------------------------------------------------------------------------------------------------------------------------------------------------------------------------------------------------------------------------------------------------------------------------------------------------------------------------------------------------------------------------------------------------------------------------------------------------------------------------------------------------------------------------------------------------------------------------------------------------------------------------------------------------------------------------------------------------------------------------------------------------------------------------------------------------------------------------------------------------------------------------------------------------------------------------------------------------------------------------------------------------------------------------------------------------------+--------------------------------------------------+---------------------------------------------------------------------+\n",
       "| uniprot_acc |                                                                                                                                                                                                                                                                                                                                                                                                                                                                                                                                                                                                                                                                                                                                            summary                                                                                                                                                                                                                                                                                                                                                                                                                                                                                                                                                                                                                                                                                                                                             |                     pdb_file                     |                               pae_file                              |\n",
       "+-------------+------------------------------------------------------------------------------------------------------------------------------------------------------------------------------------------------------------------------------------------------------------------------------------------------------------------------------------------------------------------------------------------------------------------------------------------------------------------------------------------------------------------------------------------------------------------------------------------------------------------------------------------------------------------------------------------------------------------------------------------------------------------------------------------------------------------------------------------------------------------------------------------------------------------------------------------------------------------------------------------------------------------------------------------------------------------------------------------------------------------------------------------------------------------------------------------------------------------------------------------------------------------------------------------------------------------------------------------------------------------------------------------------------------------------------------------------------------------------------------------------+--------------------------------------------------+---------------------------------------------------------------------+\n",
       "|  A0A1B0GTS1 | {\"entryId\":\"AF-A0A1B0GTS1-F1\",\"gene\":\"HSFX4\",\"sequenceChecksum\":\"C062984AED1EA2B9\",\"sequenceVersionDate\":\"2016-10-05\",\"uniprotAccession\":\"A0A1B0GTS1\",\"uniprotId\":\"HSFX4_HUMAN\",\"uniprotDescription\":\"Heat shock transcription factor, X-linked member 4\",\"taxId\":9606,\"organismScientificName\":\"Homo sapiens\",\"uniprotStart\":1,\"uniprotEnd\":333,\"uniprotSequence\":\"MASQNTEQEYEAKLAPSVGGEPTSGGPSGSSPDPNPDSSEVLDRHEDQAMSQDPGSQDNSPPEDRNQRVVNVEDNHNLFRLSFPRKLWTIVEEDTFKSVSWNDDGDAVIIDKDLFQREVLQRKGAERIFKTDNLTSFIRQLNLYGFCKTRPSNSPGNKKMMIYCNSNFQRDKPRLLENIQRKDALRNTAQQATRVPTPKRKNLVATRRSLRIYHINARKEAIKMCQQGAPSVQGPSGTQSFRRSGMWSKKSATRHPLGNGPPQEPNGPSWEGTSGNVTFTSSATTWMEGTGILSSLVYSDNGSVMSLYNICYYALLASLSVMSPNEPSDDEEE\",\"modelCreatedDate\":\"2022-06-01\",\"latestVersion\":4,\"allVersions\":[1,2,3,4],\"bcifUrl\":\"https://alphafold.ebi.ac.uk/files/AF-A0A1B0GTS1-F1-model_v4.bcif\",\"cifUrl\":\"https://alphafold.ebi.ac.uk/files/AF-A0A1B0GTS1-F1-model_v4.cif\",\"pdbUrl\":\"https://alphafold.ebi.ac.uk/files/AF-A0A1B0GTS1-F1-model_v4.pdb\",\"paeImageUrl\":\"https://alphafold.ebi.ac.uk/files/AF-A0A1B0GTS1-F1-predicted_aligned_error_v4.png\",\"paeDocUrl\":\"https://alphafold.ebi.ac.uk/files/AF-A0A1B0GTS1-F1-predicted_aligned_error_v4.json\",\"amAnnotationsUrl\":\"https://alphafold.ebi.ac.uk/files/AF-A0A1B0GTS1-F1-aa-substitutions.csv\",\"amAnnotationsHg19Url\":null,\"amAnnotationsHg38Url\":\"https://alphafold.ebi.ac.uk/files/AF-A0A1B0GTS1-F1-hg38.csv\",\"isReviewed\":true,\"isReferenceProteome\":true} | session1/downloads/AF-A0A1B0GTS1-F1-model_v4.pdb | session1/downloads/AF-A0A1B0GTS1-F1-predicted_aligned_error_v4.json |\n",
       "+-------------+------------------------------------------------------------------------------------------------------------------------------------------------------------------------------------------------------------------------------------------------------------------------------------------------------------------------------------------------------------------------------------------------------------------------------------------------------------------------------------------------------------------------------------------------------------------------------------------------------------------------------------------------------------------------------------------------------------------------------------------------------------------------------------------------------------------------------------------------------------------------------------------------------------------------------------------------------------------------------------------------------------------------------------------------------------------------------------------------------------------------------------------------------------------------------------------------------------------------------------------------------------------------------------------------------------------------------------------------------------------------------------------------------------------------------------------------------------------------------------------------+--------------------------------------------------+---------------------------------------------------------------------+"
      ]
     },
     "execution_count": 11,
     "metadata": {},
     "output_type": "execute_result"
    }
   ],
   "source": [
    "%sql SELECT * FROM alphafolds LIMIT 1"
   ]
  },
  {
   "cell_type": "code",
   "execution_count": 12,
   "id": "5133e55c",
   "metadata": {},
   "outputs": [
    {
     "data": {
      "text/html": [
       "<span style=\"None\">Running query in &#x27;duckdb&#x27;</span>"
      ],
      "text/plain": [
       "Running query in 'duckdb'"
      ]
     },
     "metadata": {},
     "output_type": "display_data"
    },
    {
     "data": {
      "text/html": [
       "<table>\n",
       "    <thead>\n",
       "        <tr>\n",
       "            <th>count_star()</th>\n",
       "        </tr>\n",
       "    </thead>\n",
       "    <tbody>\n",
       "        <tr>\n",
       "            <td>10</td>\n",
       "        </tr>\n",
       "    </tbody>\n",
       "</table>"
      ],
      "text/plain": [
       "+--------------+\n",
       "| count_star() |\n",
       "+--------------+\n",
       "|      10      |\n",
       "+--------------+"
      ]
     },
     "execution_count": 12,
     "metadata": {},
     "output_type": "execute_result"
    }
   ],
   "source": [
    "%sql SELECT count(*) FROM alphafolds"
   ]
  },
  {
   "cell_type": "code",
   "execution_count": 15,
   "id": "cba6fda6",
   "metadata": {},
   "outputs": [
    {
     "data": {
      "text/html": [
       "<span style=\"None\">Running query in &#x27;duckdb&#x27;</span>"
      ],
      "text/plain": [
       "Running query in 'duckdb'"
      ]
     },
     "metadata": {},
     "output_type": "display_data"
    },
    {
     "data": {
      "text/html": [
       "<table>\n",
       "    <thead>\n",
       "        <tr>\n",
       "            <th>uniprot_acc</th>\n",
       "            <th>taxId</th>\n",
       "            <th>uniprotStart</th>\n",
       "            <th>uniprotEnd</th>\n",
       "            <th>gene</th>\n",
       "        </tr>\n",
       "    </thead>\n",
       "    <tbody>\n",
       "        <tr>\n",
       "            <td>A0A1B0GTS1</td>\n",
       "            <td>9606</td>\n",
       "            <td>1</td>\n",
       "            <td>333</td>\n",
       "            <td>\"HSFX4\"</td>\n",
       "        </tr>\n",
       "        <tr>\n",
       "            <td>A0A0U1RQI7</td>\n",
       "            <td>9606</td>\n",
       "            <td>1</td>\n",
       "            <td>1052</td>\n",
       "            <td>\"KLF18\"</td>\n",
       "        </tr>\n",
       "        <tr>\n",
       "            <td>A0A087WUV0</td>\n",
       "            <td>9606</td>\n",
       "            <td>1</td>\n",
       "            <td>522</td>\n",
       "            <td>\"Unknown\"</td>\n",
       "        </tr>\n",
       "        <tr>\n",
       "            <td>A0A1B0GWH4</td>\n",
       "            <td>9606</td>\n",
       "            <td>1</td>\n",
       "            <td>333</td>\n",
       "            <td>\"HSFX3\"</td>\n",
       "        </tr>\n",
       "        <tr>\n",
       "            <td>A0A1W2PQ73</td>\n",
       "            <td>9606</td>\n",
       "            <td>1</td>\n",
       "            <td>354</td>\n",
       "            <td>\"ERFL\"</td>\n",
       "        </tr>\n",
       "        <tr>\n",
       "            <td>A0A0C5B5G6</td>\n",
       "            <td>9606</td>\n",
       "            <td>1</td>\n",
       "            <td>16</td>\n",
       "            <td>\"MT-RNR1\"</td>\n",
       "        </tr>\n",
       "        <tr>\n",
       "            <td>A0A1W2PPK0</td>\n",
       "            <td>9606</td>\n",
       "            <td>1</td>\n",
       "            <td>400</td>\n",
       "            <td>\"Unknown\"</td>\n",
       "        </tr>\n",
       "        <tr>\n",
       "            <td>A0A1W2PPM1</td>\n",
       "            <td>9606</td>\n",
       "            <td>1</td>\n",
       "            <td>405</td>\n",
       "            <td>\"CPHXL\"</td>\n",
       "        </tr>\n",
       "        <tr>\n",
       "            <td>A0A1B0GVZ6</td>\n",
       "            <td>9606</td>\n",
       "            <td>1</td>\n",
       "            <td>204</td>\n",
       "            <td>\"MBD3L2B\"</td>\n",
       "        </tr>\n",
       "        <tr>\n",
       "            <td>A0A1W2PPF3</td>\n",
       "            <td>9606</td>\n",
       "            <td>1</td>\n",
       "            <td>345</td>\n",
       "            <td>\"DUXB\"</td>\n",
       "        </tr>\n",
       "    </tbody>\n",
       "</table>\n",
       "<span style=\"font-style:italic;text-align:center;\">Truncated to <a href=\"https://jupysql.ploomber.io/en/latest/api/configuration.html#displaylimit\">displaylimit</a> of 10.</span>"
      ],
      "text/plain": [
       "+-------------+-------+--------------+------------+-----------+\n",
       "| uniprot_acc | taxId | uniprotStart | uniprotEnd |    gene   |\n",
       "+-------------+-------+--------------+------------+-----------+\n",
       "|  A0A1B0GTS1 |  9606 |      1       |    333     |  \"HSFX4\"  |\n",
       "|  A0A0U1RQI7 |  9606 |      1       |    1052    |  \"KLF18\"  |\n",
       "|  A0A087WUV0 |  9606 |      1       |    522     | \"Unknown\" |\n",
       "|  A0A1B0GWH4 |  9606 |      1       |    333     |  \"HSFX3\"  |\n",
       "|  A0A1W2PQ73 |  9606 |      1       |    354     |   \"ERFL\"  |\n",
       "|  A0A0C5B5G6 |  9606 |      1       |     16     | \"MT-RNR1\" |\n",
       "|  A0A1W2PPK0 |  9606 |      1       |    400     | \"Unknown\" |\n",
       "|  A0A1W2PPM1 |  9606 |      1       |    405     |  \"CPHXL\"  |\n",
       "|  A0A1B0GVZ6 |  9606 |      1       |    204     | \"MBD3L2B\" |\n",
       "|  A0A1W2PPF3 |  9606 |      1       |    345     |   \"DUXB\"  |\n",
       "+-------------+-------+--------------+------------+-----------+\n",
       "Truncated to displaylimit of 10."
      ]
     },
     "execution_count": 15,
     "metadata": {},
     "output_type": "execute_result"
    }
   ],
   "source": [
    "%sql SELECT uniprot_acc, summary.taxId, summary.uniprotStart, summary.uniprotEnd, summary.gene FROM alphafolds"
   ]
  },
  {
   "cell_type": "code",
   "execution_count": null,
   "id": "ca474805",
   "metadata": {},
   "outputs": [],
   "source": []
  }
 ],
 "metadata": {
  "kernelspec": {
   "display_name": ".venv",
   "language": "python",
   "name": "python3"
  },
  "language_info": {
   "codemirror_mode": {
    "name": "ipython",
    "version": 3
   },
   "file_extension": ".py",
   "mimetype": "text/x-python",
   "name": "python",
   "nbconvert_exporter": "python",
   "pygments_lexer": "ipython3",
   "version": "3.13.2"
  }
 },
 "nbformat": 4,
 "nbformat_minor": 5
}
