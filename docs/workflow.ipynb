{
 "cells": [
  {
   "cell_type": "markdown",
   "id": "8664b8a5",
   "metadata": {},
   "source": [
    "# Run workflow up to storing in database"
   ]
  },
  {
   "cell_type": "code",
   "execution_count": 1,
   "id": "d7265a43",
   "metadata": {},
   "outputs": [],
   "source": [
    "from pathlib import Path\n",
    "from pprint import pprint\n",
    "\n",
    "from protein_detective.uniprot import Query\n",
    "from protein_detective.workflow import retrieve_structures"
   ]
  },
  {
   "cell_type": "code",
   "execution_count": null,
   "id": "b5a4649f",
   "metadata": {},
   "outputs": [],
   "source": [
    "import logging\n",
    "\n",
    "logging.basicConfig(level=logging.WARNING)\n",
    "# Set to WARNING to see only warnings\n",
    "# Set to INFO to see sparql queries\n",
    "# Set to DEBUG to see raw results"
   ]
  },
  {
   "cell_type": "code",
   "execution_count": 3,
   "id": "c049dc09",
   "metadata": {},
   "outputs": [
    {
     "data": {
      "text/plain": [
       "PosixPath('session1')"
      ]
     },
     "execution_count": 3,
     "metadata": {},
     "output_type": "execute_result"
    }
   ],
   "source": [
    "session_dir = Path(\"session1\")\n",
    "session_dir"
   ]
  },
  {
   "cell_type": "markdown",
   "id": "befbfa91",
   "metadata": {},
   "source": [
    "## Fetch structures from Uniprot, PDBe and Alphafold\n"
   ]
  },
  {
   "cell_type": "code",
   "execution_count": 4,
   "id": "d38ca4bd",
   "metadata": {},
   "outputs": [],
   "source": [
    "query = Query(\n",
    "    taxon_id=\"9606\",\n",
    "    reviewed=True,\n",
    "    subcellular_location_uniprot=\"nucleus\",\n",
    "    subcellular_location_go=\"GO:0005634\",  # Cellular component - Nucleus\n",
    "    molecular_function_go=\"GO:0003677\",  # Molecular function - DNA binding\n",
    ")"
   ]
  },
  {
   "cell_type": "code",
   "execution_count": 5,
   "id": "397cc198",
   "metadata": {},
   "outputs": [
    {
     "name": "stderr",
     "output_type": "stream",
     "text": [
      "INFO:protein_detective.uniprot:Executing SPARQL query for UniProt: \n",
      "        PREFIX up: <http://purl.uniprot.org/core/>\n",
      "        PREFIX taxon: <http://purl.uniprot.org/taxonomy/>\n",
      "        PREFIX rdf: <http://www.w3.org/1999/02/22-rdf-syntax-ns#>\n",
      "        PREFIX rdfs: <http://www.w3.org/2000/01/rdf-schema#>\n",
      "        PREFIX skos: <http://www.w3.org/2004/02/skos/core#>\n",
      "        PREFIX GO:<http://purl.obolibrary.org/obo/GO_>\n",
      "\n",
      "        SELECT ?protein\n",
      "        WHERE {\n",
      "\n",
      "        # --- Protein Selection ---\n",
      "        ?protein a up:Protein .\n",
      "        ?protein up:organism taxon:9606 .\n",
      "?protein up:reviewed true .\n",
      "\n",
      "            {\n",
      "\n",
      "?protein up:annotation ?subcellAnnotation .\n",
      "?subcellAnnotation up:locatedIn/up:cellularComponent ?cellcmpt .\n",
      "?cellcmpt skos:prefLabel \"nucleus\" .\n",
      "\n",
      "            } UNION {\n",
      "\n",
      "?protein up:classifiedWith|(up:classifiedWith/rdfs:subClassOf) GO:0005634 .\n",
      "\n",
      "            }\n",
      "\n",
      "\n",
      "?protein up:classifiedWith|(up:classifiedWith/rdfs:subClassOf) GO:0003677 .\n",
      "\n",
      "\n",
      "        }\n",
      "        LIMIT 70\n",
      "\n",
      "WARNING:protein_detective.uniprot:Search for uniprot accessions returned 70 results. There may be more results available, but they are not returned due to the limit of 70. Consider increasing the limit to get more results.\n",
      "INFO:protein_detective.uniprot:Executing SPARQL query for PDB: \n",
      "        PREFIX up: <http://purl.uniprot.org/core/>\n",
      "        PREFIX taxon: <http://purl.uniprot.org/taxonomy/>\n",
      "        PREFIX rdf: <http://www.w3.org/1999/02/22-rdf-syntax-ns#>\n",
      "        PREFIX rdfs: <http://www.w3.org/2000/01/rdf-schema#>\n",
      "        PREFIX skos: <http://www.w3.org/2004/02/skos/core#>\n",
      "        PREFIX GO:<http://purl.obolibrary.org/obo/GO_>\n",
      "\n",
      "        SELECT DISTINCT ?protein ?pdb_db ?pdb_method ?pdb_resolution ?pdb_chain\n",
      "        WHERE {\n",
      "\n",
      "        # --- Protein Selection ---\n",
      "        VALUES (?ac) { (\"A0A1W2PPM1\") (\"A0A1B0GVZ6\") (\"A0A2R8Y619\") (\"A8K0S8\") (\"A8MT65\") (\"A0A087WUV0\") (\"A6NDX5\") (\"A3KN83\") (\"A6NNF4\") (\"A6NCS4\") (\"A6NP11\") (\"A8MPP1\") (\"A6NGD5\") (\"A6NJL1\") (\"A6NLW8\") (\"A8MUV8\") (\"A6NFQ7\") (\"A0A0C5B5G6\") (\"A8MUZ8\") (\"A6NHJ4\") (\"A0A1B0GTS1\") (\"A6NN14\") (\"A6NNA5\") (\"A6NJ46\") (\"A6NJG6\") (\"A8K830\") (\"A2RRD8\") (\"A0A1W2PPF3\") (\"A6NFI3\") (\"A6NK75\") (\"A6NMT0\") (\"A0A5F9ZHS7\") (\"A0A1W2PQ73\") (\"A6NHT5\") (\"A6NI15\") (\"A1YPR0\") (\"A6NK53\") (\"A6NKF2\") (\"A0A2Z4LIS9\") (\"A6NM28\") (\"A8MT69\") (\"A0A1W2PQL4\") (\"A8MTQ0\") (\"A8MTJ6\") (\"A6NE82\") (\"A6NJ08\") (\"A0A1W2PRP0\") (\"A1A519\") (\"A6NDZ8\") (\"A8K8V0\") (\"A8MWA4\") (\"A8MTY0\") (\"A0A0U1RQI7\") (\"A6NDR6\") (\"A2RU54\") (\"A0A1W2PPK0\") (\"A8MQ14\") (\"A6NFD8\") (\"A0A1B0GWH4\") (\"A0A3B3IU63\") (\"A6NJT0\")}\n",
      "        BIND (IRI(CONCAT(\"http://purl.uniprot.org/uniprot/\",?ac)) AS ?protein)\n",
      "        ?protein a up:Protein .\n",
      "\n",
      "\n",
      "# --- PDB Info ---\n",
      "?protein rdfs:seeAlso ?pdb_db .\n",
      "?pdb_db up:database <http://purl.uniprot.org/database/PDB> .\n",
      "?pdb_db up:method ?pdb_method .\n",
      "?pdb_db up:chainSequenceMapping ?chainSequenceMapping .\n",
      "?chainSequenceMapping up:chain ?pdb_chain .\n",
      "OPTIONAL { ?pdb_db up:resolution ?pdb_resolution . }\n",
      "\n",
      "\n",
      "        }\n",
      "        LIMIT 70\n",
      "\n",
      "WARNING:protein_detective.uniprot:Search for pdbs on uniprot returned 70 results. There may be more results available, but they are not returned due to the limit of 70. Consider increasing the limit to get more results.\n",
      "Downloading PDBe files: 100%|██████████| 13/13 [00:00<00:00, 46.39it/s]\n",
      "INFO:protein_detective.uniprot:Executing SPARQL query for AlphaFold: \n",
      "        PREFIX up: <http://purl.uniprot.org/core/>\n",
      "        PREFIX taxon: <http://purl.uniprot.org/taxonomy/>\n",
      "        PREFIX rdf: <http://www.w3.org/1999/02/22-rdf-syntax-ns#>\n",
      "        PREFIX rdfs: <http://www.w3.org/2000/01/rdf-schema#>\n",
      "        PREFIX skos: <http://www.w3.org/2004/02/skos/core#>\n",
      "        PREFIX GO:<http://purl.obolibrary.org/obo/GO_>\n",
      "\n",
      "        SELECT DISTINCT ?protein ?af_db\n",
      "        WHERE {\n",
      "\n",
      "        # --- Protein Selection ---\n",
      "        VALUES (?ac) { (\"A0A1W2PPM1\") (\"A0A1B0GVZ6\") (\"A0A2R8Y619\") (\"A8K0S8\") (\"A8MT65\") (\"A0A087WUV0\") (\"A6NDX5\") (\"A3KN83\") (\"A6NNF4\") (\"A6NCS4\") (\"A6NP11\") (\"A8MPP1\") (\"A6NGD5\") (\"A6NJL1\") (\"A6NLW8\") (\"A8MUV8\") (\"A6NFQ7\") (\"A0A0C5B5G6\") (\"A8MUZ8\") (\"A6NHJ4\") (\"A0A1B0GTS1\") (\"A6NN14\") (\"A6NNA5\") (\"A6NJ46\") (\"A6NJG6\") (\"A8K830\") (\"A2RRD8\") (\"A0A1W2PPF3\") (\"A6NFI3\") (\"A6NK75\") (\"A6NMT0\") (\"A0A5F9ZHS7\") (\"A0A1W2PQ73\") (\"A6NHT5\") (\"A6NI15\") (\"A1YPR0\") (\"A6NK53\") (\"A6NKF2\") (\"A0A2Z4LIS9\") (\"A6NM28\") (\"A8MT69\") (\"A0A1W2PQL4\") (\"A8MTQ0\") (\"A8MTJ6\") (\"A6NE82\") (\"A6NJ08\") (\"A0A1W2PRP0\") (\"A1A519\") (\"A6NDZ8\") (\"A8K8V0\") (\"A8MWA4\") (\"A8MTY0\") (\"A0A0U1RQI7\") (\"A6NDR6\") (\"A2RU54\") (\"A0A1W2PPK0\") (\"A8MQ14\") (\"A6NFD8\") (\"A0A1B0GWH4\") (\"A0A3B3IU63\") (\"A6NJT0\")}\n",
      "        BIND (IRI(CONCAT(\"http://purl.uniprot.org/uniprot/\",?ac)) AS ?protein)\n",
      "        ?protein a up:Protein .\n",
      "\n",
      "\n",
      "# --- Protein Selection ---\n",
      "?protein a up:Protein .\n",
      "\n",
      "# --- AlphaFoldDB Info ---\n",
      "?protein rdfs:seeAlso ?af_db .\n",
      "?af_db up:database <http://purl.uniprot.org/database/AlphaFoldDB> .\n",
      "\n",
      "\n",
      "        }\n",
      "        LIMIT 70\n",
      "\n"
     ]
    },
    {
     "name": "stdout",
     "output_type": "stream",
     "text": [
      "({'7XHN', '4NE5', '4NDY', '4NE3', '4NE1', '7R5S', '4E45', '7YWX', '4NE6', '7XHO', '4E44', '4DRB', '4DRA'}, [PosixPath('session1/downloads/pdb4ne1.ent.gz'), PosixPath('session1/downloads/pdb4ndy.ent.gz'), PosixPath('session1/downloads/pdb4e45.ent.gz'), PosixPath('session1/downloads/pdb4drb.ent.gz'), PosixPath('session1/downloads/pdb7ywx.ent.gz'), PosixPath('session1/downloads/pdb7r5s.ent.gz'), PosixPath('session1/downloads/pdb4ne3.ent.gz'), PosixPath('session1/downloads/pdb4ne6.ent.gz'), PosixPath('session1/downloads/pdb4dra.ent.gz'), PosixPath('session1/downloads/pdb4ne5.ent.gz'), PosixPath('session1/downloads/pdb7xhn.ent.gz'), PosixPath('session1/downloads/pdb7xho.ent.gz'), PosixPath('session1/downloads/pdb4e44.ent.gz')])\n"
     ]
    },
    {
     "name": "stderr",
     "output_type": "stream",
     "text": [
      "Fetching Alphafold summaries: 100%|██████████| 61/61 [00:02<00:00, 22.76it/s]\n",
      "Downloading AlphaFold files: 100%|██████████| 122/122 [00:00<00:00, 151.50it/s]\n"
     ]
    },
    {
     "data": {
      "text/plain": [
       "(PosixPath('session1/downloads'), 13, 61)"
      ]
     },
     "execution_count": 5,
     "metadata": {},
     "output_type": "execute_result"
    }
   ],
   "source": [
    "download_path, nr_pdbs, nr_alphafolds = retrieve_structures(query, session_dir, limit=70)\n",
    "download_path, nr_pdbs, nr_alphafolds"
   ]
  },
  {
   "cell_type": "markdown",
   "id": "c4916691",
   "metadata": {},
   "source": [
    "## Filter out AlphafoldDB structures with low confidence\n",
    "\n",
    "And write PDB files without those low confidence residues to new directory."
   ]
  },
  {
   "cell_type": "code",
   "execution_count": null,
   "id": "36e22f08",
   "metadata": {},
   "outputs": [],
   "source": [
    "from protein_detective.alphafold.density import DensityFilterQuery\n",
    "from protein_detective.workflow import density_filter\n",
    "\n",
    "dquery = DensityFilterQuery(\n",
    "    confidence=70.0,\n",
    "    min_threshold=100,\n",
    "    max_threshold=500,\n",
    ")"
   ]
  },
  {
   "cell_type": "code",
   "execution_count": 7,
   "id": "f2784c5a",
   "metadata": {},
   "outputs": [
    {
     "name": "stdout",
     "output_type": "stream",
     "text": [
      "DensityFilterSessionResult(density_filtered_dir=PosixPath('session1/density_filtered'),\n",
      "                           nr_kept=5,\n",
      "                           nr_discarded=5)\n"
     ]
    }
   ],
   "source": [
    "result = density_filter(session_dir, dquery)\n",
    "pprint(result)"
   ]
  },
  {
   "cell_type": "markdown",
   "id": "a2157be8",
   "metadata": {},
   "source": [
    "## Prune PDBe files\n",
    "Prune the PDB files to only keep the first chain of the found Uniprot entries and rename that chain to A."
   ]
  },
  {
   "cell_type": "code",
   "execution_count": null,
   "id": "f249677b",
   "metadata": {},
   "outputs": [],
   "source": [
    "from pathlib import Path\n",
    "\n",
    "from protein_detective.pdbe.io import write_single_chain_pdb_file\n"
   ]
  },
  {
   "cell_type": "code",
   "execution_count": 7,
   "id": "33ffbbbb",
   "metadata": {},
   "outputs": [
    {
     "name": "stderr",
     "output_type": "stream",
     "text": [
      "INFO:protein_detective.pdbe.io:{'pdb_file': 'session1/downloads/pdb4ne5.ent.gz', 'uniprot_chain': 'X=1-81', 'chain2keep': 'X', 'out_chain': 'A'}\n"
     ]
    },
    {
     "ename": "AttributeError",
     "evalue": "'NoneType' object has no attribute 'copy'",
     "output_type": "error",
     "traceback": [
      "\u001b[31m---------------------------------------------------------------------------\u001b[39m",
      "\u001b[31mAttributeError\u001b[39m                            Traceback (most recent call last)",
      "\u001b[36mCell\u001b[39m\u001b[36m \u001b[39m\u001b[32mIn[7]\u001b[39m\u001b[32m, line 1\u001b[39m\n\u001b[32m----> \u001b[39m\u001b[32m1\u001b[39m \u001b[43mwrite_single_chain_pdb_file\u001b[49m\u001b[43m(\u001b[49m\u001b[33;43m'\u001b[39;49m\u001b[33;43msession1/downloads/pdb4ne5.ent.gz\u001b[39;49m\u001b[33;43m'\u001b[39;49m\u001b[43m,\u001b[49m\u001b[43m \u001b[49m\u001b[33;43m\"\u001b[39;49m\u001b[33;43mX=1-81\u001b[39;49m\u001b[33;43m\"\u001b[39;49m\u001b[43m,\u001b[49m\u001b[43m \u001b[49m\u001b[43mPath\u001b[49m\u001b[43m(\u001b[49m\u001b[33;43m'\u001b[39;49m\u001b[33;43m/tmp/pdb4ne5.A.pdb\u001b[39;49m\u001b[33;43m'\u001b[39;49m\u001b[43m)\u001b[49m\u001b[43m)\u001b[49m\n",
      "\u001b[36mFile \u001b[39m\u001b[32m~/git/protein-detective/protein-detective/src/protein_detective/pdbe/io.py:59\u001b[39m, in \u001b[36mwrite_single_chain_pdb_file\u001b[39m\u001b[34m(pdb_file, uniprot_chain, output_file, out_chain)\u001b[39m\n\u001b[32m     57\u001b[39m pdb = atomium.open(\u001b[38;5;28mstr\u001b[39m(pdb_file))\n\u001b[32m     58\u001b[39m \u001b[38;5;66;03m# pyrefly: ignore  # noqa: ERA001\u001b[39;00m\n\u001b[32m---> \u001b[39m\u001b[32m59\u001b[39m \u001b[43mpdb\u001b[49m\u001b[43m.\u001b[49m\u001b[43mmodel\u001b[49m\u001b[43m.\u001b[49m\u001b[43mchain\u001b[49m\u001b[43m(\u001b[49m\u001b[43mchain2keep\u001b[49m\u001b[43m)\u001b[49m\u001b[43m.\u001b[49m\u001b[43mcopy\u001b[49m(out_chain).save(\n\u001b[32m     60\u001b[39m     \u001b[38;5;28mstr\u001b[39m(output_file),\n\u001b[32m     61\u001b[39m )\n",
      "\u001b[31mAttributeError\u001b[39m: 'NoneType' object has no attribute 'copy'"
     ]
    }
   ],
   "source": [
    "write_single_chain_pdb_file('session1/downloads/pdb4ne5.ent.gz', \"X=1-81\", Path('/tmp/pdb4ne5.A.pdb'))"
   ]
  },
  {
   "cell_type": "code",
   "execution_count": 8,
   "id": "6354a3aa",
   "metadata": {},
   "outputs": [],
   "source": [
    "import atomium"
   ]
  },
  {
   "cell_type": "code",
   "execution_count": 9,
   "id": "d003baa5",
   "metadata": {},
   "outputs": [],
   "source": [
    "pdb = atomium.open('session1/downloads/pdb4ne5.ent.gz')"
   ]
  },
  {
   "cell_type": "code",
   "execution_count": 14,
   "id": "4b833fc8",
   "metadata": {},
   "outputs": [
    {
     "data": {
      "text/plain": [
       "{<Chain A (93 residues)>,\n",
       " <Chain B (74 residues)>,\n",
       " <Chain C (93 residues)>,\n",
       " <Chain D (74 residues)>,\n",
       " <Chain E (93 residues)>,\n",
       " <Chain F (74 residues)>,\n",
       " <Chain G (93 residues)>,\n",
       " <Chain H (74 residues)>}"
      ]
     },
     "execution_count": 14,
     "metadata": {},
     "output_type": "execute_result"
    }
   ],
   "source": [
    "pdb.model.chains()"
   ]
  },
  {
   "cell_type": "code",
   "execution_count": 4,
   "id": "a69b9afd",
   "metadata": {},
   "outputs": [
    {
     "name": "stderr",
     "output_type": "stream",
     "text": [
      "Saving single chain PDB files from PDBe:   0%|          | 0/13 [00:00<?, ?it/s]INFO:protein_detective.pdbe.io:Output file session1/single_chain/A8MT69_pdb7xhn.ent.pdb already exists. Skipping saving single chain PDB file for session1/downloads/pdb7xhn.ent.gz.\n",
      "INFO:protein_detective.pdbe.io:Output file session1/single_chain/A8MT69_pdb4ndy.ent.pdb already exists. Skipping saving single chain PDB file for session1/downloads/pdb4ndy.ent.gz.\n",
      "INFO:protein_detective.pdbe.io:{'pdb_file': PosixPath('session1/downloads/pdb4ne5.ent.gz'), 'uniprot_chain': 'X=1-81', 'chain2keep': 'X', 'out_chain': 'A'}\n",
      "Saving single chain PDB files from PDBe:  15%|█▌        | 2/13 [00:00<00:00, 24.35it/s]\n"
     ]
    },
    {
     "ename": "AttributeError",
     "evalue": "'NoneType' object has no attribute 'copy'",
     "output_type": "error",
     "traceback": [
      "\u001b[31m---------------------------------------------------------------------------\u001b[39m",
      "\u001b[31mAttributeError\u001b[39m                            Traceback (most recent call last)",
      "\u001b[36mCell\u001b[39m\u001b[36m \u001b[39m\u001b[32mIn[4]\u001b[39m\u001b[32m, line 3\u001b[39m\n\u001b[32m      1\u001b[39m \u001b[38;5;28;01mfrom\u001b[39;00m\u001b[38;5;250m \u001b[39m\u001b[34;01mprotein_detective\u001b[39;00m\u001b[34;01m.\u001b[39;00m\u001b[34;01mworkflow\u001b[39;00m\u001b[38;5;250m \u001b[39m\u001b[38;5;28;01mimport\u001b[39;00m prune_pdbs\n\u001b[32m----> \u001b[39m\u001b[32m3\u001b[39m (single_chain_dir, nr_passed) = \u001b[43mprune_pdbs\u001b[49m\u001b[43m(\u001b[49m\u001b[43msession_dir\u001b[49m\u001b[43m)\u001b[49m\n\u001b[32m      4\u001b[39m (single_chain_dir, nr_passed)\n",
      "\u001b[36mFile \u001b[39m\u001b[32m~/git/protein-detective/protein-detective/src/protein_detective/workflow.py:117\u001b[39m, in \u001b[36mprune_pdbs\u001b[39m\u001b[34m(session_dir)\u001b[39m\n\u001b[32m    115\u001b[39m \u001b[38;5;28;01mwith\u001b[39;00m connect(session_dir) \u001b[38;5;28;01mas\u001b[39;00m conn:\n\u001b[32m    116\u001b[39m     proteinpdbs = load_pdbs(conn)\n\u001b[32m--> \u001b[39m\u001b[32m117\u001b[39m     new_files = \u001b[38;5;28;43mlist\u001b[39;49m\u001b[43m(\u001b[49m\u001b[43mwrite_single_chain_pdb_files\u001b[49m\u001b[43m(\u001b[49m\u001b[43mproteinpdbs\u001b[49m\u001b[43m,\u001b[49m\u001b[43m \u001b[49m\u001b[43msingle_chain_dir\u001b[49m\u001b[43m)\u001b[49m\u001b[43m)\u001b[49m\n\u001b[32m    118\u001b[39m     save_single_chain_pdb_files(new_files, conn)\n\u001b[32m    120\u001b[39m     \u001b[38;5;28;01mreturn\u001b[39;00m single_chain_dir, \u001b[38;5;28mlen\u001b[39m(new_files)\n",
      "\u001b[36mFile \u001b[39m\u001b[32m~/git/protein-detective/protein-detective/src/protein_detective/pdbe/io.py:94\u001b[39m, in \u001b[36mwrite_single_chain_pdb_files\u001b[39m\u001b[34m(proteinpdbs, single_chain_dir)\u001b[39m\n\u001b[32m     90\u001b[39m     logger.info(\n\u001b[32m     91\u001b[39m         \u001b[33mf\u001b[39m\u001b[33m\"\u001b[39m\u001b[33mOutput file \u001b[39m\u001b[38;5;132;01m{\u001b[39;00moutput_file\u001b[38;5;132;01m}\u001b[39;00m\u001b[33m already exists. Skipping saving single chain PDB file for \u001b[39m\u001b[38;5;132;01m{\u001b[39;00mpdb_file\u001b[38;5;132;01m}\u001b[39;00m\u001b[33m.\u001b[39m\u001b[33m\"\u001b[39m,\n\u001b[32m     92\u001b[39m     )\n\u001b[32m     93\u001b[39m     \u001b[38;5;28;01mcontinue\u001b[39;00m\n\u001b[32m---> \u001b[39m\u001b[32m94\u001b[39m \u001b[43mwrite_single_chain_pdb_file\u001b[49m\u001b[43m(\u001b[49m\u001b[43mpdb_file\u001b[49m\u001b[43m,\u001b[49m\u001b[43m \u001b[49m\u001b[43muniprot_chain\u001b[49m\u001b[43m,\u001b[49m\u001b[43m \u001b[49m\u001b[43moutput_file\u001b[49m\u001b[43m)\u001b[49m\n\u001b[32m     95\u001b[39m \u001b[38;5;28;01myield\u001b[39;00m SingleChainResult(\n\u001b[32m     96\u001b[39m     uniprot_acc=uniprot_acc,\n\u001b[32m     97\u001b[39m     pdb_id=proteinpdb.id,\n\u001b[32m     98\u001b[39m     output_file=output_file,\n\u001b[32m     99\u001b[39m )\n",
      "\u001b[36mFile \u001b[39m\u001b[32m~/git/protein-detective/protein-detective/src/protein_detective/pdbe/io.py:59\u001b[39m, in \u001b[36mwrite_single_chain_pdb_file\u001b[39m\u001b[34m(pdb_file, uniprot_chain, output_file, out_chain)\u001b[39m\n\u001b[32m     57\u001b[39m pdb = atomium.open(\u001b[38;5;28mstr\u001b[39m(pdb_file))\n\u001b[32m     58\u001b[39m \u001b[38;5;66;03m# pyrefly: ignore  # noqa: ERA001\u001b[39;00m\n\u001b[32m---> \u001b[39m\u001b[32m59\u001b[39m \u001b[43mpdb\u001b[49m\u001b[43m.\u001b[49m\u001b[43mmodel\u001b[49m\u001b[43m.\u001b[49m\u001b[43mchain\u001b[49m\u001b[43m(\u001b[49m\u001b[43mchain2keep\u001b[49m\u001b[43m)\u001b[49m\u001b[43m.\u001b[49m\u001b[43mcopy\u001b[49m(out_chain).save(\n\u001b[32m     60\u001b[39m     \u001b[38;5;28mstr\u001b[39m(output_file),\n\u001b[32m     61\u001b[39m )\n",
      "\u001b[31mAttributeError\u001b[39m: 'NoneType' object has no attribute 'copy'"
     ]
    }
   ],
   "source": [
    "from protein_detective.workflow import prune_pdbs\n",
    "\n",
    "(single_chain_dir, nr_passed) = prune_pdbs(session_dir)\n",
    "(single_chain_dir, nr_passed)"
   ]
  },
  {
   "cell_type": "markdown",
   "id": "8782a4ec",
   "metadata": {},
   "source": [
    "### Query session database"
   ]
  },
  {
   "cell_type": "code",
   "execution_count": 9,
   "id": "292ba542",
   "metadata": {},
   "outputs": [],
   "source": [
    "from protein_detective.db import db_path\n",
    "\n",
    "database = db_path(session_dir)"
   ]
  },
  {
   "cell_type": "code",
   "execution_count": 10,
   "id": "b3d79821",
   "metadata": {},
   "outputs": [
    {
     "data": {
      "text/html": [
       "<span style=\"None\">The &#x27;toml&#x27; package isn&#x27;t installed. To load settings from pyproject.toml or ~/.jupysql/config, install with: pip install toml</span>"
      ],
      "text/plain": [
       "The 'toml' package isn't installed. To load settings from pyproject.toml or ~/.jupysql/config, install with: pip install toml"
      ]
     },
     "metadata": {},
     "output_type": "display_data"
    }
   ],
   "source": [
    "import duckdb\n",
    "\n",
    "%load_ext sql\n",
    "conn = duckdb.connect(database)\n",
    "%sql conn --alias duckdb"
   ]
  },
  {
   "cell_type": "code",
   "execution_count": 10,
   "id": "834038b8",
   "metadata": {},
   "outputs": [
    {
     "data": {
      "text/html": [
       "<span style=\"None\">Running query in &#x27;duckdb&#x27;</span>"
      ],
      "text/plain": [
       "Running query in 'duckdb'"
      ]
     },
     "metadata": {},
     "output_type": "display_data"
    },
    {
     "data": {
      "text/html": [
       "<table>\n",
       "    <thead>\n",
       "        <tr>\n",
       "            <th>uniprot_acc</th>\n",
       "        </tr>\n",
       "    </thead>\n",
       "    <tbody>\n",
       "        <tr>\n",
       "            <td>A0A1W2PPM1</td>\n",
       "        </tr>\n",
       "        <tr>\n",
       "            <td>A0A0U1RQI7</td>\n",
       "        </tr>\n",
       "        <tr>\n",
       "            <td>A0A0C5B5G6</td>\n",
       "        </tr>\n",
       "        <tr>\n",
       "            <td>A0A1W2PPK0</td>\n",
       "        </tr>\n",
       "        <tr>\n",
       "            <td>A0A1B0GWH4</td>\n",
       "        </tr>\n",
       "        <tr>\n",
       "            <td>A0A1B0GVZ6</td>\n",
       "        </tr>\n",
       "        <tr>\n",
       "            <td>A0A1B0GTS1</td>\n",
       "        </tr>\n",
       "        <tr>\n",
       "            <td>A0A1W2PPF3</td>\n",
       "        </tr>\n",
       "        <tr>\n",
       "            <td>A0A1W2PQ73</td>\n",
       "        </tr>\n",
       "        <tr>\n",
       "            <td>A0A087WUV0</td>\n",
       "        </tr>\n",
       "    </tbody>\n",
       "</table>\n",
       "<span style=\"font-style:italic;text-align:center;\">Truncated to <a href=\"https://jupysql.ploomber.io/en/latest/api/configuration.html#displaylimit\">displaylimit</a> of 10.</span>"
      ],
      "text/plain": [
       "+-------------+\n",
       "| uniprot_acc |\n",
       "+-------------+\n",
       "|  A0A1W2PPM1 |\n",
       "|  A0A0U1RQI7 |\n",
       "|  A0A0C5B5G6 |\n",
       "|  A0A1W2PPK0 |\n",
       "|  A0A1B0GWH4 |\n",
       "|  A0A1B0GVZ6 |\n",
       "|  A0A1B0GTS1 |\n",
       "|  A0A1W2PPF3 |\n",
       "|  A0A1W2PQ73 |\n",
       "|  A0A087WUV0 |\n",
       "+-------------+\n",
       "Truncated to displaylimit of 10."
      ]
     },
     "execution_count": 10,
     "metadata": {},
     "output_type": "execute_result"
    }
   ],
   "source": [
    "%sql SELECT * FROM proteins"
   ]
  },
  {
   "cell_type": "code",
   "execution_count": 11,
   "id": "68e07caa",
   "metadata": {},
   "outputs": [
    {
     "data": {
      "text/html": [
       "<span style=\"None\">Running query in &#x27;duckdb&#x27;</span>"
      ],
      "text/plain": [
       "Running query in 'duckdb'"
      ]
     },
     "metadata": {},
     "output_type": "display_data"
    },
    {
     "data": {
      "text/html": [
       "<table>\n",
       "    <thead>\n",
       "        <tr>\n",
       "            <th>pdb_id</th>\n",
       "            <th>method</th>\n",
       "            <th>resolution</th>\n",
       "            <th>pdb_file</th>\n",
       "        </tr>\n",
       "    </thead>\n",
       "    <tbody>\n",
       "    </tbody>\n",
       "</table>"
      ],
      "text/plain": [
       "+--------+--------+------------+----------+\n",
       "| pdb_id | method | resolution | pdb_file |\n",
       "+--------+--------+------------+----------+\n",
       "+--------+--------+------------+----------+"
      ]
     },
     "execution_count": 11,
     "metadata": {},
     "output_type": "execute_result"
    }
   ],
   "source": [
    "%sql SELECT * FROM pdbs"
   ]
  },
  {
   "cell_type": "code",
   "execution_count": 12,
   "id": "558e3b8c",
   "metadata": {},
   "outputs": [
    {
     "data": {
      "text/html": [
       "<span style=\"None\">Running query in &#x27;duckdb&#x27;</span>"
      ],
      "text/plain": [
       "Running query in 'duckdb'"
      ]
     },
     "metadata": {},
     "output_type": "display_data"
    },
    {
     "data": {
      "text/html": [
       "<table>\n",
       "    <thead>\n",
       "        <tr>\n",
       "            <th>uniprot_acc</th>\n",
       "            <th>pdb_id</th>\n",
       "            <th>chain</th>\n",
       "            <th>single_chain_pdb_file</th>\n",
       "        </tr>\n",
       "    </thead>\n",
       "    <tbody>\n",
       "    </tbody>\n",
       "</table>"
      ],
      "text/plain": [
       "+-------------+--------+-------+-----------------------+\n",
       "| uniprot_acc | pdb_id | chain | single_chain_pdb_file |\n",
       "+-------------+--------+-------+-----------------------+\n",
       "+-------------+--------+-------+-----------------------+"
      ]
     },
     "execution_count": 12,
     "metadata": {},
     "output_type": "execute_result"
    }
   ],
   "source": [
    "%sql SELECT * FROM proteins_pdbs"
   ]
  },
  {
   "cell_type": "code",
   "execution_count": 13,
   "id": "7df63761",
   "metadata": {},
   "outputs": [
    {
     "data": {
      "text/html": [
       "<span style=\"None\">Running query in &#x27;duckdb&#x27;</span>"
      ],
      "text/plain": [
       "Running query in 'duckdb'"
      ]
     },
     "metadata": {},
     "output_type": "display_data"
    },
    {
     "data": {
      "text/html": [
       "<table>\n",
       "    <thead>\n",
       "        <tr>\n",
       "            <th>uniprot_acc</th>\n",
       "            <th>summary</th>\n",
       "            <th>pdb_file</th>\n",
       "            <th>pae_file</th>\n",
       "        </tr>\n",
       "    </thead>\n",
       "    <tbody>\n",
       "        <tr>\n",
       "            <td>A0A1W2PPM1</td>\n",
       "            <td>{\"entryId\":\"AF-A0A1W2PPM1-F1\",\"gene\":\"CPHXL\",\"sequenceChecksum\":\"D0786215762FBC17\",\"sequenceVersionDate\":\"2017-06-07\",\"uniprotAccession\":\"A0A1W2PPM1\",\"uniprotId\":\"CPHXL_HUMAN\",\"uniprotDescription\":\"Cytoplasmic polyadenylated homeobox-like\",\"taxId\":9606,\"organismScientificName\":\"Homo sapiens\",\"uniprotStart\":1,\"uniprotEnd\":405,\"uniprotSequence\":\"MNLDGTSGGFPAEEDHHNEERQTKNKRKTKHRHKFSEELLQELKEIFGENCYPDYTTRKTLAIKFDCPVNVIDNWFQNKRARLPPAERRRIFVLQKKHDFPVQAHSFLSCQETQAAAHNYATKQSLSGAQRALMRRAGCSHLEKQWIPSQEMGYNCFSLENQETPSQQVGPQCSYLEKPGIPSQQVGSQCSYLEKLGIPSQQVASQSSYLVTGTEKHPGCAMGYGGDTGSGHSGSGHSTAYHFLSYNSAECLHPPPSSVPYFHGERTETKESQHASPFLLDYAQGAYGVKKDHCLCSFCLSLLGQQQQNDWQYHLQQHQQPQNYLEGMMLQEQLPMDSGPWDLGKQWSSAQSQLQSQLPQNNGKPLCSQLQHMSLQIAADSPLLPLGQDMQERASEQPRTQMQQL\",\"modelCreatedDate\":\"2022-06-01\",\"latestVersion\":4,\"allVersions\":[1,2,3,4],\"bcifUrl\":\"https://alphafold.ebi.ac.uk/files/AF-A0A1W2PPM1-F1-model_v4.bcif\",\"cifUrl\":\"https://alphafold.ebi.ac.uk/files/AF-A0A1W2PPM1-F1-model_v4.cif\",\"pdbUrl\":\"https://alphafold.ebi.ac.uk/files/AF-A0A1W2PPM1-F1-model_v4.pdb\",\"paeImageUrl\":\"https://alphafold.ebi.ac.uk/files/AF-A0A1W2PPM1-F1-predicted_aligned_error_v4.png\",\"paeDocUrl\":\"https://alphafold.ebi.ac.uk/files/AF-A0A1W2PPM1-F1-predicted_aligned_error_v4.json\",\"amAnnotationsUrl\":\"https://alphafold.ebi.ac.uk/files/AF-A0A1W2PPM1-F1-aa-substitutions.csv\",\"amAnnotationsHg19Url\":null,\"amAnnotationsHg38Url\":\"https://alphafold.ebi.ac.uk/files/AF-A0A1W2PPM1-F1-hg38.csv\",\"isReviewed\":true,\"isReferenceProteome\":true}</td>\n",
       "            <td>session1/downloads/AF-A0A1W2PPM1-F1-model_v4.pdb</td>\n",
       "            <td>session1/downloads/AF-A0A1W2PPM1-F1-predicted_aligned_error_v4.json</td>\n",
       "        </tr>\n",
       "    </tbody>\n",
       "</table>"
      ],
      "text/plain": [
       "+-------------+--------------------------------------------------------------------------------------------------------------------------------------------------------------------------------------------------------------------------------------------------------------------------------------------------------------------------------------------------------------------------------------------------------------------------------------------------------------------------------------------------------------------------------------------------------------------------------------------------------------------------------------------------------------------------------------------------------------------------------------------------------------------------------------------------------------------------------------------------------------------------------------------------------------------------------------------------------------------------------------------------------------------------------------------------------------------------------------------------------------------------------------------------------------------------------------------------------------------------------------------------------------------------------------------------------------------------------------------------------------------------------------------------------------------------------------------------------------------------------------------------------------------------------------------------------------+--------------------------------------------------+---------------------------------------------------------------------+\n",
       "| uniprot_acc |                                                                                                                                                                                                                                                                                                                                                                                                                                                                                                                                                                                                                                                                                                                                                                           summary                                                                                                                                                                                                                                                                                                                                                                                                                                                                                                                                                                                                                                                                                                                                                                            |                     pdb_file                     |                               pae_file                              |\n",
       "+-------------+--------------------------------------------------------------------------------------------------------------------------------------------------------------------------------------------------------------------------------------------------------------------------------------------------------------------------------------------------------------------------------------------------------------------------------------------------------------------------------------------------------------------------------------------------------------------------------------------------------------------------------------------------------------------------------------------------------------------------------------------------------------------------------------------------------------------------------------------------------------------------------------------------------------------------------------------------------------------------------------------------------------------------------------------------------------------------------------------------------------------------------------------------------------------------------------------------------------------------------------------------------------------------------------------------------------------------------------------------------------------------------------------------------------------------------------------------------------------------------------------------------------------------------------------------------------+--------------------------------------------------+---------------------------------------------------------------------+\n",
       "|  A0A1W2PPM1 | {\"entryId\":\"AF-A0A1W2PPM1-F1\",\"gene\":\"CPHXL\",\"sequenceChecksum\":\"D0786215762FBC17\",\"sequenceVersionDate\":\"2017-06-07\",\"uniprotAccession\":\"A0A1W2PPM1\",\"uniprotId\":\"CPHXL_HUMAN\",\"uniprotDescription\":\"Cytoplasmic polyadenylated homeobox-like\",\"taxId\":9606,\"organismScientificName\":\"Homo sapiens\",\"uniprotStart\":1,\"uniprotEnd\":405,\"uniprotSequence\":\"MNLDGTSGGFPAEEDHHNEERQTKNKRKTKHRHKFSEELLQELKEIFGENCYPDYTTRKTLAIKFDCPVNVIDNWFQNKRARLPPAERRRIFVLQKKHDFPVQAHSFLSCQETQAAAHNYATKQSLSGAQRALMRRAGCSHLEKQWIPSQEMGYNCFSLENQETPSQQVGPQCSYLEKPGIPSQQVGSQCSYLEKLGIPSQQVASQSSYLVTGTEKHPGCAMGYGGDTGSGHSGSGHSTAYHFLSYNSAECLHPPPSSVPYFHGERTETKESQHASPFLLDYAQGAYGVKKDHCLCSFCLSLLGQQQQNDWQYHLQQHQQPQNYLEGMMLQEQLPMDSGPWDLGKQWSSAQSQLQSQLPQNNGKPLCSQLQHMSLQIAADSPLLPLGQDMQERASEQPRTQMQQL\",\"modelCreatedDate\":\"2022-06-01\",\"latestVersion\":4,\"allVersions\":[1,2,3,4],\"bcifUrl\":\"https://alphafold.ebi.ac.uk/files/AF-A0A1W2PPM1-F1-model_v4.bcif\",\"cifUrl\":\"https://alphafold.ebi.ac.uk/files/AF-A0A1W2PPM1-F1-model_v4.cif\",\"pdbUrl\":\"https://alphafold.ebi.ac.uk/files/AF-A0A1W2PPM1-F1-model_v4.pdb\",\"paeImageUrl\":\"https://alphafold.ebi.ac.uk/files/AF-A0A1W2PPM1-F1-predicted_aligned_error_v4.png\",\"paeDocUrl\":\"https://alphafold.ebi.ac.uk/files/AF-A0A1W2PPM1-F1-predicted_aligned_error_v4.json\",\"amAnnotationsUrl\":\"https://alphafold.ebi.ac.uk/files/AF-A0A1W2PPM1-F1-aa-substitutions.csv\",\"amAnnotationsHg19Url\":null,\"amAnnotationsHg38Url\":\"https://alphafold.ebi.ac.uk/files/AF-A0A1W2PPM1-F1-hg38.csv\",\"isReviewed\":true,\"isReferenceProteome\":true} | session1/downloads/AF-A0A1W2PPM1-F1-model_v4.pdb | session1/downloads/AF-A0A1W2PPM1-F1-predicted_aligned_error_v4.json |\n",
       "+-------------+--------------------------------------------------------------------------------------------------------------------------------------------------------------------------------------------------------------------------------------------------------------------------------------------------------------------------------------------------------------------------------------------------------------------------------------------------------------------------------------------------------------------------------------------------------------------------------------------------------------------------------------------------------------------------------------------------------------------------------------------------------------------------------------------------------------------------------------------------------------------------------------------------------------------------------------------------------------------------------------------------------------------------------------------------------------------------------------------------------------------------------------------------------------------------------------------------------------------------------------------------------------------------------------------------------------------------------------------------------------------------------------------------------------------------------------------------------------------------------------------------------------------------------------------------------------+--------------------------------------------------+---------------------------------------------------------------------+"
      ]
     },
     "execution_count": 13,
     "metadata": {},
     "output_type": "execute_result"
    }
   ],
   "source": [
    "%sql SELECT * FROM alphafolds LIMIT 1"
   ]
  },
  {
   "cell_type": "code",
   "execution_count": 14,
   "id": "5133e55c",
   "metadata": {},
   "outputs": [
    {
     "data": {
      "text/html": [
       "<span style=\"None\">Running query in &#x27;duckdb&#x27;</span>"
      ],
      "text/plain": [
       "Running query in 'duckdb'"
      ]
     },
     "metadata": {},
     "output_type": "display_data"
    },
    {
     "data": {
      "text/html": [
       "<table>\n",
       "    <thead>\n",
       "        <tr>\n",
       "            <th>count_star()</th>\n",
       "        </tr>\n",
       "    </thead>\n",
       "    <tbody>\n",
       "        <tr>\n",
       "            <td>10</td>\n",
       "        </tr>\n",
       "    </tbody>\n",
       "</table>"
      ],
      "text/plain": [
       "+--------------+\n",
       "| count_star() |\n",
       "+--------------+\n",
       "|      10      |\n",
       "+--------------+"
      ]
     },
     "execution_count": 14,
     "metadata": {},
     "output_type": "execute_result"
    }
   ],
   "source": [
    "%sql SELECT count(*) FROM alphafolds"
   ]
  },
  {
   "cell_type": "code",
   "execution_count": 15,
   "id": "cba6fda6",
   "metadata": {},
   "outputs": [
    {
     "data": {
      "text/html": [
       "<span style=\"None\">Running query in &#x27;duckdb&#x27;</span>"
      ],
      "text/plain": [
       "Running query in 'duckdb'"
      ]
     },
     "metadata": {},
     "output_type": "display_data"
    },
    {
     "data": {
      "text/html": [
       "<table>\n",
       "    <thead>\n",
       "        <tr>\n",
       "            <th>uniprot_acc</th>\n",
       "            <th>taxId</th>\n",
       "            <th>uniprotStart</th>\n",
       "            <th>uniprotEnd</th>\n",
       "            <th>gene</th>\n",
       "        </tr>\n",
       "    </thead>\n",
       "    <tbody>\n",
       "        <tr>\n",
       "            <td>A0A1W2PPM1</td>\n",
       "            <td>9606</td>\n",
       "            <td>1</td>\n",
       "            <td>405</td>\n",
       "            <td>\"CPHXL\"</td>\n",
       "        </tr>\n",
       "        <tr>\n",
       "            <td>A0A0U1RQI7</td>\n",
       "            <td>9606</td>\n",
       "            <td>1</td>\n",
       "            <td>1052</td>\n",
       "            <td>\"KLF18\"</td>\n",
       "        </tr>\n",
       "        <tr>\n",
       "            <td>A0A0C5B5G6</td>\n",
       "            <td>9606</td>\n",
       "            <td>1</td>\n",
       "            <td>16</td>\n",
       "            <td>\"MT-RNR1\"</td>\n",
       "        </tr>\n",
       "        <tr>\n",
       "            <td>A0A1W2PPK0</td>\n",
       "            <td>9606</td>\n",
       "            <td>1</td>\n",
       "            <td>400</td>\n",
       "            <td>\"Unknown\"</td>\n",
       "        </tr>\n",
       "        <tr>\n",
       "            <td>A0A1B0GWH4</td>\n",
       "            <td>9606</td>\n",
       "            <td>1</td>\n",
       "            <td>333</td>\n",
       "            <td>\"HSFX3\"</td>\n",
       "        </tr>\n",
       "        <tr>\n",
       "            <td>A0A1B0GVZ6</td>\n",
       "            <td>9606</td>\n",
       "            <td>1</td>\n",
       "            <td>204</td>\n",
       "            <td>\"MBD3L2B\"</td>\n",
       "        </tr>\n",
       "        <tr>\n",
       "            <td>A0A1B0GTS1</td>\n",
       "            <td>9606</td>\n",
       "            <td>1</td>\n",
       "            <td>333</td>\n",
       "            <td>\"HSFX4\"</td>\n",
       "        </tr>\n",
       "        <tr>\n",
       "            <td>A0A1W2PPF3</td>\n",
       "            <td>9606</td>\n",
       "            <td>1</td>\n",
       "            <td>345</td>\n",
       "            <td>\"DUXB\"</td>\n",
       "        </tr>\n",
       "        <tr>\n",
       "            <td>A0A1W2PQ73</td>\n",
       "            <td>9606</td>\n",
       "            <td>1</td>\n",
       "            <td>354</td>\n",
       "            <td>\"ERFL\"</td>\n",
       "        </tr>\n",
       "        <tr>\n",
       "            <td>A0A087WUV0</td>\n",
       "            <td>9606</td>\n",
       "            <td>1</td>\n",
       "            <td>522</td>\n",
       "            <td>\"Unknown\"</td>\n",
       "        </tr>\n",
       "    </tbody>\n",
       "</table>\n",
       "<span style=\"font-style:italic;text-align:center;\">Truncated to <a href=\"https://jupysql.ploomber.io/en/latest/api/configuration.html#displaylimit\">displaylimit</a> of 10.</span>"
      ],
      "text/plain": [
       "+-------------+-------+--------------+------------+-----------+\n",
       "| uniprot_acc | taxId | uniprotStart | uniprotEnd |    gene   |\n",
       "+-------------+-------+--------------+------------+-----------+\n",
       "|  A0A1W2PPM1 |  9606 |      1       |    405     |  \"CPHXL\"  |\n",
       "|  A0A0U1RQI7 |  9606 |      1       |    1052    |  \"KLF18\"  |\n",
       "|  A0A0C5B5G6 |  9606 |      1       |     16     | \"MT-RNR1\" |\n",
       "|  A0A1W2PPK0 |  9606 |      1       |    400     | \"Unknown\" |\n",
       "|  A0A1B0GWH4 |  9606 |      1       |    333     |  \"HSFX3\"  |\n",
       "|  A0A1B0GVZ6 |  9606 |      1       |    204     | \"MBD3L2B\" |\n",
       "|  A0A1B0GTS1 |  9606 |      1       |    333     |  \"HSFX4\"  |\n",
       "|  A0A1W2PPF3 |  9606 |      1       |    345     |   \"DUXB\"  |\n",
       "|  A0A1W2PQ73 |  9606 |      1       |    354     |   \"ERFL\"  |\n",
       "|  A0A087WUV0 |  9606 |      1       |    522     | \"Unknown\" |\n",
       "+-------------+-------+--------------+------------+-----------+\n",
       "Truncated to displaylimit of 10."
      ]
     },
     "execution_count": 15,
     "metadata": {},
     "output_type": "execute_result"
    }
   ],
   "source": [
    "# Fetch fields from inside summary\n",
    "%sql SELECT uniprot_acc, summary.taxId, summary.uniprotStart, summary.uniprotEnd, summary.gene FROM alphafolds"
   ]
  },
  {
   "cell_type": "code",
   "execution_count": 12,
   "id": "d038369f",
   "metadata": {},
   "outputs": [],
   "source": [
    "%config SqlMagic.displaylimit = 100"
   ]
  },
  {
   "cell_type": "code",
   "execution_count": 13,
   "id": "3185a46b",
   "metadata": {},
   "outputs": [
    {
     "data": {
      "text/html": [
       "<span style=\"None\">Running query in &#x27;duckdb&#x27;</span>"
      ],
      "text/plain": [
       "Running query in 'duckdb'"
      ]
     },
     "metadata": {},
     "output_type": "display_data"
    },
    {
     "data": {
      "text/html": [
       "<table>\n",
       "    <thead>\n",
       "        <tr>\n",
       "            <th>confidence</th>\n",
       "            <th>min_threshold</th>\n",
       "            <th>max_threshold</th>\n",
       "            <th>density_filter_id</th>\n",
       "            <th>uniprot_acc</th>\n",
       "            <th>nr_residues_above_confidence</th>\n",
       "            <th>keep</th>\n",
       "            <th>pdb_file</th>\n",
       "            <th>uniprotStart</th>\n",
       "            <th>uniprotEnd</th>\n",
       "            <th>uniprot_length</th>\n",
       "        </tr>\n",
       "    </thead>\n",
       "    <tbody>\n",
       "        <tr>\n",
       "            <td>70.0</td>\n",
       "            <td>100</td>\n",
       "            <td>500</td>\n",
       "            <td>1</td>\n",
       "            <td>A0A1W2PPM1</td>\n",
       "            <td>68</td>\n",
       "            <td>False</td>\n",
       "            <td>None</td>\n",
       "            <td>1</td>\n",
       "            <td>405</td>\n",
       "            <td>407</td>\n",
       "        </tr>\n",
       "        <tr>\n",
       "            <td>70.0</td>\n",
       "            <td>100</td>\n",
       "            <td>500</td>\n",
       "            <td>1</td>\n",
       "            <td>A0A0U1RQI7</td>\n",
       "            <td>192</td>\n",
       "            <td>True</td>\n",
       "            <td>session1/density_filtered/AF-A0A0U1RQI7-F1-model_v4.pdb</td>\n",
       "            <td>1</td>\n",
       "            <td>1052</td>\n",
       "            <td>1054</td>\n",
       "        </tr>\n",
       "        <tr>\n",
       "            <td>70.0</td>\n",
       "            <td>100</td>\n",
       "            <td>500</td>\n",
       "            <td>1</td>\n",
       "            <td>A0A0C5B5G6</td>\n",
       "            <td>10</td>\n",
       "            <td>False</td>\n",
       "            <td>None</td>\n",
       "            <td>1</td>\n",
       "            <td>16</td>\n",
       "            <td>18</td>\n",
       "        </tr>\n",
       "        <tr>\n",
       "            <td>70.0</td>\n",
       "            <td>100</td>\n",
       "            <td>500</td>\n",
       "            <td>1</td>\n",
       "            <td>A0A1W2PPK0</td>\n",
       "            <td>71</td>\n",
       "            <td>False</td>\n",
       "            <td>None</td>\n",
       "            <td>1</td>\n",
       "            <td>400</td>\n",
       "            <td>402</td>\n",
       "        </tr>\n",
       "        <tr>\n",
       "            <td>70.0</td>\n",
       "            <td>100</td>\n",
       "            <td>500</td>\n",
       "            <td>1</td>\n",
       "            <td>A0A1B0GWH4</td>\n",
       "            <td>117</td>\n",
       "            <td>True</td>\n",
       "            <td>session1/density_filtered/AF-A0A1B0GWH4-F1-model_v4.pdb</td>\n",
       "            <td>1</td>\n",
       "            <td>333</td>\n",
       "            <td>335</td>\n",
       "        </tr>\n",
       "        <tr>\n",
       "            <td>70.0</td>\n",
       "            <td>100</td>\n",
       "            <td>500</td>\n",
       "            <td>1</td>\n",
       "            <td>A0A1B0GVZ6</td>\n",
       "            <td>54</td>\n",
       "            <td>False</td>\n",
       "            <td>None</td>\n",
       "            <td>1</td>\n",
       "            <td>204</td>\n",
       "            <td>206</td>\n",
       "        </tr>\n",
       "        <tr>\n",
       "            <td>70.0</td>\n",
       "            <td>100</td>\n",
       "            <td>500</td>\n",
       "            <td>1</td>\n",
       "            <td>A0A1B0GTS1</td>\n",
       "            <td>116</td>\n",
       "            <td>True</td>\n",
       "            <td>session1/density_filtered/AF-A0A1B0GTS1-F1-model_v4.pdb</td>\n",
       "            <td>1</td>\n",
       "            <td>333</td>\n",
       "            <td>335</td>\n",
       "        </tr>\n",
       "        <tr>\n",
       "            <td>70.0</td>\n",
       "            <td>100</td>\n",
       "            <td>500</td>\n",
       "            <td>1</td>\n",
       "            <td>A0A1W2PPF3</td>\n",
       "            <td>124</td>\n",
       "            <td>True</td>\n",
       "            <td>session1/density_filtered/AF-A0A1W2PPF3-F1-model_v4.pdb</td>\n",
       "            <td>1</td>\n",
       "            <td>345</td>\n",
       "            <td>347</td>\n",
       "        </tr>\n",
       "        <tr>\n",
       "            <td>70.0</td>\n",
       "            <td>100</td>\n",
       "            <td>500</td>\n",
       "            <td>1</td>\n",
       "            <td>A0A1W2PQ73</td>\n",
       "            <td>86</td>\n",
       "            <td>False</td>\n",
       "            <td>None</td>\n",
       "            <td>1</td>\n",
       "            <td>354</td>\n",
       "            <td>356</td>\n",
       "        </tr>\n",
       "        <tr>\n",
       "            <td>70.0</td>\n",
       "            <td>100</td>\n",
       "            <td>500</td>\n",
       "            <td>1</td>\n",
       "            <td>A0A087WUV0</td>\n",
       "            <td>283</td>\n",
       "            <td>True</td>\n",
       "            <td>session1/density_filtered/AF-A0A087WUV0-F1-model_v4.pdb</td>\n",
       "            <td>1</td>\n",
       "            <td>522</td>\n",
       "            <td>524</td>\n",
       "        </tr>\n",
       "    </tbody>\n",
       "</table>"
      ],
      "text/plain": [
       "+------------+---------------+---------------+-------------------+-------------+------------------------------+-------+---------------------------------------------------------+--------------+------------+----------------+\n",
       "| confidence | min_threshold | max_threshold | density_filter_id | uniprot_acc | nr_residues_above_confidence |  keep |                         pdb_file                        | uniprotStart | uniprotEnd | uniprot_length |\n",
       "+------------+---------------+---------------+-------------------+-------------+------------------------------+-------+---------------------------------------------------------+--------------+------------+----------------+\n",
       "|    70.0    |      100      |      500      |         1         |  A0A1W2PPM1 |              68              | False |                           None                          |      1       |    405     |      407       |\n",
       "|    70.0    |      100      |      500      |         1         |  A0A0U1RQI7 |             192              |  True | session1/density_filtered/AF-A0A0U1RQI7-F1-model_v4.pdb |      1       |    1052    |      1054      |\n",
       "|    70.0    |      100      |      500      |         1         |  A0A0C5B5G6 |              10              | False |                           None                          |      1       |     16     |       18       |\n",
       "|    70.0    |      100      |      500      |         1         |  A0A1W2PPK0 |              71              | False |                           None                          |      1       |    400     |      402       |\n",
       "|    70.0    |      100      |      500      |         1         |  A0A1B0GWH4 |             117              |  True | session1/density_filtered/AF-A0A1B0GWH4-F1-model_v4.pdb |      1       |    333     |      335       |\n",
       "|    70.0    |      100      |      500      |         1         |  A0A1B0GVZ6 |              54              | False |                           None                          |      1       |    204     |      206       |\n",
       "|    70.0    |      100      |      500      |         1         |  A0A1B0GTS1 |             116              |  True | session1/density_filtered/AF-A0A1B0GTS1-F1-model_v4.pdb |      1       |    333     |      335       |\n",
       "|    70.0    |      100      |      500      |         1         |  A0A1W2PPF3 |             124              |  True | session1/density_filtered/AF-A0A1W2PPF3-F1-model_v4.pdb |      1       |    345     |      347       |\n",
       "|    70.0    |      100      |      500      |         1         |  A0A1W2PQ73 |              86              | False |                           None                          |      1       |    354     |      356       |\n",
       "|    70.0    |      100      |      500      |         1         |  A0A087WUV0 |             283              |  True | session1/density_filtered/AF-A0A087WUV0-F1-model_v4.pdb |      1       |    522     |      524       |\n",
       "+------------+---------------+---------------+-------------------+-------------+------------------------------+-------+---------------------------------------------------------+--------------+------------+----------------+"
      ]
     },
     "execution_count": 13,
     "metadata": {},
     "output_type": "execute_result"
    }
   ],
   "source": [
    "\n",
    "%%sql\n",
    "SELECT \n",
    "f.confidence, f.min_threshold, f.max_threshold,\n",
    "density_filtered_alphafolds.*, \n",
    "alphafolds.summary.uniprotStart, \n",
    "alphafolds.summary.uniprotEnd, \n",
    "length(alphafolds.summary.uniprotSequence) AS uniprot_length\n",
    "FROM density_filtered_alphafolds\n",
    "JOIN density_filters  AS f USING (density_filter_id) \n",
    "JOIN alphafolds USING (uniprot_acc)\n",
    "LIMIT 100;"
   ]
  },
  {
   "cell_type": "code",
   "execution_count": null,
   "id": "57f56724",
   "metadata": {},
   "outputs": [],
   "source": []
  }
 ],
 "metadata": {
  "kernelspec": {
   "display_name": ".venv",
   "language": "python",
   "name": "python3"
  },
  "language_info": {
   "codemirror_mode": {
    "name": "ipython",
    "version": 3
   },
   "file_extension": ".py",
   "mimetype": "text/x-python",
   "name": "python",
   "nbconvert_exporter": "python",
   "pygments_lexer": "ipython3",
   "version": "3.13.2"
  }
 },
 "nbformat": 4,
 "nbformat_minor": 5
}
