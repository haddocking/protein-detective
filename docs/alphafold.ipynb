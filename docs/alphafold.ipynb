{
 "cells": [
  {
   "cell_type": "markdown",
   "id": "24b1926c",
   "metadata": {},
   "source": [
    "# Alphafold fetcher"
   ]
  },
  {
   "cell_type": "code",
   "execution_count": null,
   "id": "681ba946",
   "metadata": {},
   "outputs": [],
   "source": [
    "from pathlib import Path\n",
    "from pprint import pprint\n",
    "\n",
    "from protein_detective.alphafold import fetch_many_async"
   ]
  },
  {
   "cell_type": "code",
   "execution_count": 2,
   "id": "5c2e6ee3",
   "metadata": {},
   "outputs": [],
   "source": [
    "save_dir = Path(\"alphafold_files\")"
   ]
  },
  {
   "cell_type": "code",
   "execution_count": null,
   "id": "f7ee37ab",
   "metadata": {},
   "outputs": [
    {
     "name": "stderr",
     "output_type": "stream",
     "text": [
      "Fetching summaries: 100%|██████████| 2/2 [00:00<00:00, 11.22it/s]\n",
      "Downloading files: 100%|██████████| 4/4 [00:00<00:00, 16777.22it/s]\n"
     ]
    }
   ],
   "source": [
    "summaries = [s async for s in fetch_many_async([\"A1YPR0\", \"O60481\"], save_dir)]"
   ]
  },
  {
   "cell_type": "code",
   "execution_count": null,
   "id": "af960cd9",
   "metadata": {},
   "outputs": [
    {
     "data": {
      "text/html": [
       "<pre style=\"white-space:pre;overflow-x:auto;line-height:normal;font-family:Menlo,'DejaVu Sans Mono',consolas,'Courier New',monospace\"><span style=\"font-weight: bold\">[</span>\n",
       "    <span style=\"color: #800080; text-decoration-color: #800080; font-weight: bold\">AlphaFoldEntry</span><span style=\"font-weight: bold\">(</span>\n",
       "        <span style=\"color: #808000; text-decoration-color: #808000\">summary</span>=<span style=\"color: #800080; text-decoration-color: #800080; font-weight: bold\">EntrySummary</span><span style=\"font-weight: bold\">(</span>\n",
       "            <span style=\"color: #808000; text-decoration-color: #808000\">entryId</span>=<span style=\"color: #008000; text-decoration-color: #008000\">'AF-A1YPR0-F1'</span>,\n",
       "            <span style=\"color: #808000; text-decoration-color: #808000\">gene</span>=<span style=\"color: #008000; text-decoration-color: #008000\">'ZBTB7C'</span>,\n",
       "            <span style=\"color: #808000; text-decoration-color: #808000\">sequenceChecksum</span>=<span style=\"color: #008000; text-decoration-color: #008000\">'73D82A34502B55BF'</span>,\n",
       "            <span style=\"color: #808000; text-decoration-color: #808000\">sequenceVersionDate</span>=<span style=\"color: #008000; text-decoration-color: #008000\">'2007-02-06'</span>,\n",
       "            <span style=\"color: #808000; text-decoration-color: #808000\">uniprotAccession</span>=<span style=\"color: #008000; text-decoration-color: #008000\">'A1YPR0'</span>,\n",
       "            <span style=\"color: #808000; text-decoration-color: #808000\">uniprotId</span>=<span style=\"color: #008000; text-decoration-color: #008000\">'ZBT7C_HUMAN'</span>,\n",
       "            <span style=\"color: #808000; text-decoration-color: #808000\">uniprotDescription</span>=<span style=\"color: #008000; text-decoration-color: #008000\">'Zinc finger and BTB domain-containing protein 7C'</span>,\n",
       "            <span style=\"color: #808000; text-decoration-color: #808000\">taxId</span>=<span style=\"color: #008080; text-decoration-color: #008080; font-weight: bold\">9606</span>,\n",
       "            <span style=\"color: #808000; text-decoration-color: #808000\">organismScientificName</span>=<span style=\"color: #008000; text-decoration-color: #008000\">'Homo sapiens'</span>,\n",
       "            <span style=\"color: #808000; text-decoration-color: #808000\">uniprotStart</span>=<span style=\"color: #008080; text-decoration-color: #008080; font-weight: bold\">1</span>,\n",
       "            <span style=\"color: #808000; text-decoration-color: #808000\">uniprotEnd</span>=<span style=\"color: #008080; text-decoration-color: #008080; font-weight: bold\">619</span>,\n",
       "            <span style=\"color: #808000; text-decoration-color: #808000\">uniprotSequence</span>=<span style=\"color: #008000; text-decoration-color: #008000\">'MANDIDELIGIPFPNHSSEVLCSLNEQRHDGLLCDVLLVVQEQEYRTHRSVLAACSKYFKKLFTAGTLASQPYVYEIDFVQPEALA</span>\n",
       "<span style=\"color: #008000; text-decoration-color: #008000\">AILEFAYTSTLTITAGNVKHILNAARMLEIQCIVNVCLEIMEPGGDGGEEDDKEDDDDDEDDDDEEDEEEEEEEEEDDDDDTEDFADQENLPDPQDISCHQSPSKTDHLTEKAYS</span>\n",
       "<span style=\"color: #008000; text-decoration-color: #008000\">DTPRDFPDSFQAGSPGHLGVIRDFSIESLLRENLYPKANIPDRRPSLSPFAPDFFPHLWPGDFGAFAQLPEQPMDSGPLDLVIKNRKIKEEEKEELPPPPPPPFPNDFFKDMFPD</span>\n",
       "<span style=\"color: #008000; text-decoration-color: #008000\">LPGGPLGPIKAENDYGAYLNFLSATHLGGLFPPWPLVEERKLKPKASQQCPICHKVIMGAGKLPRHMRTHTGEKPYMCTICEVRFTRQDKLKIHMRKHTGERPYLCIHCNAKFVH</span>\n",
       "<span style=\"color: #008000; text-decoration-color: #008000\">NYDLKNHMRIHTGVRPYQCEFCYKSFTRSDHLHRHIKRQSCRMARPRRGRKPAAWRAASLLFGPGGPAPDKAAFVMPPALGEVGGHLGGAAVCLPGPSPAKHFLAAPKGALSLQE</span>\n",
       "<span style=\"color: #008000; text-decoration-color: #008000\">LERQFEETQMKLFGRAQLEAERNAGGLLAFALAENVAAARPYFPLPDPWAAGLAGLPGLAGLNHVASMSEANN'</span>,\n",
       "            <span style=\"color: #808000; text-decoration-color: #808000\">modelCreatedDate</span>=<span style=\"color: #008000; text-decoration-color: #008000\">'2022-06-01'</span>,\n",
       "            <span style=\"color: #808000; text-decoration-color: #808000\">latestVersion</span>=<span style=\"color: #008080; text-decoration-color: #008080; font-weight: bold\">4</span>,\n",
       "            <span style=\"color: #808000; text-decoration-color: #808000\">allVersions</span>=<span style=\"font-weight: bold\">[</span><span style=\"color: #008080; text-decoration-color: #008080; font-weight: bold\">1</span>, <span style=\"color: #008080; text-decoration-color: #008080; font-weight: bold\">2</span>, <span style=\"color: #008080; text-decoration-color: #008080; font-weight: bold\">3</span>, <span style=\"color: #008080; text-decoration-color: #008080; font-weight: bold\">4</span><span style=\"font-weight: bold\">]</span>,\n",
       "            <span style=\"color: #808000; text-decoration-color: #808000\">bcifUrl</span>=<span style=\"color: #008000; text-decoration-color: #008000\">'https://alphafold.ebi.ac.uk/files/AF-A1YPR0-F1-model_v4.bcif'</span>,\n",
       "            <span style=\"color: #808000; text-decoration-color: #808000\">cifUrl</span>=<span style=\"color: #008000; text-decoration-color: #008000\">'https://alphafold.ebi.ac.uk/files/AF-A1YPR0-F1-model_v4.cif'</span>,\n",
       "            <span style=\"color: #808000; text-decoration-color: #808000\">pdbUrl</span>=<span style=\"color: #008000; text-decoration-color: #008000\">'https://alphafold.ebi.ac.uk/files/AF-A1YPR0-F1-model_v4.pdb'</span>,\n",
       "            <span style=\"color: #808000; text-decoration-color: #808000\">paeImageUrl</span>=<span style=\"color: #008000; text-decoration-color: #008000\">'https://alphafold.ebi.ac.uk/files/AF-A1YPR0-F1-predicted_aligned_error_v4.png'</span>,\n",
       "            <span style=\"color: #808000; text-decoration-color: #808000\">paeDocUrl</span>=<span style=\"color: #008000; text-decoration-color: #008000\">'https://alphafold.ebi.ac.uk/files/AF-A1YPR0-F1-predicted_aligned_error_v4.json'</span>,\n",
       "            <span style=\"color: #808000; text-decoration-color: #808000\">amAnnotationsUrl</span>=<span style=\"color: #008000; text-decoration-color: #008000\">'https://alphafold.ebi.ac.uk/files/AF-A1YPR0-F1-aa-substitutions.csv'</span>,\n",
       "            <span style=\"color: #808000; text-decoration-color: #808000\">amAnnotationsHg19Url</span>=<span style=\"color: #008000; text-decoration-color: #008000\">'https://alphafold.ebi.ac.uk/files/AF-A1YPR0-F1-hg19.csv'</span>,\n",
       "            <span style=\"color: #808000; text-decoration-color: #808000\">amAnnotationsHg38Url</span>=<span style=\"color: #008000; text-decoration-color: #008000\">'https://alphafold.ebi.ac.uk/files/AF-A1YPR0-F1-hg38.csv'</span>,\n",
       "            <span style=\"color: #808000; text-decoration-color: #808000\">isReviewed</span>=<span style=\"color: #00ff00; text-decoration-color: #00ff00; font-style: italic\">True</span>,\n",
       "            <span style=\"color: #808000; text-decoration-color: #808000\">isReferenceProteome</span>=<span style=\"color: #00ff00; text-decoration-color: #00ff00; font-style: italic\">True</span>\n",
       "        <span style=\"font-weight: bold\">)</span>,\n",
       "        <span style=\"color: #808000; text-decoration-color: #808000\">pdb_file</span>=<span style=\"color: #800080; text-decoration-color: #800080; font-weight: bold\">PosixPath</span><span style=\"font-weight: bold\">(</span><span style=\"color: #008000; text-decoration-color: #008000\">'alphafold_files/AF-A1YPR0-F1-model_v4.pdb'</span><span style=\"font-weight: bold\">)</span>,\n",
       "        <span style=\"color: #808000; text-decoration-color: #808000\">pae_file</span>=<span style=\"color: #800080; text-decoration-color: #800080; font-weight: bold\">PosixPath</span><span style=\"font-weight: bold\">(</span><span style=\"color: #008000; text-decoration-color: #008000\">'alphafold_files/AF-A1YPR0-F1-predicted_aligned_error_v4.json'</span><span style=\"font-weight: bold\">)</span>\n",
       "    <span style=\"font-weight: bold\">)</span>,\n",
       "    <span style=\"color: #800080; text-decoration-color: #800080; font-weight: bold\">AlphaFoldEntry</span><span style=\"font-weight: bold\">(</span>\n",
       "        <span style=\"color: #808000; text-decoration-color: #808000\">summary</span>=<span style=\"color: #800080; text-decoration-color: #800080; font-weight: bold\">EntrySummary</span><span style=\"font-weight: bold\">(</span>\n",
       "            <span style=\"color: #808000; text-decoration-color: #808000\">entryId</span>=<span style=\"color: #008000; text-decoration-color: #008000\">'AF-O60481-F1'</span>,\n",
       "            <span style=\"color: #808000; text-decoration-color: #808000\">gene</span>=<span style=\"color: #008000; text-decoration-color: #008000\">'ZIC3'</span>,\n",
       "            <span style=\"color: #808000; text-decoration-color: #808000\">sequenceChecksum</span>=<span style=\"color: #008000; text-decoration-color: #008000\">'3150CF13C0679568'</span>,\n",
       "            <span style=\"color: #808000; text-decoration-color: #808000\">sequenceVersionDate</span>=<span style=\"color: #008000; text-decoration-color: #008000\">'1998-08-01'</span>,\n",
       "            <span style=\"color: #808000; text-decoration-color: #808000\">uniprotAccession</span>=<span style=\"color: #008000; text-decoration-color: #008000\">'O60481'</span>,\n",
       "            <span style=\"color: #808000; text-decoration-color: #808000\">uniprotId</span>=<span style=\"color: #008000; text-decoration-color: #008000\">'ZIC3_HUMAN'</span>,\n",
       "            <span style=\"color: #808000; text-decoration-color: #808000\">uniprotDescription</span>=<span style=\"color: #008000; text-decoration-color: #008000\">'Zinc finger protein ZIC 3'</span>,\n",
       "            <span style=\"color: #808000; text-decoration-color: #808000\">taxId</span>=<span style=\"color: #008080; text-decoration-color: #008080; font-weight: bold\">9606</span>,\n",
       "            <span style=\"color: #808000; text-decoration-color: #808000\">organismScientificName</span>=<span style=\"color: #008000; text-decoration-color: #008000\">'Homo sapiens'</span>,\n",
       "            <span style=\"color: #808000; text-decoration-color: #808000\">uniprotStart</span>=<span style=\"color: #008080; text-decoration-color: #008080; font-weight: bold\">1</span>,\n",
       "            <span style=\"color: #808000; text-decoration-color: #808000\">uniprotEnd</span>=<span style=\"color: #008080; text-decoration-color: #008080; font-weight: bold\">467</span>,\n",
       "            <span style=\"color: #808000; text-decoration-color: #808000\">uniprotSequence</span>=<span style=\"color: #008000; text-decoration-color: #008000\">'MTMLLDGGPQFPGLGVGSFGAPRHHEMPNREPAGMGLNPFGDSTHAAAAAAAAAAFKLSPAAAHDLSSGQSSAFTPQGSGYANALG</span>\n",
       "<span style=\"color: #008000; text-decoration-color: #008000\">HHHHHHHHHHHTSQVPSYGGAASAAFNSTREFLFRQRSSGLSEAASGGGQHGLFAGSASSLHAPAGIPEPPSYLLFPGLHEQGAGHPSPTGHVDNNQVHLGLRGELFGRADPYRP</span>\n",
       "<span style=\"color: #008000; text-decoration-color: #008000\">VASPRTDPYAAGAQFPNYSPMNMNMGVNVAAHHGPGAFFRYMRQPIKQELSCKWIDEAQLSRPKKSCDRTFSTMHELVTHVTMEHVGGPEQNNHVCYWEECPREGKSFKAKYKLV</span>\n",
       "<span style=\"color: #008000; text-decoration-color: #008000\">NHIRVHTGEKPFPCPFPGCGKIFARSENLKIHKRTHTGEKPFKCEFEGCDRRFANSSDRKKHMHVHTSDKPYICKVCDKSYTHPSSLRKHMKVHESQGSDSSPAASSGYESSTPP</span>\n",
       "<span style=\"color: #008000; text-decoration-color: #008000\">AIASANSKDTTKTPSAVQTSTSHNPGLPPNFNEWYV'</span>,\n",
       "            <span style=\"color: #808000; text-decoration-color: #808000\">modelCreatedDate</span>=<span style=\"color: #008000; text-decoration-color: #008000\">'2022-06-01'</span>,\n",
       "            <span style=\"color: #808000; text-decoration-color: #808000\">latestVersion</span>=<span style=\"color: #008080; text-decoration-color: #008080; font-weight: bold\">4</span>,\n",
       "            <span style=\"color: #808000; text-decoration-color: #808000\">allVersions</span>=<span style=\"font-weight: bold\">[</span><span style=\"color: #008080; text-decoration-color: #008080; font-weight: bold\">1</span>, <span style=\"color: #008080; text-decoration-color: #008080; font-weight: bold\">2</span>, <span style=\"color: #008080; text-decoration-color: #008080; font-weight: bold\">3</span>, <span style=\"color: #008080; text-decoration-color: #008080; font-weight: bold\">4</span><span style=\"font-weight: bold\">]</span>,\n",
       "            <span style=\"color: #808000; text-decoration-color: #808000\">bcifUrl</span>=<span style=\"color: #008000; text-decoration-color: #008000\">'https://alphafold.ebi.ac.uk/files/AF-O60481-F1-model_v4.bcif'</span>,\n",
       "            <span style=\"color: #808000; text-decoration-color: #808000\">cifUrl</span>=<span style=\"color: #008000; text-decoration-color: #008000\">'https://alphafold.ebi.ac.uk/files/AF-O60481-F1-model_v4.cif'</span>,\n",
       "            <span style=\"color: #808000; text-decoration-color: #808000\">pdbUrl</span>=<span style=\"color: #008000; text-decoration-color: #008000\">'https://alphafold.ebi.ac.uk/files/AF-O60481-F1-model_v4.pdb'</span>,\n",
       "            <span style=\"color: #808000; text-decoration-color: #808000\">paeImageUrl</span>=<span style=\"color: #008000; text-decoration-color: #008000\">'https://alphafold.ebi.ac.uk/files/AF-O60481-F1-predicted_aligned_error_v4.png'</span>,\n",
       "            <span style=\"color: #808000; text-decoration-color: #808000\">paeDocUrl</span>=<span style=\"color: #008000; text-decoration-color: #008000\">'https://alphafold.ebi.ac.uk/files/AF-O60481-F1-predicted_aligned_error_v4.json'</span>,\n",
       "            <span style=\"color: #808000; text-decoration-color: #808000\">amAnnotationsUrl</span>=<span style=\"color: #008000; text-decoration-color: #008000\">'https://alphafold.ebi.ac.uk/files/AF-O60481-F1-aa-substitutions.csv'</span>,\n",
       "            <span style=\"color: #808000; text-decoration-color: #808000\">amAnnotationsHg19Url</span>=<span style=\"color: #008000; text-decoration-color: #008000\">'https://alphafold.ebi.ac.uk/files/AF-O60481-F1-hg19.csv'</span>,\n",
       "            <span style=\"color: #808000; text-decoration-color: #808000\">amAnnotationsHg38Url</span>=<span style=\"color: #008000; text-decoration-color: #008000\">'https://alphafold.ebi.ac.uk/files/AF-O60481-F1-hg38.csv'</span>,\n",
       "            <span style=\"color: #808000; text-decoration-color: #808000\">isReviewed</span>=<span style=\"color: #00ff00; text-decoration-color: #00ff00; font-style: italic\">True</span>,\n",
       "            <span style=\"color: #808000; text-decoration-color: #808000\">isReferenceProteome</span>=<span style=\"color: #00ff00; text-decoration-color: #00ff00; font-style: italic\">True</span>\n",
       "        <span style=\"font-weight: bold\">)</span>,\n",
       "        <span style=\"color: #808000; text-decoration-color: #808000\">pdb_file</span>=<span style=\"color: #800080; text-decoration-color: #800080; font-weight: bold\">PosixPath</span><span style=\"font-weight: bold\">(</span><span style=\"color: #008000; text-decoration-color: #008000\">'alphafold_files/AF-O60481-F1-model_v4.pdb'</span><span style=\"font-weight: bold\">)</span>,\n",
       "        <span style=\"color: #808000; text-decoration-color: #808000\">pae_file</span>=<span style=\"color: #800080; text-decoration-color: #800080; font-weight: bold\">PosixPath</span><span style=\"font-weight: bold\">(</span><span style=\"color: #008000; text-decoration-color: #008000\">'alphafold_files/AF-O60481-F1-predicted_aligned_error_v4.json'</span><span style=\"font-weight: bold\">)</span>\n",
       "    <span style=\"font-weight: bold\">)</span>\n",
       "<span style=\"font-weight: bold\">]</span>\n",
       "</pre>\n"
      ],
      "text/plain": [
       "\u001b[1m[\u001b[0m\n",
       "    \u001b[1;35mAlphaFoldEntry\u001b[0m\u001b[1m(\u001b[0m\n",
       "        \u001b[33msummary\u001b[0m=\u001b[1;35mEntrySummary\u001b[0m\u001b[1m(\u001b[0m\n",
       "            \u001b[33mentryId\u001b[0m=\u001b[32m'AF-A1YPR0-F1'\u001b[0m,\n",
       "            \u001b[33mgene\u001b[0m=\u001b[32m'ZBTB7C'\u001b[0m,\n",
       "            \u001b[33msequenceChecksum\u001b[0m=\u001b[32m'73D82A34502B55BF'\u001b[0m,\n",
       "            \u001b[33msequenceVersionDate\u001b[0m=\u001b[32m'2007-02-06'\u001b[0m,\n",
       "            \u001b[33muniprotAccession\u001b[0m=\u001b[32m'A1YPR0'\u001b[0m,\n",
       "            \u001b[33muniprotId\u001b[0m=\u001b[32m'ZBT7C_HUMAN'\u001b[0m,\n",
       "            \u001b[33muniprotDescription\u001b[0m=\u001b[32m'Zinc finger and BTB domain-containing protein 7C'\u001b[0m,\n",
       "            \u001b[33mtaxId\u001b[0m=\u001b[1;36m9606\u001b[0m,\n",
       "            \u001b[33morganismScientificName\u001b[0m=\u001b[32m'Homo sapiens'\u001b[0m,\n",
       "            \u001b[33muniprotStart\u001b[0m=\u001b[1;36m1\u001b[0m,\n",
       "            \u001b[33muniprotEnd\u001b[0m=\u001b[1;36m619\u001b[0m,\n",
       "            \u001b[33muniprotSequence\u001b[0m=\u001b[32m'MANDIDELIGIPFPNHSSEVLCSLNEQRHDGLLCDVLLVVQEQEYRTHRSVLAACSKYFKKLFTAGTLASQPYVYEIDFVQPEALA\u001b[0m\n",
       "\u001b[32mAILEFAYTSTLTITAGNVKHILNAARMLEIQCIVNVCLEIMEPGGDGGEEDDKEDDDDDEDDDDEEDEEEEEEEEEDDDDDTEDFADQENLPDPQDISCHQSPSKTDHLTEKAYS\u001b[0m\n",
       "\u001b[32mDTPRDFPDSFQAGSPGHLGVIRDFSIESLLRENLYPKANIPDRRPSLSPFAPDFFPHLWPGDFGAFAQLPEQPMDSGPLDLVIKNRKIKEEEKEELPPPPPPPFPNDFFKDMFPD\u001b[0m\n",
       "\u001b[32mLPGGPLGPIKAENDYGAYLNFLSATHLGGLFPPWPLVEERKLKPKASQQCPICHKVIMGAGKLPRHMRTHTGEKPYMCTICEVRFTRQDKLKIHMRKHTGERPYLCIHCNAKFVH\u001b[0m\n",
       "\u001b[32mNYDLKNHMRIHTGVRPYQCEFCYKSFTRSDHLHRHIKRQSCRMARPRRGRKPAAWRAASLLFGPGGPAPDKAAFVMPPALGEVGGHLGGAAVCLPGPSPAKHFLAAPKGALSLQE\u001b[0m\n",
       "\u001b[32mLERQFEETQMKLFGRAQLEAERNAGGLLAFALAENVAAARPYFPLPDPWAAGLAGLPGLAGLNHVASMSEANN'\u001b[0m,\n",
       "            \u001b[33mmodelCreatedDate\u001b[0m=\u001b[32m'2022-06-01'\u001b[0m,\n",
       "            \u001b[33mlatestVersion\u001b[0m=\u001b[1;36m4\u001b[0m,\n",
       "            \u001b[33mallVersions\u001b[0m=\u001b[1m[\u001b[0m\u001b[1;36m1\u001b[0m, \u001b[1;36m2\u001b[0m, \u001b[1;36m3\u001b[0m, \u001b[1;36m4\u001b[0m\u001b[1m]\u001b[0m,\n",
       "            \u001b[33mbcifUrl\u001b[0m=\u001b[32m'https://alphafold.ebi.ac.uk/files/AF-A1YPR0-F1-model_v4.bcif'\u001b[0m,\n",
       "            \u001b[33mcifUrl\u001b[0m=\u001b[32m'https://alphafold.ebi.ac.uk/files/AF-A1YPR0-F1-model_v4.cif'\u001b[0m,\n",
       "            \u001b[33mpdbUrl\u001b[0m=\u001b[32m'https://alphafold.ebi.ac.uk/files/AF-A1YPR0-F1-model_v4.pdb'\u001b[0m,\n",
       "            \u001b[33mpaeImageUrl\u001b[0m=\u001b[32m'https://alphafold.ebi.ac.uk/files/AF-A1YPR0-F1-predicted_aligned_error_v4.png'\u001b[0m,\n",
       "            \u001b[33mpaeDocUrl\u001b[0m=\u001b[32m'https://alphafold.ebi.ac.uk/files/AF-A1YPR0-F1-predicted_aligned_error_v4.json'\u001b[0m,\n",
       "            \u001b[33mamAnnotationsUrl\u001b[0m=\u001b[32m'https://alphafold.ebi.ac.uk/files/AF-A1YPR0-F1-aa-substitutions.csv'\u001b[0m,\n",
       "            \u001b[33mamAnnotationsHg19Url\u001b[0m=\u001b[32m'https://alphafold.ebi.ac.uk/files/AF-A1YPR0-F1-hg19.csv'\u001b[0m,\n",
       "            \u001b[33mamAnnotationsHg38Url\u001b[0m=\u001b[32m'https://alphafold.ebi.ac.uk/files/AF-A1YPR0-F1-hg38.csv'\u001b[0m,\n",
       "            \u001b[33misReviewed\u001b[0m=\u001b[3;92mTrue\u001b[0m,\n",
       "            \u001b[33misReferenceProteome\u001b[0m=\u001b[3;92mTrue\u001b[0m\n",
       "        \u001b[1m)\u001b[0m,\n",
       "        \u001b[33mpdb_file\u001b[0m=\u001b[1;35mPosixPath\u001b[0m\u001b[1m(\u001b[0m\u001b[32m'alphafold_files/AF-A1YPR0-F1-model_v4.pdb'\u001b[0m\u001b[1m)\u001b[0m,\n",
       "        \u001b[33mpae_file\u001b[0m=\u001b[1;35mPosixPath\u001b[0m\u001b[1m(\u001b[0m\u001b[32m'alphafold_files/AF-A1YPR0-F1-predicted_aligned_error_v4.json'\u001b[0m\u001b[1m)\u001b[0m\n",
       "    \u001b[1m)\u001b[0m,\n",
       "    \u001b[1;35mAlphaFoldEntry\u001b[0m\u001b[1m(\u001b[0m\n",
       "        \u001b[33msummary\u001b[0m=\u001b[1;35mEntrySummary\u001b[0m\u001b[1m(\u001b[0m\n",
       "            \u001b[33mentryId\u001b[0m=\u001b[32m'AF-O60481-F1'\u001b[0m,\n",
       "            \u001b[33mgene\u001b[0m=\u001b[32m'ZIC3'\u001b[0m,\n",
       "            \u001b[33msequenceChecksum\u001b[0m=\u001b[32m'3150CF13C0679568'\u001b[0m,\n",
       "            \u001b[33msequenceVersionDate\u001b[0m=\u001b[32m'1998-08-01'\u001b[0m,\n",
       "            \u001b[33muniprotAccession\u001b[0m=\u001b[32m'O60481'\u001b[0m,\n",
       "            \u001b[33muniprotId\u001b[0m=\u001b[32m'ZIC3_HUMAN'\u001b[0m,\n",
       "            \u001b[33muniprotDescription\u001b[0m=\u001b[32m'Zinc finger protein ZIC 3'\u001b[0m,\n",
       "            \u001b[33mtaxId\u001b[0m=\u001b[1;36m9606\u001b[0m,\n",
       "            \u001b[33morganismScientificName\u001b[0m=\u001b[32m'Homo sapiens'\u001b[0m,\n",
       "            \u001b[33muniprotStart\u001b[0m=\u001b[1;36m1\u001b[0m,\n",
       "            \u001b[33muniprotEnd\u001b[0m=\u001b[1;36m467\u001b[0m,\n",
       "            \u001b[33muniprotSequence\u001b[0m=\u001b[32m'MTMLLDGGPQFPGLGVGSFGAPRHHEMPNREPAGMGLNPFGDSTHAAAAAAAAAAFKLSPAAAHDLSSGQSSAFTPQGSGYANALG\u001b[0m\n",
       "\u001b[32mHHHHHHHHHHHTSQVPSYGGAASAAFNSTREFLFRQRSSGLSEAASGGGQHGLFAGSASSLHAPAGIPEPPSYLLFPGLHEQGAGHPSPTGHVDNNQVHLGLRGELFGRADPYRP\u001b[0m\n",
       "\u001b[32mVASPRTDPYAAGAQFPNYSPMNMNMGVNVAAHHGPGAFFRYMRQPIKQELSCKWIDEAQLSRPKKSCDRTFSTMHELVTHVTMEHVGGPEQNNHVCYWEECPREGKSFKAKYKLV\u001b[0m\n",
       "\u001b[32mNHIRVHTGEKPFPCPFPGCGKIFARSENLKIHKRTHTGEKPFKCEFEGCDRRFANSSDRKKHMHVHTSDKPYICKVCDKSYTHPSSLRKHMKVHESQGSDSSPAASSGYESSTPP\u001b[0m\n",
       "\u001b[32mAIASANSKDTTKTPSAVQTSTSHNPGLPPNFNEWYV'\u001b[0m,\n",
       "            \u001b[33mmodelCreatedDate\u001b[0m=\u001b[32m'2022-06-01'\u001b[0m,\n",
       "            \u001b[33mlatestVersion\u001b[0m=\u001b[1;36m4\u001b[0m,\n",
       "            \u001b[33mallVersions\u001b[0m=\u001b[1m[\u001b[0m\u001b[1;36m1\u001b[0m, \u001b[1;36m2\u001b[0m, \u001b[1;36m3\u001b[0m, \u001b[1;36m4\u001b[0m\u001b[1m]\u001b[0m,\n",
       "            \u001b[33mbcifUrl\u001b[0m=\u001b[32m'https://alphafold.ebi.ac.uk/files/AF-O60481-F1-model_v4.bcif'\u001b[0m,\n",
       "            \u001b[33mcifUrl\u001b[0m=\u001b[32m'https://alphafold.ebi.ac.uk/files/AF-O60481-F1-model_v4.cif'\u001b[0m,\n",
       "            \u001b[33mpdbUrl\u001b[0m=\u001b[32m'https://alphafold.ebi.ac.uk/files/AF-O60481-F1-model_v4.pdb'\u001b[0m,\n",
       "            \u001b[33mpaeImageUrl\u001b[0m=\u001b[32m'https://alphafold.ebi.ac.uk/files/AF-O60481-F1-predicted_aligned_error_v4.png'\u001b[0m,\n",
       "            \u001b[33mpaeDocUrl\u001b[0m=\u001b[32m'https://alphafold.ebi.ac.uk/files/AF-O60481-F1-predicted_aligned_error_v4.json'\u001b[0m,\n",
       "            \u001b[33mamAnnotationsUrl\u001b[0m=\u001b[32m'https://alphafold.ebi.ac.uk/files/AF-O60481-F1-aa-substitutions.csv'\u001b[0m,\n",
       "            \u001b[33mamAnnotationsHg19Url\u001b[0m=\u001b[32m'https://alphafold.ebi.ac.uk/files/AF-O60481-F1-hg19.csv'\u001b[0m,\n",
       "            \u001b[33mamAnnotationsHg38Url\u001b[0m=\u001b[32m'https://alphafold.ebi.ac.uk/files/AF-O60481-F1-hg38.csv'\u001b[0m,\n",
       "            \u001b[33misReviewed\u001b[0m=\u001b[3;92mTrue\u001b[0m,\n",
       "            \u001b[33misReferenceProteome\u001b[0m=\u001b[3;92mTrue\u001b[0m\n",
       "        \u001b[1m)\u001b[0m,\n",
       "        \u001b[33mpdb_file\u001b[0m=\u001b[1;35mPosixPath\u001b[0m\u001b[1m(\u001b[0m\u001b[32m'alphafold_files/AF-O60481-F1-model_v4.pdb'\u001b[0m\u001b[1m)\u001b[0m,\n",
       "        \u001b[33mpae_file\u001b[0m=\u001b[1;35mPosixPath\u001b[0m\u001b[1m(\u001b[0m\u001b[32m'alphafold_files/AF-O60481-F1-predicted_aligned_error_v4.json'\u001b[0m\u001b[1m)\u001b[0m\n",
       "    \u001b[1m)\u001b[0m\n",
       "\u001b[1m]\u001b[0m\n"
      ]
     },
     "metadata": {},
     "output_type": "display_data"
    }
   ],
   "source": [
    "pprint(summaries)"
   ]
  },
  {
   "cell_type": "code",
   "execution_count": null,
   "id": "cf84047e",
   "metadata": {},
   "outputs": [],
   "source": []
  }
 ],
 "metadata": {
  "kernelspec": {
   "display_name": ".venv",
   "language": "python",
   "name": "python3"
  },
  "language_info": {
   "codemirror_mode": {
    "name": "ipython",
    "version": 3
   },
   "file_extension": ".py",
   "mimetype": "text/x-python",
   "name": "python",
   "nbconvert_exporter": "python",
   "pygments_lexer": "ipython3",
   "version": "3.13.2"
  }
 },
 "nbformat": 4,
 "nbformat_minor": 5
}
