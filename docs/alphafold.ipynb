{
 "cells": [
  {
   "cell_type": "markdown",
   "id": "24b1926c",
   "metadata": {},
   "source": [
    "# Alphafold fetcher"
   ]
  },
  {
   "cell_type": "code",
   "execution_count": 2,
   "id": "681ba946",
   "metadata": {},
   "outputs": [],
   "source": [
    "from pathlib import Path\n",
    "from pprint import pprint\n",
    "\n",
    "from protein_detective.alphafold import fetch_many_async"
   ]
  },
  {
   "cell_type": "code",
   "execution_count": 3,
   "id": "5c2e6ee3",
   "metadata": {},
   "outputs": [],
   "source": [
    "save_dir = Path(\"alphafold_files\")"
   ]
  },
  {
   "cell_type": "code",
   "execution_count": 4,
   "id": "f7ee37ab",
   "metadata": {},
   "outputs": [
    {
     "name": "stderr",
     "output_type": "stream",
     "text": [
      "Fetching summaries:   0%|          | 0/2 [00:00<?, ?it/s]"
     ]
    },
    {
     "name": "stderr",
     "output_type": "stream",
     "text": [
      "Fetching summaries: 100%|██████████| 2/2 [00:00<00:00,  7.35it/s]\n",
      "Downloading files: 100%|██████████| 4/4 [00:00<00:00, 5581.24it/s]\n"
     ]
    }
   ],
   "source": [
    "summaries = [s async for s in fetch_many_async([\"A1YPR0\", \"O60481\"], save_dir)]"
   ]
  },
  {
   "cell_type": "code",
   "execution_count": 5,
   "id": "af960cd9",
   "metadata": {},
   "outputs": [
    {
     "name": "stdout",
     "output_type": "stream",
     "text": [
      "[AlphaFoldEntry(summary=EntrySummary(entryId='AF-A1YPR0-F1',\n",
      "                                     gene='ZBTB7C',\n",
      "                                     sequenceChecksum='73D82A34502B55BF',\n",
      "                                     sequenceVersionDate='2007-02-06',\n",
      "                                     uniprotAccession='A1YPR0',\n",
      "                                     uniprotId='ZBT7C_HUMAN',\n",
      "                                     uniprotDescription='Zinc finger and BTB '\n",
      "                                                        'domain-containing '\n",
      "                                                        'protein 7C',\n",
      "                                     taxId=9606,\n",
      "                                     organismScientificName='Homo sapiens',\n",
      "                                     uniprotStart=1,\n",
      "                                     uniprotEnd=619,\n",
      "                                     uniprotSequence='MANDIDELIGIPFPNHSSEVLCSLNEQRHDGLLCDVLLVVQEQEYRTHRSVLAACSKYFKKLFTAGTLASQPYVYEIDFVQPEALAAILEFAYTSTLTITAGNVKHILNAARMLEIQCIVNVCLEIMEPGGDGGEEDDKEDDDDDEDDDDEEDEEEEEEEEEDDDDDTEDFADQENLPDPQDISCHQSPSKTDHLTEKAYSDTPRDFPDSFQAGSPGHLGVIRDFSIESLLRENLYPKANIPDRRPSLSPFAPDFFPHLWPGDFGAFAQLPEQPMDSGPLDLVIKNRKIKEEEKEELPPPPPPPFPNDFFKDMFPDLPGGPLGPIKAENDYGAYLNFLSATHLGGLFPPWPLVEERKLKPKASQQCPICHKVIMGAGKLPRHMRTHTGEKPYMCTICEVRFTRQDKLKIHMRKHTGERPYLCIHCNAKFVHNYDLKNHMRIHTGVRPYQCEFCYKSFTRSDHLHRHIKRQSCRMARPRRGRKPAAWRAASLLFGPGGPAPDKAAFVMPPALGEVGGHLGGAAVCLPGPSPAKHFLAAPKGALSLQELERQFEETQMKLFGRAQLEAERNAGGLLAFALAENVAAARPYFPLPDPWAAGLAGLPGLAGLNHVASMSEANN',\n",
      "                                     modelCreatedDate='2022-06-01',\n",
      "                                     latestVersion=4,\n",
      "                                     allVersions=[1, 2, 3, 4],\n",
      "                                     bcifUrl='https://alphafold.ebi.ac.uk/files/AF-A1YPR0-F1-model_v4.bcif',\n",
      "                                     cifUrl='https://alphafold.ebi.ac.uk/files/AF-A1YPR0-F1-model_v4.cif',\n",
      "                                     pdbUrl='https://alphafold.ebi.ac.uk/files/AF-A1YPR0-F1-model_v4.pdb',\n",
      "                                     paeImageUrl='https://alphafold.ebi.ac.uk/files/AF-A1YPR0-F1-predicted_aligned_error_v4.png',\n",
      "                                     paeDocUrl='https://alphafold.ebi.ac.uk/files/AF-A1YPR0-F1-predicted_aligned_error_v4.json',\n",
      "                                     amAnnotationsUrl='https://alphafold.ebi.ac.uk/files/AF-A1YPR0-F1-aa-substitutions.csv',\n",
      "                                     amAnnotationsHg19Url='https://alphafold.ebi.ac.uk/files/AF-A1YPR0-F1-hg19.csv',\n",
      "                                     amAnnotationsHg38Url='https://alphafold.ebi.ac.uk/files/AF-A1YPR0-F1-hg38.csv',\n",
      "                                     isReviewed=True,\n",
      "                                     isReferenceProteome=True),\n",
      "                pdb_file=PosixPath('alphafold_files/AF-A1YPR0-F1-model_v4.pdb'),\n",
      "                pae_file=PosixPath('alphafold_files/AF-A1YPR0-F1-predicted_aligned_error_v4.json')),\n",
      " AlphaFoldEntry(summary=EntrySummary(entryId='AF-O60481-F1',\n",
      "                                     gene='ZIC3',\n",
      "                                     sequenceChecksum='3150CF13C0679568',\n",
      "                                     sequenceVersionDate='1998-08-01',\n",
      "                                     uniprotAccession='O60481',\n",
      "                                     uniprotId='ZIC3_HUMAN',\n",
      "                                     uniprotDescription='Zinc finger protein '\n",
      "                                                        'ZIC 3',\n",
      "                                     taxId=9606,\n",
      "                                     organismScientificName='Homo sapiens',\n",
      "                                     uniprotStart=1,\n",
      "                                     uniprotEnd=467,\n",
      "                                     uniprotSequence='MTMLLDGGPQFPGLGVGSFGAPRHHEMPNREPAGMGLNPFGDSTHAAAAAAAAAAFKLSPAAAHDLSSGQSSAFTPQGSGYANALGHHHHHHHHHHHTSQVPSYGGAASAAFNSTREFLFRQRSSGLSEAASGGGQHGLFAGSASSLHAPAGIPEPPSYLLFPGLHEQGAGHPSPTGHVDNNQVHLGLRGELFGRADPYRPVASPRTDPYAAGAQFPNYSPMNMNMGVNVAAHHGPGAFFRYMRQPIKQELSCKWIDEAQLSRPKKSCDRTFSTMHELVTHVTMEHVGGPEQNNHVCYWEECPREGKSFKAKYKLVNHIRVHTGEKPFPCPFPGCGKIFARSENLKIHKRTHTGEKPFKCEFEGCDRRFANSSDRKKHMHVHTSDKPYICKVCDKSYTHPSSLRKHMKVHESQGSDSSPAASSGYESSTPPAIASANSKDTTKTPSAVQTSTSHNPGLPPNFNEWYV',\n",
      "                                     modelCreatedDate='2022-06-01',\n",
      "                                     latestVersion=4,\n",
      "                                     allVersions=[1, 2, 3, 4],\n",
      "                                     bcifUrl='https://alphafold.ebi.ac.uk/files/AF-O60481-F1-model_v4.bcif',\n",
      "                                     cifUrl='https://alphafold.ebi.ac.uk/files/AF-O60481-F1-model_v4.cif',\n",
      "                                     pdbUrl='https://alphafold.ebi.ac.uk/files/AF-O60481-F1-model_v4.pdb',\n",
      "                                     paeImageUrl='https://alphafold.ebi.ac.uk/files/AF-O60481-F1-predicted_aligned_error_v4.png',\n",
      "                                     paeDocUrl='https://alphafold.ebi.ac.uk/files/AF-O60481-F1-predicted_aligned_error_v4.json',\n",
      "                                     amAnnotationsUrl='https://alphafold.ebi.ac.uk/files/AF-O60481-F1-aa-substitutions.csv',\n",
      "                                     amAnnotationsHg19Url='https://alphafold.ebi.ac.uk/files/AF-O60481-F1-hg19.csv',\n",
      "                                     amAnnotationsHg38Url='https://alphafold.ebi.ac.uk/files/AF-O60481-F1-hg38.csv',\n",
      "                                     isReviewed=True,\n",
      "                                     isReferenceProteome=True),\n",
      "                pdb_file=PosixPath('alphafold_files/AF-O60481-F1-model_v4.pdb'),\n",
      "                pae_file=PosixPath('alphafold_files/AF-O60481-F1-predicted_aligned_error_v4.json'))]\n"
     ]
    }
   ],
   "source": [
    "pprint(summaries)"
   ]
  },
  {
   "cell_type": "code",
   "execution_count": 16,
   "id": "cf84047e",
   "metadata": {},
   "outputs": [],
   "source": [
    "from protein_detective.alphafold.density import filter_out_low_confidence_residues, find_high_confidence_residues"
   ]
  },
  {
   "cell_type": "code",
   "execution_count": 15,
   "id": "2a9da970",
   "metadata": {},
   "outputs": [
    {
     "data": {
      "text/plain": [
       "214"
      ]
     },
     "execution_count": 15,
     "metadata": {},
     "output_type": "execute_result"
    }
   ],
   "source": [
    "pdb_file = summaries[0].pdb_file\n",
    "residues = set(find_high_confidence_residues(pdb_file, 70))\n",
    "len(residues)"
   ]
  },
  {
   "cell_type": "code",
   "execution_count": 18,
   "id": "da7547c5",
   "metadata": {},
   "outputs": [
    {
     "data": {
      "text/plain": [
       "PosixPath('density_filtered/AF-A1YPR0-F1-model_v4.pdb')"
      ]
     },
     "execution_count": 18,
     "metadata": {},
     "output_type": "execute_result"
    }
   ],
   "source": [
    "out_dir = Path(\"density_filtered\")\n",
    "out_dir.mkdir(exist_ok=True, parents=True)\n",
    "out_file = out_dir / pdb_file.name\n",
    "out_file"
   ]
  },
  {
   "cell_type": "code",
   "execution_count": 19,
   "id": "da5831c8",
   "metadata": {},
   "outputs": [],
   "source": [
    "filter_out_low_confidence_residues(pdb_file, residues, out_file)"
   ]
  },
  {
   "cell_type": "code",
   "execution_count": 22,
   "id": "97c363e1",
   "metadata": {},
   "outputs": [
    {
     "name": "stdout",
     "output_type": "stream",
     "text": [
      "392K alphafold_files/AF-A1YPR0-F1-model_v4.pdb\n",
      "148K density_filtered/AF-A1YPR0-F1-model_v4.pdb\n"
     ]
    }
   ],
   "source": [
    "!ls -sh {pdb_file} {out_file}"
   ]
  },
  {
   "cell_type": "code",
   "execution_count": 22,
   "id": "894e282e",
   "metadata": {},
   "outputs": [
    {
     "data": {
      "text/plain": [
       "275"
      ]
     },
     "execution_count": 22,
     "metadata": {},
     "output_type": "execute_result"
    }
   ],
   "source": [
    "residues50 = set(find_high_confidence_residues(pdb_file, 50))\n",
    "len(residues50)"
   ]
  },
  {
   "cell_type": "code",
   "execution_count": 24,
   "id": "591ed0c0",
   "metadata": {},
   "outputs": [
    {
     "data": {
      "text/plain": [
       "22"
      ]
     },
     "execution_count": 24,
     "metadata": {},
     "output_type": "execute_result"
    }
   ],
   "source": [
    "residues90 = set(find_high_confidence_residues(pdb_file, 90))\n",
    "len(residues90)"
   ]
  },
  {
   "cell_type": "code",
   "execution_count": 26,
   "id": "0ffc0580",
   "metadata": {},
   "outputs": [],
   "source": [
    "filter_out_low_confidence_residues(pdb_file, residues90, out_file.with_suffix(\".90.pdb\"))"
   ]
  },
  {
   "cell_type": "code",
   "execution_count": 27,
   "id": "adae9acf",
   "metadata": {},
   "outputs": [
    {
     "name": "stdout",
     "output_type": "stream",
     "text": [
      "392K alphafold_files/AF-A1YPR0-F1-model_v4.pdb\n",
      " 24K density_filtered/AF-A1YPR0-F1-model_v4.90.pdb\n",
      "148K density_filtered/AF-A1YPR0-F1-model_v4.pdb\n"
     ]
    }
   ],
   "source": [
    "!ls -sh {pdb_file} {out_file} {out_file.with_suffix(\".90.pdb\")}"
   ]
  },
  {
   "cell_type": "code",
   "execution_count": null,
   "id": "0a17803b",
   "metadata": {},
   "outputs": [],
   "source": []
  }
 ],
 "metadata": {
  "kernelspec": {
   "display_name": ".venv",
   "language": "python",
   "name": "python3"
  },
  "language_info": {
   "codemirror_mode": {
    "name": "ipython",
    "version": 3
   },
   "file_extension": ".py",
   "mimetype": "text/x-python",
   "name": "python",
   "nbconvert_exporter": "python",
   "pygments_lexer": "ipython3",
   "version": "3.13.2"
  }
 },
 "nbformat": 4,
 "nbformat_minor": 5
}
