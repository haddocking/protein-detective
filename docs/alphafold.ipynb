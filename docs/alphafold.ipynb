{
 "cells": [
  {
   "cell_type": "markdown",
   "id": "24b1926c",
   "metadata": {},
   "source": [
    "# Alphafold fetcher"
   ]
  },
  {
   "cell_type": "code",
   "execution_count": 1,
   "id": "681ba946",
   "metadata": {},
   "outputs": [],
   "source": [
    "from pathlib import Path\n",
    "\n",
    "from protein_detective.alphafold import fetch"
   ]
  },
  {
   "cell_type": "code",
   "execution_count": 2,
   "id": "5c2e6ee3",
   "metadata": {},
   "outputs": [],
   "source": [
    "save_dir = Path(\"alphafold_files\")"
   ]
  },
  {
   "cell_type": "code",
   "execution_count": 5,
   "id": "f7ee37ab",
   "metadata": {},
   "outputs": [
    {
     "name": "stderr",
     "output_type": "stream",
     "text": [
      "Downloading files: 100%|██████████| 2/2 [00:00<00:00, 12318.07it/s]\n",
      "Downloading files: 100%|██████████| 2/2 [00:00<00:00, 13168.93it/s]\n",
      "Downloading files: 100%|██████████| 2/2 [00:00<00:00, 13443.28it/s]\n"
     ]
    }
   ],
   "source": [
    "await fetch([\"A1YPR0\", \"O60481\"], save_dir)"
   ]
  },
  {
   "cell_type": "code",
   "execution_count": null,
   "id": "af960cd9",
   "metadata": {},
   "outputs": [],
   "source": []
  }
 ],
 "metadata": {
  "kernelspec": {
   "display_name": ".venv",
   "language": "python",
   "name": "python3"
  },
  "language_info": {
   "codemirror_mode": {
    "name": "ipython",
    "version": 3
   },
   "file_extension": ".py",
   "mimetype": "text/x-python",
   "name": "python",
   "nbconvert_exporter": "python",
   "pygments_lexer": "ipython3",
   "version": "3.13.2"
  }
 },
 "nbformat": 4,
 "nbformat_minor": 5
}
