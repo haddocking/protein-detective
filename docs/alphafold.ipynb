{
 "cells": [
  {
   "cell_type": "markdown",
   "id": "24b1926c",
   "metadata": {},
   "source": [
    "# Alphafold fetcher"
   ]
  },
  {
   "cell_type": "code",
   "execution_count": 5,
   "id": "681ba946",
   "metadata": {},
   "outputs": [],
   "source": [
    "from pathlib import Path\n",
    "\n",
    "from rich import print  # noqa: A004\n",
    "\n",
    "from protein_detective.alphafold import fetch"
   ]
  },
  {
   "cell_type": "code",
   "execution_count": 6,
   "id": "5c2e6ee3",
   "metadata": {},
   "outputs": [],
   "source": [
    "save_dir = Path(\"alphafold_files\")"
   ]
  },
  {
   "cell_type": "code",
   "execution_count": 7,
   "id": "f7ee37ab",
   "metadata": {},
   "outputs": [
    {
     "name": "stderr",
     "output_type": "stream",
     "text": [
      "Downloading files: 100%|██████████| 2/2 [00:00<00:00, 3644.05it/s]\n",
      "Downloading files: 100%|██████████| 2/2 [00:00<00:00, 9157.87it/s]\n",
      "100%|██████████| 2/2 [00:00<00:00,  6.33it/s]\n"
     ]
    }
   ],
   "source": [
    "summaries = [s async for s in fetch([\"A1YPR0\", \"O60481\"], save_dir)]  # noqa: PLE1142\n"
   ]
  },
  {
   "cell_type": "code",
   "execution_count": 8,
   "id": "af960cd9",
   "metadata": {},
   "outputs": [
    {
     "data": {
      "text/html": [
       "<pre style=\"white-space:pre;overflow-x:auto;line-height:normal;font-family:Menlo,'DejaVu Sans Mono',consolas,'Courier New',monospace\"><span style=\"font-weight: bold\">[</span>\n",
       "    <span style=\"color: #800080; text-decoration-color: #800080; font-weight: bold\">AlphaFoldEntry</span><span style=\"font-weight: bold\">(</span>\n",
       "        <span style=\"color: #808000; text-decoration-color: #808000\">summary</span>=<span style=\"color: #800080; text-decoration-color: #800080; font-weight: bold\">EntrySummary</span><span style=\"font-weight: bold\">(</span>\n",
       "            <span style=\"color: #808000; text-decoration-color: #808000\">entry_id</span>=<span style=\"color: #008000; text-decoration-color: #008000\">'AF-A1YPR0-F1'</span>,\n",
       "            <span style=\"color: #808000; text-decoration-color: #808000\">gene</span>=<span style=\"color: #008000; text-decoration-color: #008000\">'ZBTB7C'</span>,\n",
       "            <span style=\"color: #808000; text-decoration-color: #808000\">sequence_checksum</span>=<span style=\"color: #008000; text-decoration-color: #008000\">'73D82A34502B55BF'</span>,\n",
       "            <span style=\"color: #808000; text-decoration-color: #808000\">sequence_version_date</span>=<span style=\"color: #008000; text-decoration-color: #008000\">'2007-02-06'</span>,\n",
       "            <span style=\"color: #808000; text-decoration-color: #808000\">uniprot_accession</span>=<span style=\"color: #008000; text-decoration-color: #008000\">'A1YPR0'</span>,\n",
       "            <span style=\"color: #808000; text-decoration-color: #808000\">uniprot_id</span>=<span style=\"color: #008000; text-decoration-color: #008000\">'ZBT7C_HUMAN'</span>,\n",
       "            <span style=\"color: #808000; text-decoration-color: #808000\">uniprot_description</span>=<span style=\"color: #008000; text-decoration-color: #008000\">'Zinc finger and BTB domain-containing protein 7C'</span>,\n",
       "            <span style=\"color: #808000; text-decoration-color: #808000\">tax_id</span>=<span style=\"color: #008080; text-decoration-color: #008080; font-weight: bold\">9606</span>,\n",
       "            <span style=\"color: #808000; text-decoration-color: #808000\">organism_scientific_name</span>=<span style=\"color: #008000; text-decoration-color: #008000\">'Homo sapiens'</span>,\n",
       "            <span style=\"color: #808000; text-decoration-color: #808000\">uniprot_start</span>=<span style=\"color: #008080; text-decoration-color: #008080; font-weight: bold\">1</span>,\n",
       "            <span style=\"color: #808000; text-decoration-color: #808000\">uniprot_end</span>=<span style=\"color: #008080; text-decoration-color: #008080; font-weight: bold\">619</span>,\n",
       "            <span style=\"color: #808000; text-decoration-color: #808000\">uniprot_sequence</span>=<span style=\"color: #008000; text-decoration-color: #008000\">'MANDIDELIGIPFPNHSSEVLCSLNEQRHDGLLCDVLLVVQEQEYRTHRSVLAACSKYFKKLFTAGTLASQPYVYEIDFVQPEAL</span>\n",
       "<span style=\"color: #008000; text-decoration-color: #008000\">AAILEFAYTSTLTITAGNVKHILNAARMLEIQCIVNVCLEIMEPGGDGGEEDDKEDDDDDEDDDDEEDEEEEEEEEEDDDDDTEDFADQENLPDPQDISCHQSPSKTDHLTEKAY</span>\n",
       "<span style=\"color: #008000; text-decoration-color: #008000\">SDTPRDFPDSFQAGSPGHLGVIRDFSIESLLRENLYPKANIPDRRPSLSPFAPDFFPHLWPGDFGAFAQLPEQPMDSGPLDLVIKNRKIKEEEKEELPPPPPPPFPNDFFKDMFP</span>\n",
       "<span style=\"color: #008000; text-decoration-color: #008000\">DLPGGPLGPIKAENDYGAYLNFLSATHLGGLFPPWPLVEERKLKPKASQQCPICHKVIMGAGKLPRHMRTHTGEKPYMCTICEVRFTRQDKLKIHMRKHTGERPYLCIHCNAKFV</span>\n",
       "<span style=\"color: #008000; text-decoration-color: #008000\">HNYDLKNHMRIHTGVRPYQCEFCYKSFTRSDHLHRHIKRQSCRMARPRRGRKPAAWRAASLLFGPGGPAPDKAAFVMPPALGEVGGHLGGAAVCLPGPSPAKHFLAAPKGALSLQ</span>\n",
       "<span style=\"color: #008000; text-decoration-color: #008000\">ELERQFEETQMKLFGRAQLEAERNAGGLLAFALAENVAAARPYFPLPDPWAAGLAGLPGLAGLNHVASMSEANN'</span>,\n",
       "            <span style=\"color: #808000; text-decoration-color: #808000\">model_created_date</span>=<span style=\"color: #008000; text-decoration-color: #008000\">'2022-06-01'</span>,\n",
       "            <span style=\"color: #808000; text-decoration-color: #808000\">latest_version</span>=<span style=\"color: #008080; text-decoration-color: #008080; font-weight: bold\">4</span>,\n",
       "            <span style=\"color: #808000; text-decoration-color: #808000\">all_versions</span>=<span style=\"font-weight: bold\">[</span><span style=\"color: #008080; text-decoration-color: #008080; font-weight: bold\">1</span>, <span style=\"color: #008080; text-decoration-color: #008080; font-weight: bold\">2</span>, <span style=\"color: #008080; text-decoration-color: #008080; font-weight: bold\">3</span>, <span style=\"color: #008080; text-decoration-color: #008080; font-weight: bold\">4</span><span style=\"font-weight: bold\">]</span>,\n",
       "            <span style=\"color: #808000; text-decoration-color: #808000\">bcif_url</span>=<span style=\"color: #008000; text-decoration-color: #008000\">'https://alphafold.ebi.ac.uk/files/AF-A1YPR0-F1-model_v4.bcif'</span>,\n",
       "            <span style=\"color: #808000; text-decoration-color: #808000\">cif_url</span>=<span style=\"color: #008000; text-decoration-color: #008000\">'https://alphafold.ebi.ac.uk/files/AF-A1YPR0-F1-model_v4.cif'</span>,\n",
       "            <span style=\"color: #808000; text-decoration-color: #808000\">pdb_url</span>=<span style=\"color: #008000; text-decoration-color: #008000\">'https://alphafold.ebi.ac.uk/files/AF-A1YPR0-F1-model_v4.pdb'</span>,\n",
       "            <span style=\"color: #808000; text-decoration-color: #808000\">pae_image_url</span>=<span style=\"color: #008000; text-decoration-color: #008000\">'https://alphafold.ebi.ac.uk/files/AF-A1YPR0-F1-predicted_aligned_error_v4.png'</span>,\n",
       "            <span style=\"color: #808000; text-decoration-color: #808000\">pae_doc_url</span>=<span style=\"color: #008000; text-decoration-color: #008000\">'https://alphafold.ebi.ac.uk/files/AF-A1YPR0-F1-predicted_aligned_error_v4.json'</span>,\n",
       "            <span style=\"color: #808000; text-decoration-color: #808000\">am_annotations_url</span>=<span style=\"color: #008000; text-decoration-color: #008000\">'https://alphafold.ebi.ac.uk/files/AF-A1YPR0-F1-aa-substitutions.csv'</span>,\n",
       "            <span style=\"color: #808000; text-decoration-color: #808000\">am_annotations_hg19_url</span>=<span style=\"color: #008000; text-decoration-color: #008000\">'https://alphafold.ebi.ac.uk/files/AF-A1YPR0-F1-hg19.csv'</span>,\n",
       "            <span style=\"color: #808000; text-decoration-color: #808000\">am_annotations_hg38_url</span>=<span style=\"color: #008000; text-decoration-color: #008000\">'https://alphafold.ebi.ac.uk/files/AF-A1YPR0-F1-hg38.csv'</span>,\n",
       "            <span style=\"color: #808000; text-decoration-color: #808000\">is_reviewed</span>=<span style=\"color: #00ff00; text-decoration-color: #00ff00; font-style: italic\">True</span>,\n",
       "            <span style=\"color: #808000; text-decoration-color: #808000\">is_reference_proteome</span>=<span style=\"color: #00ff00; text-decoration-color: #00ff00; font-style: italic\">True</span>\n",
       "        <span style=\"font-weight: bold\">)</span>,\n",
       "        <span style=\"color: #808000; text-decoration-color: #808000\">pdb_file</span>=<span style=\"color: #800080; text-decoration-color: #800080; font-weight: bold\">PosixPath</span><span style=\"font-weight: bold\">(</span><span style=\"color: #008000; text-decoration-color: #008000\">'alphafold_files/AF-A1YPR0-F1-model_v4.pdb'</span><span style=\"font-weight: bold\">)</span>,\n",
       "        <span style=\"color: #808000; text-decoration-color: #808000\">pae_file</span>=<span style=\"color: #800080; text-decoration-color: #800080; font-weight: bold\">PosixPath</span><span style=\"font-weight: bold\">(</span><span style=\"color: #008000; text-decoration-color: #008000\">'alphafold_files/AF-A1YPR0-F1-predicted_aligned_error_v4.json'</span><span style=\"font-weight: bold\">)</span>\n",
       "    <span style=\"font-weight: bold\">)</span>,\n",
       "    <span style=\"color: #800080; text-decoration-color: #800080; font-weight: bold\">AlphaFoldEntry</span><span style=\"font-weight: bold\">(</span>\n",
       "        <span style=\"color: #808000; text-decoration-color: #808000\">summary</span>=<span style=\"color: #800080; text-decoration-color: #800080; font-weight: bold\">EntrySummary</span><span style=\"font-weight: bold\">(</span>\n",
       "            <span style=\"color: #808000; text-decoration-color: #808000\">entry_id</span>=<span style=\"color: #008000; text-decoration-color: #008000\">'AF-O60481-F1'</span>,\n",
       "            <span style=\"color: #808000; text-decoration-color: #808000\">gene</span>=<span style=\"color: #008000; text-decoration-color: #008000\">'ZIC3'</span>,\n",
       "            <span style=\"color: #808000; text-decoration-color: #808000\">sequence_checksum</span>=<span style=\"color: #008000; text-decoration-color: #008000\">'3150CF13C0679568'</span>,\n",
       "            <span style=\"color: #808000; text-decoration-color: #808000\">sequence_version_date</span>=<span style=\"color: #008000; text-decoration-color: #008000\">'1998-08-01'</span>,\n",
       "            <span style=\"color: #808000; text-decoration-color: #808000\">uniprot_accession</span>=<span style=\"color: #008000; text-decoration-color: #008000\">'O60481'</span>,\n",
       "            <span style=\"color: #808000; text-decoration-color: #808000\">uniprot_id</span>=<span style=\"color: #008000; text-decoration-color: #008000\">'ZIC3_HUMAN'</span>,\n",
       "            <span style=\"color: #808000; text-decoration-color: #808000\">uniprot_description</span>=<span style=\"color: #008000; text-decoration-color: #008000\">'Zinc finger protein ZIC 3'</span>,\n",
       "            <span style=\"color: #808000; text-decoration-color: #808000\">tax_id</span>=<span style=\"color: #008080; text-decoration-color: #008080; font-weight: bold\">9606</span>,\n",
       "            <span style=\"color: #808000; text-decoration-color: #808000\">organism_scientific_name</span>=<span style=\"color: #008000; text-decoration-color: #008000\">'Homo sapiens'</span>,\n",
       "            <span style=\"color: #808000; text-decoration-color: #808000\">uniprot_start</span>=<span style=\"color: #008080; text-decoration-color: #008080; font-weight: bold\">1</span>,\n",
       "            <span style=\"color: #808000; text-decoration-color: #808000\">uniprot_end</span>=<span style=\"color: #008080; text-decoration-color: #008080; font-weight: bold\">467</span>,\n",
       "            <span style=\"color: #808000; text-decoration-color: #808000\">uniprot_sequence</span>=<span style=\"color: #008000; text-decoration-color: #008000\">'MTMLLDGGPQFPGLGVGSFGAPRHHEMPNREPAGMGLNPFGDSTHAAAAAAAAAAFKLSPAAAHDLSSGQSSAFTPQGSGYANAL</span>\n",
       "<span style=\"color: #008000; text-decoration-color: #008000\">GHHHHHHHHHHHTSQVPSYGGAASAAFNSTREFLFRQRSSGLSEAASGGGQHGLFAGSASSLHAPAGIPEPPSYLLFPGLHEQGAGHPSPTGHVDNNQVHLGLRGELFGRADPYR</span>\n",
       "<span style=\"color: #008000; text-decoration-color: #008000\">PVASPRTDPYAAGAQFPNYSPMNMNMGVNVAAHHGPGAFFRYMRQPIKQELSCKWIDEAQLSRPKKSCDRTFSTMHELVTHVTMEHVGGPEQNNHVCYWEECPREGKSFKAKYKL</span>\n",
       "<span style=\"color: #008000; text-decoration-color: #008000\">VNHIRVHTGEKPFPCPFPGCGKIFARSENLKIHKRTHTGEKPFKCEFEGCDRRFANSSDRKKHMHVHTSDKPYICKVCDKSYTHPSSLRKHMKVHESQGSDSSPAASSGYESSTP</span>\n",
       "<span style=\"color: #008000; text-decoration-color: #008000\">PAIASANSKDTTKTPSAVQTSTSHNPGLPPNFNEWYV'</span>,\n",
       "            <span style=\"color: #808000; text-decoration-color: #808000\">model_created_date</span>=<span style=\"color: #008000; text-decoration-color: #008000\">'2022-06-01'</span>,\n",
       "            <span style=\"color: #808000; text-decoration-color: #808000\">latest_version</span>=<span style=\"color: #008080; text-decoration-color: #008080; font-weight: bold\">4</span>,\n",
       "            <span style=\"color: #808000; text-decoration-color: #808000\">all_versions</span>=<span style=\"font-weight: bold\">[</span><span style=\"color: #008080; text-decoration-color: #008080; font-weight: bold\">1</span>, <span style=\"color: #008080; text-decoration-color: #008080; font-weight: bold\">2</span>, <span style=\"color: #008080; text-decoration-color: #008080; font-weight: bold\">3</span>, <span style=\"color: #008080; text-decoration-color: #008080; font-weight: bold\">4</span><span style=\"font-weight: bold\">]</span>,\n",
       "            <span style=\"color: #808000; text-decoration-color: #808000\">bcif_url</span>=<span style=\"color: #008000; text-decoration-color: #008000\">'https://alphafold.ebi.ac.uk/files/AF-O60481-F1-model_v4.bcif'</span>,\n",
       "            <span style=\"color: #808000; text-decoration-color: #808000\">cif_url</span>=<span style=\"color: #008000; text-decoration-color: #008000\">'https://alphafold.ebi.ac.uk/files/AF-O60481-F1-model_v4.cif'</span>,\n",
       "            <span style=\"color: #808000; text-decoration-color: #808000\">pdb_url</span>=<span style=\"color: #008000; text-decoration-color: #008000\">'https://alphafold.ebi.ac.uk/files/AF-O60481-F1-model_v4.pdb'</span>,\n",
       "            <span style=\"color: #808000; text-decoration-color: #808000\">pae_image_url</span>=<span style=\"color: #008000; text-decoration-color: #008000\">'https://alphafold.ebi.ac.uk/files/AF-O60481-F1-predicted_aligned_error_v4.png'</span>,\n",
       "            <span style=\"color: #808000; text-decoration-color: #808000\">pae_doc_url</span>=<span style=\"color: #008000; text-decoration-color: #008000\">'https://alphafold.ebi.ac.uk/files/AF-O60481-F1-predicted_aligned_error_v4.json'</span>,\n",
       "            <span style=\"color: #808000; text-decoration-color: #808000\">am_annotations_url</span>=<span style=\"color: #008000; text-decoration-color: #008000\">'https://alphafold.ebi.ac.uk/files/AF-O60481-F1-aa-substitutions.csv'</span>,\n",
       "            <span style=\"color: #808000; text-decoration-color: #808000\">am_annotations_hg19_url</span>=<span style=\"color: #008000; text-decoration-color: #008000\">'https://alphafold.ebi.ac.uk/files/AF-O60481-F1-hg19.csv'</span>,\n",
       "            <span style=\"color: #808000; text-decoration-color: #808000\">am_annotations_hg38_url</span>=<span style=\"color: #008000; text-decoration-color: #008000\">'https://alphafold.ebi.ac.uk/files/AF-O60481-F1-hg38.csv'</span>,\n",
       "            <span style=\"color: #808000; text-decoration-color: #808000\">is_reviewed</span>=<span style=\"color: #00ff00; text-decoration-color: #00ff00; font-style: italic\">True</span>,\n",
       "            <span style=\"color: #808000; text-decoration-color: #808000\">is_reference_proteome</span>=<span style=\"color: #00ff00; text-decoration-color: #00ff00; font-style: italic\">True</span>\n",
       "        <span style=\"font-weight: bold\">)</span>,\n",
       "        <span style=\"color: #808000; text-decoration-color: #808000\">pdb_file</span>=<span style=\"color: #800080; text-decoration-color: #800080; font-weight: bold\">PosixPath</span><span style=\"font-weight: bold\">(</span><span style=\"color: #008000; text-decoration-color: #008000\">'alphafold_files/AF-O60481-F1-model_v4.pdb'</span><span style=\"font-weight: bold\">)</span>,\n",
       "        <span style=\"color: #808000; text-decoration-color: #808000\">pae_file</span>=<span style=\"color: #800080; text-decoration-color: #800080; font-weight: bold\">PosixPath</span><span style=\"font-weight: bold\">(</span><span style=\"color: #008000; text-decoration-color: #008000\">'alphafold_files/AF-O60481-F1-predicted_aligned_error_v4.json'</span><span style=\"font-weight: bold\">)</span>\n",
       "    <span style=\"font-weight: bold\">)</span>\n",
       "<span style=\"font-weight: bold\">]</span>\n",
       "</pre>\n"
      ],
      "text/plain": [
       "\u001b[1m[\u001b[0m\n",
       "    \u001b[1;35mAlphaFoldEntry\u001b[0m\u001b[1m(\u001b[0m\n",
       "        \u001b[33msummary\u001b[0m=\u001b[1;35mEntrySummary\u001b[0m\u001b[1m(\u001b[0m\n",
       "            \u001b[33mentry_id\u001b[0m=\u001b[32m'AF-A1YPR0-F1'\u001b[0m,\n",
       "            \u001b[33mgene\u001b[0m=\u001b[32m'ZBTB7C'\u001b[0m,\n",
       "            \u001b[33msequence_checksum\u001b[0m=\u001b[32m'73D82A34502B55BF'\u001b[0m,\n",
       "            \u001b[33msequence_version_date\u001b[0m=\u001b[32m'2007-02-06'\u001b[0m,\n",
       "            \u001b[33muniprot_accession\u001b[0m=\u001b[32m'A1YPR0'\u001b[0m,\n",
       "            \u001b[33muniprot_id\u001b[0m=\u001b[32m'ZBT7C_HUMAN'\u001b[0m,\n",
       "            \u001b[33muniprot_description\u001b[0m=\u001b[32m'Zinc finger and BTB domain-containing protein 7C'\u001b[0m,\n",
       "            \u001b[33mtax_id\u001b[0m=\u001b[1;36m9606\u001b[0m,\n",
       "            \u001b[33morganism_scientific_name\u001b[0m=\u001b[32m'Homo sapiens'\u001b[0m,\n",
       "            \u001b[33muniprot_start\u001b[0m=\u001b[1;36m1\u001b[0m,\n",
       "            \u001b[33muniprot_end\u001b[0m=\u001b[1;36m619\u001b[0m,\n",
       "            \u001b[33muniprot_sequence\u001b[0m=\u001b[32m'MANDIDELIGIPFPNHSSEVLCSLNEQRHDGLLCDVLLVVQEQEYRTHRSVLAACSKYFKKLFTAGTLASQPYVYEIDFVQPEAL\u001b[0m\n",
       "\u001b[32mAAILEFAYTSTLTITAGNVKHILNAARMLEIQCIVNVCLEIMEPGGDGGEEDDKEDDDDDEDDDDEEDEEEEEEEEEDDDDDTEDFADQENLPDPQDISCHQSPSKTDHLTEKAY\u001b[0m\n",
       "\u001b[32mSDTPRDFPDSFQAGSPGHLGVIRDFSIESLLRENLYPKANIPDRRPSLSPFAPDFFPHLWPGDFGAFAQLPEQPMDSGPLDLVIKNRKIKEEEKEELPPPPPPPFPNDFFKDMFP\u001b[0m\n",
       "\u001b[32mDLPGGPLGPIKAENDYGAYLNFLSATHLGGLFPPWPLVEERKLKPKASQQCPICHKVIMGAGKLPRHMRTHTGEKPYMCTICEVRFTRQDKLKIHMRKHTGERPYLCIHCNAKFV\u001b[0m\n",
       "\u001b[32mHNYDLKNHMRIHTGVRPYQCEFCYKSFTRSDHLHRHIKRQSCRMARPRRGRKPAAWRAASLLFGPGGPAPDKAAFVMPPALGEVGGHLGGAAVCLPGPSPAKHFLAAPKGALSLQ\u001b[0m\n",
       "\u001b[32mELERQFEETQMKLFGRAQLEAERNAGGLLAFALAENVAAARPYFPLPDPWAAGLAGLPGLAGLNHVASMSEANN'\u001b[0m,\n",
       "            \u001b[33mmodel_created_date\u001b[0m=\u001b[32m'2022-06-01'\u001b[0m,\n",
       "            \u001b[33mlatest_version\u001b[0m=\u001b[1;36m4\u001b[0m,\n",
       "            \u001b[33mall_versions\u001b[0m=\u001b[1m[\u001b[0m\u001b[1;36m1\u001b[0m, \u001b[1;36m2\u001b[0m, \u001b[1;36m3\u001b[0m, \u001b[1;36m4\u001b[0m\u001b[1m]\u001b[0m,\n",
       "            \u001b[33mbcif_url\u001b[0m=\u001b[32m'https://alphafold.ebi.ac.uk/files/AF-A1YPR0-F1-model_v4.bcif'\u001b[0m,\n",
       "            \u001b[33mcif_url\u001b[0m=\u001b[32m'https://alphafold.ebi.ac.uk/files/AF-A1YPR0-F1-model_v4.cif'\u001b[0m,\n",
       "            \u001b[33mpdb_url\u001b[0m=\u001b[32m'https://alphafold.ebi.ac.uk/files/AF-A1YPR0-F1-model_v4.pdb'\u001b[0m,\n",
       "            \u001b[33mpae_image_url\u001b[0m=\u001b[32m'https://alphafold.ebi.ac.uk/files/AF-A1YPR0-F1-predicted_aligned_error_v4.png'\u001b[0m,\n",
       "            \u001b[33mpae_doc_url\u001b[0m=\u001b[32m'https://alphafold.ebi.ac.uk/files/AF-A1YPR0-F1-predicted_aligned_error_v4.json'\u001b[0m,\n",
       "            \u001b[33mam_annotations_url\u001b[0m=\u001b[32m'https://alphafold.ebi.ac.uk/files/AF-A1YPR0-F1-aa-substitutions.csv'\u001b[0m,\n",
       "            \u001b[33mam_annotations_hg19_url\u001b[0m=\u001b[32m'https://alphafold.ebi.ac.uk/files/AF-A1YPR0-F1-hg19.csv'\u001b[0m,\n",
       "            \u001b[33mam_annotations_hg38_url\u001b[0m=\u001b[32m'https://alphafold.ebi.ac.uk/files/AF-A1YPR0-F1-hg38.csv'\u001b[0m,\n",
       "            \u001b[33mis_reviewed\u001b[0m=\u001b[3;92mTrue\u001b[0m,\n",
       "            \u001b[33mis_reference_proteome\u001b[0m=\u001b[3;92mTrue\u001b[0m\n",
       "        \u001b[1m)\u001b[0m,\n",
       "        \u001b[33mpdb_file\u001b[0m=\u001b[1;35mPosixPath\u001b[0m\u001b[1m(\u001b[0m\u001b[32m'alphafold_files/AF-A1YPR0-F1-model_v4.pdb'\u001b[0m\u001b[1m)\u001b[0m,\n",
       "        \u001b[33mpae_file\u001b[0m=\u001b[1;35mPosixPath\u001b[0m\u001b[1m(\u001b[0m\u001b[32m'alphafold_files/AF-A1YPR0-F1-predicted_aligned_error_v4.json'\u001b[0m\u001b[1m)\u001b[0m\n",
       "    \u001b[1m)\u001b[0m,\n",
       "    \u001b[1;35mAlphaFoldEntry\u001b[0m\u001b[1m(\u001b[0m\n",
       "        \u001b[33msummary\u001b[0m=\u001b[1;35mEntrySummary\u001b[0m\u001b[1m(\u001b[0m\n",
       "            \u001b[33mentry_id\u001b[0m=\u001b[32m'AF-O60481-F1'\u001b[0m,\n",
       "            \u001b[33mgene\u001b[0m=\u001b[32m'ZIC3'\u001b[0m,\n",
       "            \u001b[33msequence_checksum\u001b[0m=\u001b[32m'3150CF13C0679568'\u001b[0m,\n",
       "            \u001b[33msequence_version_date\u001b[0m=\u001b[32m'1998-08-01'\u001b[0m,\n",
       "            \u001b[33muniprot_accession\u001b[0m=\u001b[32m'O60481'\u001b[0m,\n",
       "            \u001b[33muniprot_id\u001b[0m=\u001b[32m'ZIC3_HUMAN'\u001b[0m,\n",
       "            \u001b[33muniprot_description\u001b[0m=\u001b[32m'Zinc finger protein ZIC 3'\u001b[0m,\n",
       "            \u001b[33mtax_id\u001b[0m=\u001b[1;36m9606\u001b[0m,\n",
       "            \u001b[33morganism_scientific_name\u001b[0m=\u001b[32m'Homo sapiens'\u001b[0m,\n",
       "            \u001b[33muniprot_start\u001b[0m=\u001b[1;36m1\u001b[0m,\n",
       "            \u001b[33muniprot_end\u001b[0m=\u001b[1;36m467\u001b[0m,\n",
       "            \u001b[33muniprot_sequence\u001b[0m=\u001b[32m'MTMLLDGGPQFPGLGVGSFGAPRHHEMPNREPAGMGLNPFGDSTHAAAAAAAAAAFKLSPAAAHDLSSGQSSAFTPQGSGYANAL\u001b[0m\n",
       "\u001b[32mGHHHHHHHHHHHTSQVPSYGGAASAAFNSTREFLFRQRSSGLSEAASGGGQHGLFAGSASSLHAPAGIPEPPSYLLFPGLHEQGAGHPSPTGHVDNNQVHLGLRGELFGRADPYR\u001b[0m\n",
       "\u001b[32mPVASPRTDPYAAGAQFPNYSPMNMNMGVNVAAHHGPGAFFRYMRQPIKQELSCKWIDEAQLSRPKKSCDRTFSTMHELVTHVTMEHVGGPEQNNHVCYWEECPREGKSFKAKYKL\u001b[0m\n",
       "\u001b[32mVNHIRVHTGEKPFPCPFPGCGKIFARSENLKIHKRTHTGEKPFKCEFEGCDRRFANSSDRKKHMHVHTSDKPYICKVCDKSYTHPSSLRKHMKVHESQGSDSSPAASSGYESSTP\u001b[0m\n",
       "\u001b[32mPAIASANSKDTTKTPSAVQTSTSHNPGLPPNFNEWYV'\u001b[0m,\n",
       "            \u001b[33mmodel_created_date\u001b[0m=\u001b[32m'2022-06-01'\u001b[0m,\n",
       "            \u001b[33mlatest_version\u001b[0m=\u001b[1;36m4\u001b[0m,\n",
       "            \u001b[33mall_versions\u001b[0m=\u001b[1m[\u001b[0m\u001b[1;36m1\u001b[0m, \u001b[1;36m2\u001b[0m, \u001b[1;36m3\u001b[0m, \u001b[1;36m4\u001b[0m\u001b[1m]\u001b[0m,\n",
       "            \u001b[33mbcif_url\u001b[0m=\u001b[32m'https://alphafold.ebi.ac.uk/files/AF-O60481-F1-model_v4.bcif'\u001b[0m,\n",
       "            \u001b[33mcif_url\u001b[0m=\u001b[32m'https://alphafold.ebi.ac.uk/files/AF-O60481-F1-model_v4.cif'\u001b[0m,\n",
       "            \u001b[33mpdb_url\u001b[0m=\u001b[32m'https://alphafold.ebi.ac.uk/files/AF-O60481-F1-model_v4.pdb'\u001b[0m,\n",
       "            \u001b[33mpae_image_url\u001b[0m=\u001b[32m'https://alphafold.ebi.ac.uk/files/AF-O60481-F1-predicted_aligned_error_v4.png'\u001b[0m,\n",
       "            \u001b[33mpae_doc_url\u001b[0m=\u001b[32m'https://alphafold.ebi.ac.uk/files/AF-O60481-F1-predicted_aligned_error_v4.json'\u001b[0m,\n",
       "            \u001b[33mam_annotations_url\u001b[0m=\u001b[32m'https://alphafold.ebi.ac.uk/files/AF-O60481-F1-aa-substitutions.csv'\u001b[0m,\n",
       "            \u001b[33mam_annotations_hg19_url\u001b[0m=\u001b[32m'https://alphafold.ebi.ac.uk/files/AF-O60481-F1-hg19.csv'\u001b[0m,\n",
       "            \u001b[33mam_annotations_hg38_url\u001b[0m=\u001b[32m'https://alphafold.ebi.ac.uk/files/AF-O60481-F1-hg38.csv'\u001b[0m,\n",
       "            \u001b[33mis_reviewed\u001b[0m=\u001b[3;92mTrue\u001b[0m,\n",
       "            \u001b[33mis_reference_proteome\u001b[0m=\u001b[3;92mTrue\u001b[0m\n",
       "        \u001b[1m)\u001b[0m,\n",
       "        \u001b[33mpdb_file\u001b[0m=\u001b[1;35mPosixPath\u001b[0m\u001b[1m(\u001b[0m\u001b[32m'alphafold_files/AF-O60481-F1-model_v4.pdb'\u001b[0m\u001b[1m)\u001b[0m,\n",
       "        \u001b[33mpae_file\u001b[0m=\u001b[1;35mPosixPath\u001b[0m\u001b[1m(\u001b[0m\u001b[32m'alphafold_files/AF-O60481-F1-predicted_aligned_error_v4.json'\u001b[0m\u001b[1m)\u001b[0m\n",
       "    \u001b[1m)\u001b[0m\n",
       "\u001b[1m]\u001b[0m\n"
      ]
     },
     "metadata": {},
     "output_type": "display_data"
    }
   ],
   "source": [
    "print(summaries)"
   ]
  },
  {
   "cell_type": "code",
   "execution_count": null,
   "id": "199262d3",
   "metadata": {},
   "outputs": [],
   "source": []
  }
 ],
 "metadata": {
  "kernelspec": {
   "display_name": ".venv",
   "language": "python",
   "name": "python3"
  },
  "language_info": {
   "codemirror_mode": {
    "name": "ipython",
    "version": 3
   },
   "file_extension": ".py",
   "mimetype": "text/x-python",
   "name": "python",
   "nbconvert_exporter": "python",
   "pygments_lexer": "ipython3",
   "version": "3.13.2"
  }
 },
 "nbformat": 4,
 "nbformat_minor": 5
}
